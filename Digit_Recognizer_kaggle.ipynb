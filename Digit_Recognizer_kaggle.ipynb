{
 "cells": [
  {
   "cell_type": "markdown",
   "metadata": {
    "id": "jLjQGkn4zl-F"
   },
   "source": [
    "# Digit Recognizer"
   ]
  },
  {
   "cell_type": "markdown",
   "metadata": {
    "id": "wpKA8KaG5y9Y"
   },
   "source": [
    "## Download datasets from Kaggle"
   ]
  },
  {
   "cell_type": "code",
   "execution_count": 1,
   "metadata": {
    "ExecuteTime": {
     "end_time": "2021-09-30T19:52:50.514120Z",
     "start_time": "2021-09-30T19:52:46.023719Z"
    },
    "colab": {
     "base_uri": "https://localhost:8080/"
    },
    "id": "G_soKPBVDIAZ",
    "outputId": "a92e76e0-f65b-486b-ff4c-cf021d63bec9"
   },
   "outputs": [],
   "source": [
    "# To Make sure latest version of keras is installed\n",
    "!pip install -q -U keras-tuner"
   ]
  },
  {
   "cell_type": "code",
   "execution_count": 1,
   "metadata": {
    "ExecuteTime": {
     "end_time": "2021-10-01T19:12:23.778869Z",
     "start_time": "2021-10-01T19:12:18.972414Z"
    }
   },
   "outputs": [],
   "source": [
    "import tensorflow as tf\n",
    "from tensorflow import keras"
   ]
  },
  {
   "cell_type": "code",
   "execution_count": 2,
   "metadata": {
    "ExecuteTime": {
     "end_time": "2021-10-01T17:20:27.351698Z",
     "start_time": "2021-10-01T17:20:27.333708Z"
    }
   },
   "outputs": [
    {
     "name": "stdout",
     "output_type": "stream",
     "text": [
      "2.0.0\n"
     ]
    }
   ],
   "source": [
    "print(tf. __version__)"
   ]
  },
  {
   "cell_type": "code",
   "execution_count": 3,
   "metadata": {
    "ExecuteTime": {
     "end_time": "2021-09-30T19:57:11.946595Z",
     "start_time": "2021-09-30T19:57:11.926603Z"
    }
   },
   "outputs": [],
   "source": [
    "from tensorflow.keras.utils import to_categorical"
   ]
  },
  {
   "cell_type": "code",
   "execution_count": 2,
   "metadata": {
    "ExecuteTime": {
     "end_time": "2021-10-01T19:27:13.432431Z",
     "start_time": "2021-10-01T19:27:08.627396Z"
    }
   },
   "outputs": [],
   "source": [
    "test_model = keras.models.load_model('digit_recognistion_cnn_model.h5')"
   ]
  },
  {
   "cell_type": "code",
   "execution_count": 1,
   "metadata": {
    "ExecuteTime": {
     "end_time": "2021-10-01T19:27:06.298831Z",
     "start_time": "2021-10-01T19:26:54.997698Z"
    },
    "id": "XwC26Ngf0S25"
   },
   "outputs": [],
   "source": [
    "# Imports \n",
    "import pandas as pd \n",
    "import numpy as np \n",
    "#import seaborn as sns\n",
    "import matplotlib.pyplot as plt\n",
    "import matplotlib.image as img\n",
    "import tensorflow as tf\n",
    "from tensorflow import keras\n",
    "from tensorflow.keras.utils import to_categorical\n",
    "import keras_preprocessing\n",
    "from keras_preprocessing.image import ImageDataGenerator\n",
    "\n",
    "from sklearn.model_selection import train_test_split\n",
    "\n",
    "# for Tunning hyperparameter \n",
    "\n",
    "import keras_tuner as kt\n"
   ]
  },
  {
   "cell_type": "code",
   "execution_count": 6,
   "metadata": {
    "ExecuteTime": {
     "end_time": "2021-09-30T19:58:18.025594Z",
     "start_time": "2021-09-30T19:58:14.681837Z"
    },
    "colab": {
     "base_uri": "https://localhost:8080/",
     "height": 72,
     "resources": {
      "http://localhost:8080/nbextensions/google.colab/files.js": {
       "data": "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",
       "headers": [
        [
         "content-type",
         "application/javascript"
        ]
       ],
       "ok": true,
       "status": 200,
       "status_text": ""
      }
     }
    },
    "id": "LDSWHmdB3rKB",
    "outputId": "76942b5a-7ce7-42fa-d82d-d3f17a0aa5a5"
   },
   "outputs": [
    {
     "name": "stderr",
     "output_type": "stream",
     "text": [
      "The syntax of the command is incorrect.\n",
      "'cp' is not recognized as an internal or external command,\n",
      "operable program or batch file.\n",
      "'chmod' is not recognized as an internal or external command,\n",
      "operable program or batch file.\n"
     ]
    }
   ],
   "source": [
    "# Install kaggle \n",
    "!pip install -q kaggle\n",
    "# Upload kaggle.json dowloaded from API section from kaggle\n",
    "#from google.colab import files\n",
    "#files.upload()\n",
    "# create a kaggle directory/folder\n",
    "! mkdir ~/.kaggle\n",
    "# copy the kaggle.json to folder created \n",
    "! cp kaggle.json ~/.kaggle/\n",
    "# permision for the json to act \n",
    "! chmod 600 ~/.kaggle/kaggle.json"
   ]
  },
  {
   "cell_type": "code",
   "execution_count": null,
   "metadata": {
    "colab": {
     "base_uri": "https://localhost:8080/"
    },
    "id": "V-rilvBK2S_H",
    "outputId": "3d4ee43a-adf5-4e56-919a-de23b9459c17"
   },
   "outputs": [],
   "source": [
    "# download the data \n",
    "!kaggle competitions download -c digit-recognizer"
   ]
  },
  {
   "cell_type": "code",
   "execution_count": 7,
   "metadata": {
    "ExecuteTime": {
     "end_time": "2021-09-30T19:59:43.769320Z",
     "start_time": "2021-09-30T19:59:43.650398Z"
    },
    "colab": {
     "base_uri": "https://localhost:8080/"
    },
    "id": "w9es9cwu6GJ7",
    "outputId": "c7e0a156-b87c-439a-8eb2-1becec8df1b7"
   },
   "outputs": [
    {
     "name": "stderr",
     "output_type": "stream",
     "text": [
      "'unzip' is not recognized as an internal or external command,\n",
      "operable program or batch file.\n",
      "'unzip' is not recognized as an internal or external command,\n",
      "operable program or batch file.\n"
     ]
    }
   ],
   "source": [
    "# Extract the  Zip files \n",
    "!unzip train.csv.zip\n",
    "!unzip test.csv.zip"
   ]
  },
  {
   "cell_type": "markdown",
   "metadata": {
    "id": "wwkgkIfM6qjJ"
   },
   "source": [
    "## Loading Data "
   ]
  },
  {
   "cell_type": "code",
   "execution_count": 5,
   "metadata": {
    "ExecuteTime": {
     "end_time": "2021-10-01T06:52:55.730287Z",
     "start_time": "2021-10-01T06:52:45.984241Z"
    },
    "id": "XaPzNhjK61J5"
   },
   "outputs": [],
   "source": [
    "# load the trainng and test images \n",
    "training_imgs = pd.read_csv('train.csv')\n",
    "final_test_imgs = pd.read_csv('test.csv')"
   ]
  },
  {
   "cell_type": "code",
   "execution_count": 6,
   "metadata": {
    "ExecuteTime": {
     "end_time": "2021-10-01T06:53:03.515081Z",
     "start_time": "2021-10-01T06:53:03.448125Z"
    },
    "colab": {
     "base_uri": "https://localhost:8080/",
     "height": 439
    },
    "id": "kc4CnKeKSkyX",
    "outputId": "8559c967-fc5f-4fff-e70f-eca2cf5db79f"
   },
   "outputs": [
    {
     "data": {
      "text/html": [
       "<div>\n",
       "<style scoped>\n",
       "    .dataframe tbody tr th:only-of-type {\n",
       "        vertical-align: middle;\n",
       "    }\n",
       "\n",
       "    .dataframe tbody tr th {\n",
       "        vertical-align: top;\n",
       "    }\n",
       "\n",
       "    .dataframe thead th {\n",
       "        text-align: right;\n",
       "    }\n",
       "</style>\n",
       "<table border=\"1\" class=\"dataframe\">\n",
       "  <thead>\n",
       "    <tr style=\"text-align: right;\">\n",
       "      <th></th>\n",
       "      <th>pixel0</th>\n",
       "      <th>pixel1</th>\n",
       "      <th>pixel2</th>\n",
       "      <th>pixel3</th>\n",
       "      <th>pixel4</th>\n",
       "      <th>pixel5</th>\n",
       "      <th>pixel6</th>\n",
       "      <th>pixel7</th>\n",
       "      <th>pixel8</th>\n",
       "      <th>pixel9</th>\n",
       "      <th>...</th>\n",
       "      <th>pixel774</th>\n",
       "      <th>pixel775</th>\n",
       "      <th>pixel776</th>\n",
       "      <th>pixel777</th>\n",
       "      <th>pixel778</th>\n",
       "      <th>pixel779</th>\n",
       "      <th>pixel780</th>\n",
       "      <th>pixel781</th>\n",
       "      <th>pixel782</th>\n",
       "      <th>pixel783</th>\n",
       "    </tr>\n",
       "  </thead>\n",
       "  <tbody>\n",
       "    <tr>\n",
       "      <th>0</th>\n",
       "      <td>0</td>\n",
       "      <td>0</td>\n",
       "      <td>0</td>\n",
       "      <td>0</td>\n",
       "      <td>0</td>\n",
       "      <td>0</td>\n",
       "      <td>0</td>\n",
       "      <td>0</td>\n",
       "      <td>0</td>\n",
       "      <td>0</td>\n",
       "      <td>...</td>\n",
       "      <td>0</td>\n",
       "      <td>0</td>\n",
       "      <td>0</td>\n",
       "      <td>0</td>\n",
       "      <td>0</td>\n",
       "      <td>0</td>\n",
       "      <td>0</td>\n",
       "      <td>0</td>\n",
       "      <td>0</td>\n",
       "      <td>0</td>\n",
       "    </tr>\n",
       "    <tr>\n",
       "      <th>1</th>\n",
       "      <td>0</td>\n",
       "      <td>0</td>\n",
       "      <td>0</td>\n",
       "      <td>0</td>\n",
       "      <td>0</td>\n",
       "      <td>0</td>\n",
       "      <td>0</td>\n",
       "      <td>0</td>\n",
       "      <td>0</td>\n",
       "      <td>0</td>\n",
       "      <td>...</td>\n",
       "      <td>0</td>\n",
       "      <td>0</td>\n",
       "      <td>0</td>\n",
       "      <td>0</td>\n",
       "      <td>0</td>\n",
       "      <td>0</td>\n",
       "      <td>0</td>\n",
       "      <td>0</td>\n",
       "      <td>0</td>\n",
       "      <td>0</td>\n",
       "    </tr>\n",
       "    <tr>\n",
       "      <th>2</th>\n",
       "      <td>0</td>\n",
       "      <td>0</td>\n",
       "      <td>0</td>\n",
       "      <td>0</td>\n",
       "      <td>0</td>\n",
       "      <td>0</td>\n",
       "      <td>0</td>\n",
       "      <td>0</td>\n",
       "      <td>0</td>\n",
       "      <td>0</td>\n",
       "      <td>...</td>\n",
       "      <td>0</td>\n",
       "      <td>0</td>\n",
       "      <td>0</td>\n",
       "      <td>0</td>\n",
       "      <td>0</td>\n",
       "      <td>0</td>\n",
       "      <td>0</td>\n",
       "      <td>0</td>\n",
       "      <td>0</td>\n",
       "      <td>0</td>\n",
       "    </tr>\n",
       "    <tr>\n",
       "      <th>3</th>\n",
       "      <td>0</td>\n",
       "      <td>0</td>\n",
       "      <td>0</td>\n",
       "      <td>0</td>\n",
       "      <td>0</td>\n",
       "      <td>0</td>\n",
       "      <td>0</td>\n",
       "      <td>0</td>\n",
       "      <td>0</td>\n",
       "      <td>0</td>\n",
       "      <td>...</td>\n",
       "      <td>0</td>\n",
       "      <td>0</td>\n",
       "      <td>0</td>\n",
       "      <td>0</td>\n",
       "      <td>0</td>\n",
       "      <td>0</td>\n",
       "      <td>0</td>\n",
       "      <td>0</td>\n",
       "      <td>0</td>\n",
       "      <td>0</td>\n",
       "    </tr>\n",
       "    <tr>\n",
       "      <th>4</th>\n",
       "      <td>0</td>\n",
       "      <td>0</td>\n",
       "      <td>0</td>\n",
       "      <td>0</td>\n",
       "      <td>0</td>\n",
       "      <td>0</td>\n",
       "      <td>0</td>\n",
       "      <td>0</td>\n",
       "      <td>0</td>\n",
       "      <td>0</td>\n",
       "      <td>...</td>\n",
       "      <td>0</td>\n",
       "      <td>0</td>\n",
       "      <td>0</td>\n",
       "      <td>0</td>\n",
       "      <td>0</td>\n",
       "      <td>0</td>\n",
       "      <td>0</td>\n",
       "      <td>0</td>\n",
       "      <td>0</td>\n",
       "      <td>0</td>\n",
       "    </tr>\n",
       "    <tr>\n",
       "      <th>...</th>\n",
       "      <td>...</td>\n",
       "      <td>...</td>\n",
       "      <td>...</td>\n",
       "      <td>...</td>\n",
       "      <td>...</td>\n",
       "      <td>...</td>\n",
       "      <td>...</td>\n",
       "      <td>...</td>\n",
       "      <td>...</td>\n",
       "      <td>...</td>\n",
       "      <td>...</td>\n",
       "      <td>...</td>\n",
       "      <td>...</td>\n",
       "      <td>...</td>\n",
       "      <td>...</td>\n",
       "      <td>...</td>\n",
       "      <td>...</td>\n",
       "      <td>...</td>\n",
       "      <td>...</td>\n",
       "      <td>...</td>\n",
       "      <td>...</td>\n",
       "    </tr>\n",
       "    <tr>\n",
       "      <th>27995</th>\n",
       "      <td>0</td>\n",
       "      <td>0</td>\n",
       "      <td>0</td>\n",
       "      <td>0</td>\n",
       "      <td>0</td>\n",
       "      <td>0</td>\n",
       "      <td>0</td>\n",
       "      <td>0</td>\n",
       "      <td>0</td>\n",
       "      <td>0</td>\n",
       "      <td>...</td>\n",
       "      <td>0</td>\n",
       "      <td>0</td>\n",
       "      <td>0</td>\n",
       "      <td>0</td>\n",
       "      <td>0</td>\n",
       "      <td>0</td>\n",
       "      <td>0</td>\n",
       "      <td>0</td>\n",
       "      <td>0</td>\n",
       "      <td>0</td>\n",
       "    </tr>\n",
       "    <tr>\n",
       "      <th>27996</th>\n",
       "      <td>0</td>\n",
       "      <td>0</td>\n",
       "      <td>0</td>\n",
       "      <td>0</td>\n",
       "      <td>0</td>\n",
       "      <td>0</td>\n",
       "      <td>0</td>\n",
       "      <td>0</td>\n",
       "      <td>0</td>\n",
       "      <td>0</td>\n",
       "      <td>...</td>\n",
       "      <td>0</td>\n",
       "      <td>0</td>\n",
       "      <td>0</td>\n",
       "      <td>0</td>\n",
       "      <td>0</td>\n",
       "      <td>0</td>\n",
       "      <td>0</td>\n",
       "      <td>0</td>\n",
       "      <td>0</td>\n",
       "      <td>0</td>\n",
       "    </tr>\n",
       "    <tr>\n",
       "      <th>27997</th>\n",
       "      <td>0</td>\n",
       "      <td>0</td>\n",
       "      <td>0</td>\n",
       "      <td>0</td>\n",
       "      <td>0</td>\n",
       "      <td>0</td>\n",
       "      <td>0</td>\n",
       "      <td>0</td>\n",
       "      <td>0</td>\n",
       "      <td>0</td>\n",
       "      <td>...</td>\n",
       "      <td>0</td>\n",
       "      <td>0</td>\n",
       "      <td>0</td>\n",
       "      <td>0</td>\n",
       "      <td>0</td>\n",
       "      <td>0</td>\n",
       "      <td>0</td>\n",
       "      <td>0</td>\n",
       "      <td>0</td>\n",
       "      <td>0</td>\n",
       "    </tr>\n",
       "    <tr>\n",
       "      <th>27998</th>\n",
       "      <td>0</td>\n",
       "      <td>0</td>\n",
       "      <td>0</td>\n",
       "      <td>0</td>\n",
       "      <td>0</td>\n",
       "      <td>0</td>\n",
       "      <td>0</td>\n",
       "      <td>0</td>\n",
       "      <td>0</td>\n",
       "      <td>0</td>\n",
       "      <td>...</td>\n",
       "      <td>0</td>\n",
       "      <td>0</td>\n",
       "      <td>0</td>\n",
       "      <td>0</td>\n",
       "      <td>0</td>\n",
       "      <td>0</td>\n",
       "      <td>0</td>\n",
       "      <td>0</td>\n",
       "      <td>0</td>\n",
       "      <td>0</td>\n",
       "    </tr>\n",
       "    <tr>\n",
       "      <th>27999</th>\n",
       "      <td>0</td>\n",
       "      <td>0</td>\n",
       "      <td>0</td>\n",
       "      <td>0</td>\n",
       "      <td>0</td>\n",
       "      <td>0</td>\n",
       "      <td>0</td>\n",
       "      <td>0</td>\n",
       "      <td>0</td>\n",
       "      <td>0</td>\n",
       "      <td>...</td>\n",
       "      <td>0</td>\n",
       "      <td>0</td>\n",
       "      <td>0</td>\n",
       "      <td>0</td>\n",
       "      <td>0</td>\n",
       "      <td>0</td>\n",
       "      <td>0</td>\n",
       "      <td>0</td>\n",
       "      <td>0</td>\n",
       "      <td>0</td>\n",
       "    </tr>\n",
       "  </tbody>\n",
       "</table>\n",
       "<p>28000 rows × 784 columns</p>\n",
       "</div>"
      ],
      "text/plain": [
       "       pixel0  pixel1  pixel2  pixel3  pixel4  pixel5  pixel6  pixel7  pixel8  \\\n",
       "0           0       0       0       0       0       0       0       0       0   \n",
       "1           0       0       0       0       0       0       0       0       0   \n",
       "2           0       0       0       0       0       0       0       0       0   \n",
       "3           0       0       0       0       0       0       0       0       0   \n",
       "4           0       0       0       0       0       0       0       0       0   \n",
       "...       ...     ...     ...     ...     ...     ...     ...     ...     ...   \n",
       "27995       0       0       0       0       0       0       0       0       0   \n",
       "27996       0       0       0       0       0       0       0       0       0   \n",
       "27997       0       0       0       0       0       0       0       0       0   \n",
       "27998       0       0       0       0       0       0       0       0       0   \n",
       "27999       0       0       0       0       0       0       0       0       0   \n",
       "\n",
       "       pixel9  ...  pixel774  pixel775  pixel776  pixel777  pixel778  \\\n",
       "0           0  ...         0         0         0         0         0   \n",
       "1           0  ...         0         0         0         0         0   \n",
       "2           0  ...         0         0         0         0         0   \n",
       "3           0  ...         0         0         0         0         0   \n",
       "4           0  ...         0         0         0         0         0   \n",
       "...       ...  ...       ...       ...       ...       ...       ...   \n",
       "27995       0  ...         0         0         0         0         0   \n",
       "27996       0  ...         0         0         0         0         0   \n",
       "27997       0  ...         0         0         0         0         0   \n",
       "27998       0  ...         0         0         0         0         0   \n",
       "27999       0  ...         0         0         0         0         0   \n",
       "\n",
       "       pixel779  pixel780  pixel781  pixel782  pixel783  \n",
       "0             0         0         0         0         0  \n",
       "1             0         0         0         0         0  \n",
       "2             0         0         0         0         0  \n",
       "3             0         0         0         0         0  \n",
       "4             0         0         0         0         0  \n",
       "...         ...       ...       ...       ...       ...  \n",
       "27995         0         0         0         0         0  \n",
       "27996         0         0         0         0         0  \n",
       "27997         0         0         0         0         0  \n",
       "27998         0         0         0         0         0  \n",
       "27999         0         0         0         0         0  \n",
       "\n",
       "[28000 rows x 784 columns]"
      ]
     },
     "execution_count": 6,
     "metadata": {},
     "output_type": "execute_result"
    }
   ],
   "source": [
    "final_test_imgs"
   ]
  },
  {
   "cell_type": "markdown",
   "metadata": {
    "id": "8odi4Onv76q3"
   },
   "source": [
    "### Exploring data"
   ]
  },
  {
   "cell_type": "code",
   "execution_count": 10,
   "metadata": {
    "ExecuteTime": {
     "end_time": "2021-09-30T20:00:24.257709Z",
     "start_time": "2021-09-30T20:00:24.213742Z"
    },
    "colab": {
     "base_uri": "https://localhost:8080/",
     "height": 253
    },
    "id": "AR3w4sCF7N2y",
    "outputId": "fd4de932-41d1-4a40-8b33-cceb8be63547"
   },
   "outputs": [
    {
     "data": {
      "text/html": [
       "<div>\n",
       "<style scoped>\n",
       "    .dataframe tbody tr th:only-of-type {\n",
       "        vertical-align: middle;\n",
       "    }\n",
       "\n",
       "    .dataframe tbody tr th {\n",
       "        vertical-align: top;\n",
       "    }\n",
       "\n",
       "    .dataframe thead th {\n",
       "        text-align: right;\n",
       "    }\n",
       "</style>\n",
       "<table border=\"1\" class=\"dataframe\">\n",
       "  <thead>\n",
       "    <tr style=\"text-align: right;\">\n",
       "      <th></th>\n",
       "      <th>label</th>\n",
       "      <th>pixel0</th>\n",
       "      <th>pixel1</th>\n",
       "      <th>pixel2</th>\n",
       "      <th>pixel3</th>\n",
       "      <th>pixel4</th>\n",
       "      <th>pixel5</th>\n",
       "      <th>pixel6</th>\n",
       "      <th>pixel7</th>\n",
       "      <th>pixel8</th>\n",
       "      <th>...</th>\n",
       "      <th>pixel774</th>\n",
       "      <th>pixel775</th>\n",
       "      <th>pixel776</th>\n",
       "      <th>pixel777</th>\n",
       "      <th>pixel778</th>\n",
       "      <th>pixel779</th>\n",
       "      <th>pixel780</th>\n",
       "      <th>pixel781</th>\n",
       "      <th>pixel782</th>\n",
       "      <th>pixel783</th>\n",
       "    </tr>\n",
       "  </thead>\n",
       "  <tbody>\n",
       "    <tr>\n",
       "      <th>0</th>\n",
       "      <td>1</td>\n",
       "      <td>0</td>\n",
       "      <td>0</td>\n",
       "      <td>0</td>\n",
       "      <td>0</td>\n",
       "      <td>0</td>\n",
       "      <td>0</td>\n",
       "      <td>0</td>\n",
       "      <td>0</td>\n",
       "      <td>0</td>\n",
       "      <td>...</td>\n",
       "      <td>0</td>\n",
       "      <td>0</td>\n",
       "      <td>0</td>\n",
       "      <td>0</td>\n",
       "      <td>0</td>\n",
       "      <td>0</td>\n",
       "      <td>0</td>\n",
       "      <td>0</td>\n",
       "      <td>0</td>\n",
       "      <td>0</td>\n",
       "    </tr>\n",
       "    <tr>\n",
       "      <th>1</th>\n",
       "      <td>0</td>\n",
       "      <td>0</td>\n",
       "      <td>0</td>\n",
       "      <td>0</td>\n",
       "      <td>0</td>\n",
       "      <td>0</td>\n",
       "      <td>0</td>\n",
       "      <td>0</td>\n",
       "      <td>0</td>\n",
       "      <td>0</td>\n",
       "      <td>...</td>\n",
       "      <td>0</td>\n",
       "      <td>0</td>\n",
       "      <td>0</td>\n",
       "      <td>0</td>\n",
       "      <td>0</td>\n",
       "      <td>0</td>\n",
       "      <td>0</td>\n",
       "      <td>0</td>\n",
       "      <td>0</td>\n",
       "      <td>0</td>\n",
       "    </tr>\n",
       "    <tr>\n",
       "      <th>2</th>\n",
       "      <td>1</td>\n",
       "      <td>0</td>\n",
       "      <td>0</td>\n",
       "      <td>0</td>\n",
       "      <td>0</td>\n",
       "      <td>0</td>\n",
       "      <td>0</td>\n",
       "      <td>0</td>\n",
       "      <td>0</td>\n",
       "      <td>0</td>\n",
       "      <td>...</td>\n",
       "      <td>0</td>\n",
       "      <td>0</td>\n",
       "      <td>0</td>\n",
       "      <td>0</td>\n",
       "      <td>0</td>\n",
       "      <td>0</td>\n",
       "      <td>0</td>\n",
       "      <td>0</td>\n",
       "      <td>0</td>\n",
       "      <td>0</td>\n",
       "    </tr>\n",
       "    <tr>\n",
       "      <th>3</th>\n",
       "      <td>4</td>\n",
       "      <td>0</td>\n",
       "      <td>0</td>\n",
       "      <td>0</td>\n",
       "      <td>0</td>\n",
       "      <td>0</td>\n",
       "      <td>0</td>\n",
       "      <td>0</td>\n",
       "      <td>0</td>\n",
       "      <td>0</td>\n",
       "      <td>...</td>\n",
       "      <td>0</td>\n",
       "      <td>0</td>\n",
       "      <td>0</td>\n",
       "      <td>0</td>\n",
       "      <td>0</td>\n",
       "      <td>0</td>\n",
       "      <td>0</td>\n",
       "      <td>0</td>\n",
       "      <td>0</td>\n",
       "      <td>0</td>\n",
       "    </tr>\n",
       "    <tr>\n",
       "      <th>4</th>\n",
       "      <td>0</td>\n",
       "      <td>0</td>\n",
       "      <td>0</td>\n",
       "      <td>0</td>\n",
       "      <td>0</td>\n",
       "      <td>0</td>\n",
       "      <td>0</td>\n",
       "      <td>0</td>\n",
       "      <td>0</td>\n",
       "      <td>0</td>\n",
       "      <td>...</td>\n",
       "      <td>0</td>\n",
       "      <td>0</td>\n",
       "      <td>0</td>\n",
       "      <td>0</td>\n",
       "      <td>0</td>\n",
       "      <td>0</td>\n",
       "      <td>0</td>\n",
       "      <td>0</td>\n",
       "      <td>0</td>\n",
       "      <td>0</td>\n",
       "    </tr>\n",
       "  </tbody>\n",
       "</table>\n",
       "<p>5 rows × 785 columns</p>\n",
       "</div>"
      ],
      "text/plain": [
       "   label  pixel0  pixel1  pixel2  pixel3  pixel4  pixel5  pixel6  pixel7  \\\n",
       "0      1       0       0       0       0       0       0       0       0   \n",
       "1      0       0       0       0       0       0       0       0       0   \n",
       "2      1       0       0       0       0       0       0       0       0   \n",
       "3      4       0       0       0       0       0       0       0       0   \n",
       "4      0       0       0       0       0       0       0       0       0   \n",
       "\n",
       "   pixel8  ...  pixel774  pixel775  pixel776  pixel777  pixel778  pixel779  \\\n",
       "0       0  ...         0         0         0         0         0         0   \n",
       "1       0  ...         0         0         0         0         0         0   \n",
       "2       0  ...         0         0         0         0         0         0   \n",
       "3       0  ...         0         0         0         0         0         0   \n",
       "4       0  ...         0         0         0         0         0         0   \n",
       "\n",
       "   pixel780  pixel781  pixel782  pixel783  \n",
       "0         0         0         0         0  \n",
       "1         0         0         0         0  \n",
       "2         0         0         0         0  \n",
       "3         0         0         0         0  \n",
       "4         0         0         0         0  \n",
       "\n",
       "[5 rows x 785 columns]"
      ]
     },
     "execution_count": 10,
     "metadata": {},
     "output_type": "execute_result"
    }
   ],
   "source": [
    "training_imgs.head(5)"
   ]
  },
  {
   "cell_type": "code",
   "execution_count": null,
   "metadata": {
    "colab": {
     "base_uri": "https://localhost:8080/"
    },
    "id": "ST7et0uC7UYi",
    "outputId": "2f5b2c68-87b0-49ef-bda8-812ab2fa9404"
   },
   "outputs": [],
   "source": [
    "training_imgs.shape"
   ]
  },
  {
   "cell_type": "code",
   "execution_count": null,
   "metadata": {
    "colab": {
     "base_uri": "https://localhost:8080/"
    },
    "id": "-hrW4A2T7rAp",
    "outputId": "e07db266-b88a-47e3-b3ce-9470816ea659"
   },
   "outputs": [],
   "source": [
    "final_test_imgs.shape"
   ]
  },
  {
   "cell_type": "code",
   "execution_count": 7,
   "metadata": {
    "ExecuteTime": {
     "end_time": "2021-10-01T06:53:13.287191Z",
     "start_time": "2021-10-01T06:53:12.200642Z"
    },
    "colab": {
     "base_uri": "https://localhost:8080/",
     "height": 171
    },
    "id": "ahsvVPhf8CA5",
    "outputId": "f68d1598-de85-46b4-b3c2-6f1f1e32e708"
   },
   "outputs": [
    {
     "data": {
      "image/png": "[encoded data removed]",
      "text/plain": [
       "<Figure size 720x720 with 4 Axes>"
      ]
     },
     "metadata": {
      "needs_background": "light"
     },
     "output_type": "display_data"
    }
   ],
   "source": [
    "# pick up random sample from the training  and show display the image \n",
    "%matplotlib inline\n",
    "\n",
    "fig,axis = plt.subplots(1,4,figsize=(10,10))\n",
    "for i in range(4):\n",
    "  sample_index = np.random.randint(0,training_imgs.shape[0]-1)\n",
    "  sample_img = training_imgs.iloc[sample_index,1:].values.reshape((28,28))\n",
    "  axis[i].imshow(sample_img)\n",
    "\n"
   ]
  },
  {
   "cell_type": "code",
   "execution_count": null,
   "metadata": {
    "colab": {
     "base_uri": "https://localhost:8080/"
    },
    "id": "Y_JxpzePCRRG",
    "outputId": "ec93459c-ef22-4bef-8197-7a7a4d511d98"
   },
   "outputs": [],
   "source": [
    "# check the class distribution \n",
    "training_imgs.iloc[:,0].value_counts()"
   ]
  },
  {
   "cell_type": "markdown",
   "metadata": {
    "id": "O0Wc1_xr8ag6"
   },
   "source": [
    "## Train Test split"
   ]
  },
  {
   "cell_type": "code",
   "execution_count": 8,
   "metadata": {
    "ExecuteTime": {
     "end_time": "2021-10-01T06:53:19.369070Z",
     "start_time": "2021-10-01T06:53:18.935574Z"
    },
    "id": "VB7ELyr3JzHD"
   },
   "outputs": [],
   "source": [
    "X = training_imgs.iloc[:,1:]\n",
    "Y = training_imgs.iloc[:,0]\n",
    "\n",
    "# convert Label to categorical \n",
    "Y= to_categorical(Y)\n",
    "\n",
    "# Normalise the data \n",
    "X = X/255.\n",
    "final_test_imgs = final_test_imgs/255."
   ]
  },
  {
   "cell_type": "code",
   "execution_count": 9,
   "metadata": {
    "ExecuteTime": {
     "end_time": "2021-10-01T06:53:23.661640Z",
     "start_time": "2021-10-01T06:53:23.008532Z"
    },
    "id": "mzDrDDWA-jEy"
   },
   "outputs": [],
   "source": [
    "# Train test split \n",
    "\n",
    "X_train,X_test,y_train,y_test =train_test_split(X,Y,random_state=42)"
   ]
  },
  {
   "cell_type": "code",
   "execution_count": 8,
   "metadata": {
    "ExecuteTime": {
     "end_time": "2021-09-30T20:26:42.840938Z",
     "start_time": "2021-09-30T20:26:42.819952Z"
    },
    "colab": {
     "base_uri": "https://localhost:8080/"
    },
    "id": "qY4t_JU9I-Jb",
    "outputId": "86fc4f29-3f17-4e42-a35d-2c5d37b5d912"
   },
   "outputs": [
    {
     "data": {
      "text/plain": [
       "(10500, 10)"
      ]
     },
     "execution_count": 8,
     "metadata": {},
     "output_type": "execute_result"
    }
   ],
   "source": [
    "y_test.shape"
   ]
  },
  {
   "cell_type": "code",
   "execution_count": 7,
   "metadata": {
    "ExecuteTime": {
     "end_time": "2021-09-30T20:26:33.670059Z",
     "start_time": "2021-09-30T20:26:33.649070Z"
    },
    "colab": {
     "base_uri": "https://localhost:8080/"
    },
    "id": "MYckC3upLCAB",
    "outputId": "4b5626ea-1303-48b1-b57c-a8a309e5aa8b"
   },
   "outputs": [
    {
     "data": {
      "text/plain": [
       "(31500, 10)"
      ]
     },
     "execution_count": 7,
     "metadata": {},
     "output_type": "execute_result"
    }
   ],
   "source": [
    "y_train.shape"
   ]
  },
  {
   "cell_type": "markdown",
   "metadata": {
    "id": "o4cQBzQR_4b_"
   },
   "source": [
    "## Model Building "
   ]
  },
  {
   "cell_type": "markdown",
   "metadata": {
    "id": "Tnrbw99_8syP"
   },
   "source": [
    "### Neural Network Hyper parameter Tunning "
   ]
  },
  {
   "cell_type": "code",
   "execution_count": null,
   "metadata": {
    "id": "gcCS5XY883jm"
   },
   "outputs": [],
   "source": [
    "# Hyper parameters \n",
    "# 1. learning rate \n",
    "# 2. No of layers \n",
    "# 3. No of units in each layer \n",
    "# 4. beta for Expoential momentum \n",
    "# 5. beta for RMS prop\n",
    "# 6. beta1 and beta2 for adam \n",
    "# 7 batch and epoch \n",
    "# 8 optimization algos \n",
    "# 9 activation function \n",
    "# weight initalization"
   ]
  },
  {
   "cell_type": "markdown",
   "metadata": {
    "id": "1v2-y29-SgSt"
   },
   "source": [
    "#### Basic Tunning : units and lr"
   ]
  },
  {
   "cell_type": "code",
   "execution_count": 15,
   "metadata": {
    "ExecuteTime": {
     "end_time": "2021-10-01T06:56:10.536098Z",
     "start_time": "2021-10-01T06:55:59.414894Z"
    }
   },
   "outputs": [],
   "source": [
    "# Fresh Train test split \n",
    "X_train,X_test,y_train,y_test,final_test_imgs_cnn = cnn_train_test_split()"
   ]
  },
  {
   "cell_type": "code",
   "execution_count": 16,
   "metadata": {
    "ExecuteTime": {
     "end_time": "2021-10-01T06:56:13.118403Z",
     "start_time": "2021-10-01T06:56:13.098414Z"
    },
    "id": "D5plgv6s83XF"
   },
   "outputs": [],
   "source": [
    "# hyper model \n",
    "def model_builder(hp):\n",
    "  model = keras.Sequential()\n",
    "  # add Flatten layer \n",
    "  model.add(keras.layers.Flatten(input_shape =(28,28,1))) #\n",
    "\n",
    "  # Tune the number of units in the first Dense layer\n",
    "  # choosing optimal value between 32 and 512\n",
    "  hp_units = hp.Int('units',min_value =32,max_value =512, step =32)\n",
    "  model.add(keras.layers.Dense(units = hp_units,activation ='relu'))\n",
    "  model.add(keras.layers.Dense(10, activation='softmax'))\n",
    "\n",
    "  # Tune learning rate for optimizer \n",
    "  # choose an optimal value from 0.01, 0.01, 0.0001\n",
    "  hp_learning_rate =hp.Choice('learning_rate',values =[1e-2,1e-3,1e-4])\n",
    "\n",
    "  # compile the model\n",
    "  model.compile(optimizer =keras.optimizers.Adam(learning_rate =hp_learning_rate),\n",
    "                loss ='categorical_crossentropy',\n",
    "                metrics =['accuracy'])\n",
    "  return model\n"
   ]
  },
  {
   "cell_type": "code",
   "execution_count": 17,
   "metadata": {
    "ExecuteTime": {
     "end_time": "2021-10-01T06:56:15.709900Z",
     "start_time": "2021-10-01T06:56:15.325774Z"
    },
    "id": "1Rq71zRKKK-r"
   },
   "outputs": [
    {
     "name": "stdout",
     "output_type": "stream",
     "text": [
      "INFO:tensorflow:Reloading Oracle from existing project my_dir\\hp_tunning\\oracle.json\n"
     ]
    }
   ],
   "source": [
    "# build the tunner \n",
    "tunner = kt.RandomSearch(\n",
    "    model_builder,\n",
    "    objective='val_accuracy',\n",
    "    max_trials =5,\n",
    "    directory ='my_dir',\n",
    "    project_name='hp_tunning'\n",
    "\n",
    ")"
   ]
  },
  {
   "cell_type": "code",
   "execution_count": 18,
   "metadata": {
    "ExecuteTime": {
     "end_time": "2021-10-01T06:56:23.448649Z",
     "start_time": "2021-10-01T06:56:23.429665Z"
    },
    "colab": {
     "base_uri": "https://localhost:8080/"
    },
    "id": "RuRUX6WGMpkY",
    "outputId": "62498346-6661-4581-b7e3-4087e900d43a"
   },
   "outputs": [
    {
     "name": "stdout",
     "output_type": "stream",
     "text": [
      "Search space summary\n",
      "Default search space size: 2\n",
      "units (Int)\n",
      "{'default': None, 'conditions': [], 'min_value': 32, 'max_value': 512, 'step': 32, 'sampling': None}\n",
      "learning_rate (Choice)\n",
      "{'default': 0.01, 'conditions': [], 'values': [0.01, 0.001, 0.0001], 'ordered': True}\n"
     ]
    }
   ],
   "source": [
    "tunner.search_space_summary()"
   ]
  },
  {
   "cell_type": "code",
   "execution_count": 19,
   "metadata": {
    "ExecuteTime": {
     "end_time": "2021-10-01T06:58:02.929979Z",
     "start_time": "2021-10-01T06:56:27.678997Z"
    },
    "colab": {
     "base_uri": "https://localhost:8080/"
    },
    "id": "zW9JRs2PMvRP",
    "outputId": "1cd58a16-5822-49da-88f4-45d59b48087a"
   },
   "outputs": [
    {
     "name": "stdout",
     "output_type": "stream",
     "text": [
      "Trial 1 Complete [00h 01m 11s]\n",
      "val_accuracy: 0.9572380781173706\n",
      "\n",
      "Best val_accuracy So Far: 0.9572380781173706\n",
      "Total elapsed time: 00h 01m 11s\n",
      "\n",
      "Search: Running Trial #2\n",
      "\n",
      "Hyperparameter    |Value             |Best Value So Far \n",
      "units             |256               |416               \n",
      "learning_rate     |0.0001            |0.01              \n",
      "\n",
      "Train on 31500 samples, validate on 10500 samples\n",
      "Epoch 1/5\n",
      "31500/31500 [==============================] - 13s 424us/sample - loss: 0.7046 - accuracy: 0.8286 - val_loss: 0.3675 - val_accuracy: 0.9026\n",
      "Epoch 2/5\n",
      "22560/31500 [====================>.........] - ETA: 3s - loss: 0.3253 - accuracy: 0.9133WARNING:tensorflow:Can save best model only with val_accuracy available, skipping.\n"
     ]
    },
    {
     "ename": "KeyboardInterrupt",
     "evalue": "",
     "output_type": "error",
     "traceback": [
      "\u001b[1;31m---------------------------------------------------------------------------\u001b[0m",
      "\u001b[1;31mKeyboardInterrupt\u001b[0m                         Traceback (most recent call last)",
      "\u001b[1;32m<ipython-input-19-d52e9c12a48b>\u001b[0m in \u001b[0;36m<module>\u001b[1;34m\u001b[0m\n\u001b[0;32m      2\u001b[0m tunner.search(X_train,y_train,\n\u001b[0;32m      3\u001b[0m               \u001b[0mepochs\u001b[0m\u001b[1;33m=\u001b[0m\u001b[1;36m5\u001b[0m\u001b[1;33m,\u001b[0m\u001b[1;33m\u001b[0m\u001b[1;33m\u001b[0m\u001b[0m\n\u001b[1;32m----> 4\u001b[1;33m               validation_data =(X_test,y_test))\n\u001b[0m",
      "\u001b[1;32m~\\anaconda3\\envs\\tf2.0\\lib\\site-packages\\keras_tuner\\engine\\base_tuner.py\u001b[0m in \u001b[0;36msearch\u001b[1;34m(self, *fit_args, **fit_kwargs)\u001b[0m\n\u001b[0;32m    174\u001b[0m \u001b[1;33m\u001b[0m\u001b[0m\n\u001b[0;32m    175\u001b[0m             \u001b[0mself\u001b[0m\u001b[1;33m.\u001b[0m\u001b[0mon_trial_begin\u001b[0m\u001b[1;33m(\u001b[0m\u001b[0mtrial\u001b[0m\u001b[1;33m)\u001b[0m\u001b[1;33m\u001b[0m\u001b[1;33m\u001b[0m\u001b[0m\n\u001b[1;32m--> 176\u001b[1;33m             \u001b[0mself\u001b[0m\u001b[1;33m.\u001b[0m\u001b[0mrun_trial\u001b[0m\u001b[1;33m(\u001b[0m\u001b[0mtrial\u001b[0m\u001b[1;33m,\u001b[0m \u001b[1;33m*\u001b[0m\u001b[0mfit_args\u001b[0m\u001b[1;33m,\u001b[0m \u001b[1;33m**\u001b[0m\u001b[0mfit_kwargs\u001b[0m\u001b[1;33m)\u001b[0m\u001b[1;33m\u001b[0m\u001b[1;33m\u001b[0m\u001b[0m\n\u001b[0m\u001b[0;32m    177\u001b[0m             \u001b[0mself\u001b[0m\u001b[1;33m.\u001b[0m\u001b[0mon_trial_end\u001b[0m\u001b[1;33m(\u001b[0m\u001b[0mtrial\u001b[0m\u001b[1;33m)\u001b[0m\u001b[1;33m\u001b[0m\u001b[1;33m\u001b[0m\u001b[0m\n\u001b[0;32m    178\u001b[0m         \u001b[0mself\u001b[0m\u001b[1;33m.\u001b[0m\u001b[0mon_search_end\u001b[0m\u001b[1;33m(\u001b[0m\u001b[1;33m)\u001b[0m\u001b[1;33m\u001b[0m\u001b[1;33m\u001b[0m\u001b[0m\n",
      "\u001b[1;32m~\\anaconda3\\envs\\tf2.0\\lib\\site-packages\\keras_tuner\\engine\\multi_execution_tuner.py\u001b[0m in \u001b[0;36mrun_trial\u001b[1;34m(self, trial, *fit_args, **fit_kwargs)\u001b[0m\n\u001b[0;32m     88\u001b[0m             \u001b[0mcopied_fit_kwargs\u001b[0m\u001b[1;33m[\u001b[0m\u001b[1;34m\"callbacks\"\u001b[0m\u001b[1;33m]\u001b[0m \u001b[1;33m=\u001b[0m \u001b[0mcallbacks\u001b[0m\u001b[1;33m\u001b[0m\u001b[1;33m\u001b[0m\u001b[0m\n\u001b[0;32m     89\u001b[0m \u001b[1;33m\u001b[0m\u001b[0m\n\u001b[1;32m---> 90\u001b[1;33m             \u001b[0mhistory\u001b[0m \u001b[1;33m=\u001b[0m \u001b[0mself\u001b[0m\u001b[1;33m.\u001b[0m\u001b[0m_build_and_fit_model\u001b[0m\u001b[1;33m(\u001b[0m\u001b[0mtrial\u001b[0m\u001b[1;33m,\u001b[0m \u001b[0mfit_args\u001b[0m\u001b[1;33m,\u001b[0m \u001b[0mcopied_fit_kwargs\u001b[0m\u001b[1;33m)\u001b[0m\u001b[1;33m\u001b[0m\u001b[1;33m\u001b[0m\u001b[0m\n\u001b[0m\u001b[0;32m     91\u001b[0m             \u001b[1;32mfor\u001b[0m \u001b[0mmetric\u001b[0m\u001b[1;33m,\u001b[0m \u001b[0mepoch_values\u001b[0m \u001b[1;32min\u001b[0m \u001b[0mhistory\u001b[0m\u001b[1;33m.\u001b[0m\u001b[0mhistory\u001b[0m\u001b[1;33m.\u001b[0m\u001b[0mitems\u001b[0m\u001b[1;33m(\u001b[0m\u001b[1;33m)\u001b[0m\u001b[1;33m:\u001b[0m\u001b[1;33m\u001b[0m\u001b[1;33m\u001b[0m\u001b[0m\n\u001b[0;32m     92\u001b[0m                 \u001b[1;32mif\u001b[0m \u001b[0mself\u001b[0m\u001b[1;33m.\u001b[0m\u001b[0moracle\u001b[0m\u001b[1;33m.\u001b[0m\u001b[0mobjective\u001b[0m\u001b[1;33m.\u001b[0m\u001b[0mdirection\u001b[0m \u001b[1;33m==\u001b[0m \u001b[1;34m\"min\"\u001b[0m\u001b[1;33m:\u001b[0m\u001b[1;33m\u001b[0m\u001b[1;33m\u001b[0m\u001b[0m\n",
      "\u001b[1;32m~\\anaconda3\\envs\\tf2.0\\lib\\site-packages\\keras_tuner\\engine\\tuner.py\u001b[0m in \u001b[0;36m_build_and_fit_model\u001b[1;34m(self, trial, fit_args, fit_kwargs)\u001b[0m\n\u001b[0;32m    147\u001b[0m         \"\"\"\n\u001b[0;32m    148\u001b[0m         \u001b[0mmodel\u001b[0m \u001b[1;33m=\u001b[0m \u001b[0mself\u001b[0m\u001b[1;33m.\u001b[0m\u001b[0mhypermodel\u001b[0m\u001b[1;33m.\u001b[0m\u001b[0mbuild\u001b[0m\u001b[1;33m(\u001b[0m\u001b[0mtrial\u001b[0m\u001b[1;33m.\u001b[0m\u001b[0mhyperparameters\u001b[0m\u001b[1;33m)\u001b[0m\u001b[1;33m\u001b[0m\u001b[1;33m\u001b[0m\u001b[0m\n\u001b[1;32m--> 149\u001b[1;33m         \u001b[1;32mreturn\u001b[0m \u001b[0mmodel\u001b[0m\u001b[1;33m.\u001b[0m\u001b[0mfit\u001b[0m\u001b[1;33m(\u001b[0m\u001b[1;33m*\u001b[0m\u001b[0mfit_args\u001b[0m\u001b[1;33m,\u001b[0m \u001b[1;33m**\u001b[0m\u001b[0mfit_kwargs\u001b[0m\u001b[1;33m)\u001b[0m\u001b[1;33m\u001b[0m\u001b[1;33m\u001b[0m\u001b[0m\n\u001b[0m\u001b[0;32m    150\u001b[0m \u001b[1;33m\u001b[0m\u001b[0m\n\u001b[0;32m    151\u001b[0m     \u001b[1;32mdef\u001b[0m \u001b[0mrun_trial\u001b[0m\u001b[1;33m(\u001b[0m\u001b[0mself\u001b[0m\u001b[1;33m,\u001b[0m \u001b[0mtrial\u001b[0m\u001b[1;33m,\u001b[0m \u001b[1;33m*\u001b[0m\u001b[0mfit_args\u001b[0m\u001b[1;33m,\u001b[0m \u001b[1;33m**\u001b[0m\u001b[0mfit_kwargs\u001b[0m\u001b[1;33m)\u001b[0m\u001b[1;33m:\u001b[0m\u001b[1;33m\u001b[0m\u001b[1;33m\u001b[0m\u001b[0m\n",
      "\u001b[1;32m~\\anaconda3\\envs\\tf2.0\\lib\\site-packages\\tensorflow_core\\python\\keras\\engine\\training.py\u001b[0m in \u001b[0;36mfit\u001b[1;34m(self, x, y, batch_size, epochs, verbose, callbacks, validation_split, validation_data, shuffle, class_weight, sample_weight, initial_epoch, steps_per_epoch, validation_steps, validation_freq, max_queue_size, workers, use_multiprocessing, **kwargs)\u001b[0m\n\u001b[0;32m    726\u001b[0m         \u001b[0mmax_queue_size\u001b[0m\u001b[1;33m=\u001b[0m\u001b[0mmax_queue_size\u001b[0m\u001b[1;33m,\u001b[0m\u001b[1;33m\u001b[0m\u001b[1;33m\u001b[0m\u001b[0m\n\u001b[0;32m    727\u001b[0m         \u001b[0mworkers\u001b[0m\u001b[1;33m=\u001b[0m\u001b[0mworkers\u001b[0m\u001b[1;33m,\u001b[0m\u001b[1;33m\u001b[0m\u001b[1;33m\u001b[0m\u001b[0m\n\u001b[1;32m--> 728\u001b[1;33m         use_multiprocessing=use_multiprocessing)\n\u001b[0m\u001b[0;32m    729\u001b[0m \u001b[1;33m\u001b[0m\u001b[0m\n\u001b[0;32m    730\u001b[0m   def evaluate(self,\n",
      "\u001b[1;32m~\\anaconda3\\envs\\tf2.0\\lib\\site-packages\\tensorflow_core\\python\\keras\\engine\\training_v2.py\u001b[0m in \u001b[0;36mfit\u001b[1;34m(self, model, x, y, batch_size, epochs, verbose, callbacks, validation_split, validation_data, shuffle, class_weight, sample_weight, initial_epoch, steps_per_epoch, validation_steps, validation_freq, **kwargs)\u001b[0m\n\u001b[0;32m    322\u001b[0m                 \u001b[0mmode\u001b[0m\u001b[1;33m=\u001b[0m\u001b[0mModeKeys\u001b[0m\u001b[1;33m.\u001b[0m\u001b[0mTRAIN\u001b[0m\u001b[1;33m,\u001b[0m\u001b[1;33m\u001b[0m\u001b[1;33m\u001b[0m\u001b[0m\n\u001b[0;32m    323\u001b[0m                 \u001b[0mtraining_context\u001b[0m\u001b[1;33m=\u001b[0m\u001b[0mtraining_context\u001b[0m\u001b[1;33m,\u001b[0m\u001b[1;33m\u001b[0m\u001b[1;33m\u001b[0m\u001b[0m\n\u001b[1;32m--> 324\u001b[1;33m                 total_epochs=epochs)\n\u001b[0m\u001b[0;32m    325\u001b[0m             \u001b[0mcbks\u001b[0m\u001b[1;33m.\u001b[0m\u001b[0mmake_logs\u001b[0m\u001b[1;33m(\u001b[0m\u001b[0mmodel\u001b[0m\u001b[1;33m,\u001b[0m \u001b[0mepoch_logs\u001b[0m\u001b[1;33m,\u001b[0m \u001b[0mtraining_result\u001b[0m\u001b[1;33m,\u001b[0m \u001b[0mModeKeys\u001b[0m\u001b[1;33m.\u001b[0m\u001b[0mTRAIN\u001b[0m\u001b[1;33m)\u001b[0m\u001b[1;33m\u001b[0m\u001b[1;33m\u001b[0m\u001b[0m\n\u001b[0;32m    326\u001b[0m \u001b[1;33m\u001b[0m\u001b[0m\n",
      "\u001b[1;32m~\\anaconda3\\envs\\tf2.0\\lib\\site-packages\\tensorflow_core\\python\\keras\\engine\\training_v2.py\u001b[0m in \u001b[0;36mrun_one_epoch\u001b[1;34m(model, iterator, execution_function, dataset_size, batch_size, strategy, steps_per_epoch, num_samples, mode, training_context, total_epochs)\u001b[0m\n\u001b[0;32m    119\u001b[0m       \u001b[0mcurrent_batch_size\u001b[0m \u001b[1;33m=\u001b[0m \u001b[0mnum_samples\u001b[0m \u001b[1;33m-\u001b[0m \u001b[0mstep\u001b[0m \u001b[1;33m*\u001b[0m \u001b[0mbatch_size\u001b[0m\u001b[1;33m\u001b[0m\u001b[1;33m\u001b[0m\u001b[0m\n\u001b[0;32m    120\u001b[0m     with training_context.on_batch(\n\u001b[1;32m--> 121\u001b[1;33m         step=step, mode=mode, size=current_batch_size) as batch_logs:\n\u001b[0m\u001b[0;32m    122\u001b[0m       \u001b[1;32mtry\u001b[0m\u001b[1;33m:\u001b[0m\u001b[1;33m\u001b[0m\u001b[1;33m\u001b[0m\u001b[0m\n\u001b[0;32m    123\u001b[0m         \u001b[0mbatch_outs\u001b[0m \u001b[1;33m=\u001b[0m \u001b[0mexecution_function\u001b[0m\u001b[1;33m(\u001b[0m\u001b[0miterator\u001b[0m\u001b[1;33m)\u001b[0m\u001b[1;33m\u001b[0m\u001b[1;33m\u001b[0m\u001b[0m\n",
      "\u001b[1;32m~\\anaconda3\\envs\\tf2.0\\lib\\contextlib.py\u001b[0m in \u001b[0;36m__enter__\u001b[1;34m(self)\u001b[0m\n\u001b[0;32m     79\u001b[0m     \u001b[1;32mdef\u001b[0m \u001b[0m__enter__\u001b[0m\u001b[1;33m(\u001b[0m\u001b[0mself\u001b[0m\u001b[1;33m)\u001b[0m\u001b[1;33m:\u001b[0m\u001b[1;33m\u001b[0m\u001b[1;33m\u001b[0m\u001b[0m\n\u001b[0;32m     80\u001b[0m         \u001b[1;32mtry\u001b[0m\u001b[1;33m:\u001b[0m\u001b[1;33m\u001b[0m\u001b[1;33m\u001b[0m\u001b[0m\n\u001b[1;32m---> 81\u001b[1;33m             \u001b[1;32mreturn\u001b[0m \u001b[0mnext\u001b[0m\u001b[1;33m(\u001b[0m\u001b[0mself\u001b[0m\u001b[1;33m.\u001b[0m\u001b[0mgen\u001b[0m\u001b[1;33m)\u001b[0m\u001b[1;33m\u001b[0m\u001b[1;33m\u001b[0m\u001b[0m\n\u001b[0m\u001b[0;32m     82\u001b[0m         \u001b[1;32mexcept\u001b[0m \u001b[0mStopIteration\u001b[0m\u001b[1;33m:\u001b[0m\u001b[1;33m\u001b[0m\u001b[1;33m\u001b[0m\u001b[0m\n\u001b[0;32m     83\u001b[0m             \u001b[1;32mraise\u001b[0m \u001b[0mRuntimeError\u001b[0m\u001b[1;33m(\u001b[0m\u001b[1;34m\"generator didn't yield\"\u001b[0m\u001b[1;33m)\u001b[0m \u001b[1;32mfrom\u001b[0m \u001b[1;32mNone\u001b[0m\u001b[1;33m\u001b[0m\u001b[1;33m\u001b[0m\u001b[0m\n",
      "\u001b[1;32m~\\anaconda3\\envs\\tf2.0\\lib\\site-packages\\tensorflow_core\\python\\keras\\engine\\training_v2.py\u001b[0m in \u001b[0;36mon_batch\u001b[1;34m(self, step, mode, size)\u001b[0m\n\u001b[0;32m    691\u001b[0m     \u001b[0mbatch_logs\u001b[0m \u001b[1;33m=\u001b[0m \u001b[1;33m{\u001b[0m\u001b[1;34m'batch'\u001b[0m\u001b[1;33m:\u001b[0m \u001b[0mstep\u001b[0m\u001b[1;33m,\u001b[0m \u001b[1;34m'size'\u001b[0m\u001b[1;33m:\u001b[0m \u001b[0msize\u001b[0m\u001b[1;33m}\u001b[0m\u001b[1;33m\u001b[0m\u001b[1;33m\u001b[0m\u001b[0m\n\u001b[0;32m    692\u001b[0m     self.callbacks._call_batch_hook(\n\u001b[1;32m--> 693\u001b[1;33m         mode, 'begin', step, batch_logs)\n\u001b[0m\u001b[0;32m    694\u001b[0m     \u001b[0mself\u001b[0m\u001b[1;33m.\u001b[0m\u001b[0mprogbar\u001b[0m\u001b[1;33m.\u001b[0m\u001b[0mon_batch_begin\u001b[0m\u001b[1;33m(\u001b[0m\u001b[0mstep\u001b[0m\u001b[1;33m,\u001b[0m \u001b[0mbatch_logs\u001b[0m\u001b[1;33m)\u001b[0m\u001b[1;33m\u001b[0m\u001b[1;33m\u001b[0m\u001b[0m\n\u001b[0;32m    695\u001b[0m     \u001b[1;32mtry\u001b[0m\u001b[1;33m:\u001b[0m\u001b[1;33m\u001b[0m\u001b[1;33m\u001b[0m\u001b[0m\n",
      "\u001b[1;32m~\\anaconda3\\envs\\tf2.0\\lib\\site-packages\\tensorflow_core\\python\\keras\\callbacks.py\u001b[0m in \u001b[0;36m_call_batch_hook\u001b[1;34m(self, mode, hook, batch, logs)\u001b[0m\n\u001b[0;32m    236\u001b[0m     \u001b[0mself\u001b[0m\u001b[1;33m.\u001b[0m\u001b[0m_delta_ts\u001b[0m\u001b[1;33m[\u001b[0m\u001b[0mhook_name\u001b[0m\u001b[1;33m]\u001b[0m\u001b[1;33m.\u001b[0m\u001b[0mappend\u001b[0m\u001b[1;33m(\u001b[0m\u001b[0mtime\u001b[0m\u001b[1;33m.\u001b[0m\u001b[0mtime\u001b[0m\u001b[1;33m(\u001b[0m\u001b[1;33m)\u001b[0m \u001b[1;33m-\u001b[0m \u001b[0mt_before_callbacks\u001b[0m\u001b[1;33m)\u001b[0m\u001b[1;33m\u001b[0m\u001b[1;33m\u001b[0m\u001b[0m\n\u001b[0;32m    237\u001b[0m \u001b[1;33m\u001b[0m\u001b[0m\n\u001b[1;32m--> 238\u001b[1;33m     \u001b[0mdelta_t_median\u001b[0m \u001b[1;33m=\u001b[0m \u001b[0mnp\u001b[0m\u001b[1;33m.\u001b[0m\u001b[0mmedian\u001b[0m\u001b[1;33m(\u001b[0m\u001b[0mself\u001b[0m\u001b[1;33m.\u001b[0m\u001b[0m_delta_ts\u001b[0m\u001b[1;33m[\u001b[0m\u001b[0mhook_name\u001b[0m\u001b[1;33m]\u001b[0m\u001b[1;33m)\u001b[0m\u001b[1;33m\u001b[0m\u001b[1;33m\u001b[0m\u001b[0m\n\u001b[0m\u001b[0;32m    239\u001b[0m     if (self._delta_t_batch > 0. and\n\u001b[0;32m    240\u001b[0m         delta_t_median > 0.95 * self._delta_t_batch and delta_t_median > 0.1):\n",
      "\u001b[1;32m<__array_function__ internals>\u001b[0m in \u001b[0;36mmedian\u001b[1;34m(*args, **kwargs)\u001b[0m\n",
      "\u001b[1;32m~\\anaconda3\\envs\\tf2.0\\lib\\site-packages\\numpy\\lib\\function_base.py\u001b[0m in \u001b[0;36mmedian\u001b[1;34m(a, axis, out, overwrite_input, keepdims)\u001b[0m\n\u001b[0;32m   3519\u001b[0m     \"\"\"\n\u001b[0;32m   3520\u001b[0m     r, k = _ureduce(a, func=_median, axis=axis, out=out,\n\u001b[1;32m-> 3521\u001b[1;33m                     overwrite_input=overwrite_input)\n\u001b[0m\u001b[0;32m   3522\u001b[0m     \u001b[1;32mif\u001b[0m \u001b[0mkeepdims\u001b[0m\u001b[1;33m:\u001b[0m\u001b[1;33m\u001b[0m\u001b[1;33m\u001b[0m\u001b[0m\n\u001b[0;32m   3523\u001b[0m         \u001b[1;32mreturn\u001b[0m \u001b[0mr\u001b[0m\u001b[1;33m.\u001b[0m\u001b[0mreshape\u001b[0m\u001b[1;33m(\u001b[0m\u001b[0mk\u001b[0m\u001b[1;33m)\u001b[0m\u001b[1;33m\u001b[0m\u001b[1;33m\u001b[0m\u001b[0m\n",
      "\u001b[1;32m~\\anaconda3\\envs\\tf2.0\\lib\\site-packages\\numpy\\lib\\function_base.py\u001b[0m in \u001b[0;36m_ureduce\u001b[1;34m(a, func, **kwargs)\u001b[0m\n\u001b[0;32m   3427\u001b[0m         \u001b[0mkeepdim\u001b[0m \u001b[1;33m=\u001b[0m \u001b[1;33m(\u001b[0m\u001b[1;36m1\u001b[0m\u001b[1;33m,\u001b[0m\u001b[1;33m)\u001b[0m \u001b[1;33m*\u001b[0m \u001b[0ma\u001b[0m\u001b[1;33m.\u001b[0m\u001b[0mndim\u001b[0m\u001b[1;33m\u001b[0m\u001b[1;33m\u001b[0m\u001b[0m\n\u001b[0;32m   3428\u001b[0m \u001b[1;33m\u001b[0m\u001b[0m\n\u001b[1;32m-> 3429\u001b[1;33m     \u001b[0mr\u001b[0m \u001b[1;33m=\u001b[0m \u001b[0mfunc\u001b[0m\u001b[1;33m(\u001b[0m\u001b[0ma\u001b[0m\u001b[1;33m,\u001b[0m \u001b[1;33m**\u001b[0m\u001b[0mkwargs\u001b[0m\u001b[1;33m)\u001b[0m\u001b[1;33m\u001b[0m\u001b[1;33m\u001b[0m\u001b[0m\n\u001b[0m\u001b[0;32m   3430\u001b[0m     \u001b[1;32mreturn\u001b[0m \u001b[0mr\u001b[0m\u001b[1;33m,\u001b[0m \u001b[0mkeepdim\u001b[0m\u001b[1;33m\u001b[0m\u001b[1;33m\u001b[0m\u001b[0m\n\u001b[0;32m   3431\u001b[0m \u001b[1;33m\u001b[0m\u001b[0m\n",
      "\u001b[1;32m~\\anaconda3\\envs\\tf2.0\\lib\\site-packages\\numpy\\lib\\function_base.py\u001b[0m in \u001b[0;36m_median\u001b[1;34m(a, axis, out, overwrite_input)\u001b[0m\n\u001b[0;32m   3553\u001b[0m             \u001b[0mpart\u001b[0m \u001b[1;33m=\u001b[0m \u001b[0ma\u001b[0m\u001b[1;33m\u001b[0m\u001b[1;33m\u001b[0m\u001b[0m\n\u001b[0;32m   3554\u001b[0m     \u001b[1;32melse\u001b[0m\u001b[1;33m:\u001b[0m\u001b[1;33m\u001b[0m\u001b[1;33m\u001b[0m\u001b[0m\n\u001b[1;32m-> 3555\u001b[1;33m         \u001b[0mpart\u001b[0m \u001b[1;33m=\u001b[0m \u001b[0mpartition\u001b[0m\u001b[1;33m(\u001b[0m\u001b[0ma\u001b[0m\u001b[1;33m,\u001b[0m \u001b[0mkth\u001b[0m\u001b[1;33m,\u001b[0m \u001b[0maxis\u001b[0m\u001b[1;33m=\u001b[0m\u001b[0maxis\u001b[0m\u001b[1;33m)\u001b[0m\u001b[1;33m\u001b[0m\u001b[1;33m\u001b[0m\u001b[0m\n\u001b[0m\u001b[0;32m   3556\u001b[0m \u001b[1;33m\u001b[0m\u001b[0m\n\u001b[0;32m   3557\u001b[0m     \u001b[1;32mif\u001b[0m \u001b[0mpart\u001b[0m\u001b[1;33m.\u001b[0m\u001b[0mshape\u001b[0m \u001b[1;33m==\u001b[0m \u001b[1;33m(\u001b[0m\u001b[1;33m)\u001b[0m\u001b[1;33m:\u001b[0m\u001b[1;33m\u001b[0m\u001b[1;33m\u001b[0m\u001b[0m\n",
      "\u001b[1;32m<__array_function__ internals>\u001b[0m in \u001b[0;36mpartition\u001b[1;34m(*args, **kwargs)\u001b[0m\n",
      "\u001b[1;32m~\\anaconda3\\envs\\tf2.0\\lib\\site-packages\\numpy\\core\\fromnumeric.py\u001b[0m in \u001b[0;36mpartition\u001b[1;34m(a, kth, axis, kind, order)\u001b[0m\n\u001b[0;32m    746\u001b[0m     \u001b[1;32melse\u001b[0m\u001b[1;33m:\u001b[0m\u001b[1;33m\u001b[0m\u001b[1;33m\u001b[0m\u001b[0m\n\u001b[0;32m    747\u001b[0m         \u001b[0ma\u001b[0m \u001b[1;33m=\u001b[0m \u001b[0masanyarray\u001b[0m\u001b[1;33m(\u001b[0m\u001b[0ma\u001b[0m\u001b[1;33m)\u001b[0m\u001b[1;33m.\u001b[0m\u001b[0mcopy\u001b[0m\u001b[1;33m(\u001b[0m\u001b[0morder\u001b[0m\u001b[1;33m=\u001b[0m\u001b[1;34m\"K\"\u001b[0m\u001b[1;33m)\u001b[0m\u001b[1;33m\u001b[0m\u001b[1;33m\u001b[0m\u001b[0m\n\u001b[1;32m--> 748\u001b[1;33m     \u001b[0ma\u001b[0m\u001b[1;33m.\u001b[0m\u001b[0mpartition\u001b[0m\u001b[1;33m(\u001b[0m\u001b[0mkth\u001b[0m\u001b[1;33m,\u001b[0m \u001b[0maxis\u001b[0m\u001b[1;33m=\u001b[0m\u001b[0maxis\u001b[0m\u001b[1;33m,\u001b[0m \u001b[0mkind\u001b[0m\u001b[1;33m=\u001b[0m\u001b[0mkind\u001b[0m\u001b[1;33m,\u001b[0m \u001b[0morder\u001b[0m\u001b[1;33m=\u001b[0m\u001b[0morder\u001b[0m\u001b[1;33m)\u001b[0m\u001b[1;33m\u001b[0m\u001b[1;33m\u001b[0m\u001b[0m\n\u001b[0m\u001b[0;32m    749\u001b[0m     \u001b[1;32mreturn\u001b[0m \u001b[0ma\u001b[0m\u001b[1;33m\u001b[0m\u001b[1;33m\u001b[0m\u001b[0m\n\u001b[0;32m    750\u001b[0m \u001b[1;33m\u001b[0m\u001b[0m\n",
      "\u001b[1;31mKeyboardInterrupt\u001b[0m: "
     ]
    }
   ],
   "source": [
    "# search for hyper parameters\n",
    "tunner.search(X_train,y_train,\n",
    "              epochs=5,\n",
    "              validation_data =(X_test,y_test))"
   ]
  },
  {
   "cell_type": "code",
   "execution_count": null,
   "metadata": {
    "colab": {
     "base_uri": "https://localhost:8080/"
    },
    "id": "pMvzmM1tPYlV",
    "outputId": "1cd758b4-8abb-4071-92c9-ad3ec17f6d0f"
   },
   "outputs": [],
   "source": [
    "tunner.results_summary()"
   ]
  },
  {
   "cell_type": "code",
   "execution_count": null,
   "metadata": {
    "colab": {
     "base_uri": "https://localhost:8080/"
    },
    "id": "yRi0HkYOPwRc",
    "outputId": "30771cfe-a1d3-4374-cd0f-ef1942e640a6"
   },
   "outputs": [],
   "source": [
    "# Get the optimal hyperparameters\n",
    "best_hps=tunner.get_best_hyperparameters(num_trials=1)[0]\n",
    "\n",
    "print(f\"\"\"\n",
    "The hyperparameter search is complete. The optimal number of units in the first densely-connected\n",
    "layer is {best_hps.get('units')} and the optimal learning rate for the optimizer\n",
    "is {best_hps.get('learning_rate')}.\n",
    "\"\"\")"
   ]
  },
  {
   "cell_type": "markdown",
   "metadata": {
    "id": "JIBj9yo6Suh7"
   },
   "source": [
    "#### Tunning for Layers "
   ]
  },
  {
   "cell_type": "code",
   "execution_count": null,
   "metadata": {
    "id": "8cD4VvLpRFO2"
   },
   "outputs": [],
   "source": [
    "# Finding optimum layers \n",
    "def model_builder2(hp):\n",
    "  model = keras.Sequential()\n",
    "  # add Flatten layer \n",
    "  model.add(keras.layers.Flatten(input_shape =(28,28)))\n",
    "\n",
    "  # Tune the number of units in the first Dense layer\n",
    "  # choosing optimal value between 32 and 512\n",
    "  #hp_units = hp.Int('units',min_value =50,max_value =100, step =10)\n",
    "  for i in range(hp.Int('layers',2,6)):\n",
    "\n",
    "    model.add(keras.layers.Dense(\n",
    "        units = hp.Int('units_' +str(i),32,512,step=64),\n",
    "        activation='relu'))\n",
    "        #activation = hp.Choice('act_'+str(i),['relu','sigmoid']))))\n",
    "  model.add(keras.layers.Dense(10, activation='softmax'))\n",
    "\n",
    "  # Tune learning rate for optimizer \n",
    "  # choose an optimal value from 0.01, 0.01, 0.0001\n",
    "  #hp_learning_rate =hp.Choice('learning_rate',values =[1e-2,1e-3,1e-4])\n",
    "\n",
    "  # compile the model\n",
    "  model.compile(optimizer ='adam',\n",
    "                loss ='categorical_crossentropy',\n",
    "                metrics =['accuracy'])\n",
    "  return model"
   ]
  },
  {
   "cell_type": "code",
   "execution_count": null,
   "metadata": {
    "id": "86qwsxQuTBGh"
   },
   "outputs": [],
   "source": [
    "tuner_2 = kt.RandomSearch(\n",
    "    model_builder2,\n",
    "    objective='val_accuracy',\n",
    "    max_trials=5,\n",
    "    directory='my_dir_3',\n",
    "    project_name='tunning_3'\n",
    ")"
   ]
  },
  {
   "cell_type": "code",
   "execution_count": null,
   "metadata": {
    "colab": {
     "base_uri": "https://localhost:8080/"
    },
    "id": "_MR2t3XSTnor",
    "outputId": "dbe58309-e401-4656-db49-904e7a2d44a4"
   },
   "outputs": [],
   "source": [
    "tuner_2.search_space_summary()"
   ]
  },
  {
   "cell_type": "code",
   "execution_count": null,
   "metadata": {
    "colab": {
     "base_uri": "https://localhost:8080/"
    },
    "id": "ihCcWp8WTsuR",
    "outputId": "c77c412c-7010-40df-a65c-9f2c504ea91e"
   },
   "outputs": [],
   "source": [
    "tuner_2.search(X_train,y_train,\n",
    "               epochs=10,\n",
    "               validation_data=(X_test,y_test))"
   ]
  },
  {
   "cell_type": "code",
   "execution_count": null,
   "metadata": {
    "colab": {
     "base_uri": "https://localhost:8080/"
    },
    "id": "vYCVfC3XZAf3",
    "outputId": "132d03ec-8039-42bd-df5e-03c6f6638df0"
   },
   "outputs": [],
   "source": [
    "tuner_2.results_summary()"
   ]
  },
  {
   "cell_type": "code",
   "execution_count": null,
   "metadata": {
    "colab": {
     "base_uri": "https://localhost:8080/"
    },
    "id": "uYbp4RpuZvlD",
    "outputId": "5443167c-ce4a-435b-f184-ecca293784fc"
   },
   "outputs": [],
   "source": [
    "best_nn_model = tuner_2.get_best_models(num_models=1)[0]\n",
    "best_nn_model.summary()"
   ]
  },
  {
   "cell_type": "markdown",
   "metadata": {
    "id": "w4u7pz22bUeD"
   },
   "source": [
    "#### Generate submission file"
   ]
  },
  {
   "cell_type": "markdown",
   "metadata": {
    "id": "eigtCLw9bUYI"
   },
   "source": []
  },
  {
   "cell_type": "code",
   "execution_count": null,
   "metadata": {
    "colab": {
     "base_uri": "https://localhost:8080/"
    },
    "id": "8xuvZst7akHY",
    "outputId": "9d04b147-aa38-44ba-e0c5-10c74df79ce4"
   },
   "outputs": [],
   "source": [
    "## predicting final test images \n",
    "generate_submission(best_nn_model.predict(final_test_imgs),'sumbmission_tunned_nn_model')"
   ]
  },
  {
   "cell_type": "markdown",
   "metadata": {
    "id": "uPN-PL-ZboGn"
   },
   "source": [
    "### Simple ANN : without Tunning"
   ]
  },
  {
   "cell_type": "code",
   "execution_count": null,
   "metadata": {
    "id": "LXdRFgUQC5ID"
   },
   "outputs": [],
   "source": [
    "### Neural Networks \n",
    "\n",
    "nn_model = tf.keras.Sequential([\n",
    "                             tf.keras.layers.Dense(784,activation='relu',input_shape=(784,)),\n",
    "                             tf.keras.layers.Dense(10,activation='relu'),\n",
    "                             tf.keras.layers.Dropout(0.1),\n",
    "                             tf.keras.layers.Dense(10,activation='softmax')\n",
    "\n",
    "])"
   ]
  },
  {
   "cell_type": "code",
   "execution_count": null,
   "metadata": {
    "colab": {
     "base_uri": "https://localhost:8080/"
    },
    "id": "fjiKLRzuGH-k",
    "outputId": "cdce82a2-7aa6-4d3d-f3b8-a116f4e2bbb8"
   },
   "outputs": [],
   "source": [
    "nn_model.summary()"
   ]
  },
  {
   "cell_type": "code",
   "execution_count": null,
   "metadata": {
    "id": "bHGDbn6ZGM1Y"
   },
   "outputs": [],
   "source": [
    "nn_model.compile(optimizer='adam',loss='categorical_crossentropy',metrics=['accuracy'],)"
   ]
  },
  {
   "cell_type": "code",
   "execution_count": null,
   "metadata": {
    "colab": {
     "base_uri": "https://localhost:8080/"
    },
    "id": "ybdWc2zYHsE0",
    "outputId": "4ed630cc-409d-4e79-f125-8870b3b110bb"
   },
   "outputs": [],
   "source": [
    "history = nn_model.fit(X_train,y_train,\n",
    "                    epochs =10,\n",
    "                    batch_size =50,\n",
    "                    validation_data=(X_test,y_test),\n",
    "                    verbose=1)"
   ]
  },
  {
   "cell_type": "code",
   "execution_count": null,
   "metadata": {
    "colab": {
     "base_uri": "https://localhost:8080/",
     "height": 545
    },
    "id": "R-1884zxLqXa",
    "outputId": "23ccd89b-8ca3-4c1a-b0b8-725f81717d3d"
   },
   "outputs": [],
   "source": [
    "def plot_graphs(history,string):\n",
    "  plt.plot(history.history[string])\n",
    "  plt.plot(history.history['val_'+string])\n",
    "  plt.xlabel('Epochs')\n",
    "  plt.ylabel(string)\n",
    "  plt.legend([string, 'val_'+string])\n",
    "  plt.show()\n",
    "\n",
    "plot_graphs(history,'accuracy')\n",
    "plot_graphs(history,'loss')"
   ]
  },
  {
   "cell_type": "code",
   "execution_count": null,
   "metadata": {
    "id": "22eQt2o9Ne3T"
   },
   "outputs": [],
   "source": [
    "## prediction on test data \n",
    "y_predict = nn_model.predict(final_test_imgs)\n",
    "y_predict_classes = np.argmax(y_predict,axis =1)\n",
    "results = pd.DataFrame(y_predict_classes,columns=['Label'])\n",
    "results['ImageID']= pd.Series(range(1,28001))\n",
    "results =results.loc[:,['ImageID','Label']]"
   ]
  },
  {
   "cell_type": "code",
   "execution_count": null,
   "metadata": {
    "colab": {
     "base_uri": "https://localhost:8080/",
     "height": 419
    },
    "id": "HvDrw89_SKJ1",
    "outputId": "c16f1b4d-0418-461f-a44b-4b26d6a1230b"
   },
   "outputs": [],
   "source": [
    "results"
   ]
  },
  {
   "cell_type": "code",
   "execution_count": null,
   "metadata": {
    "id": "sSDPm9iSSn9U"
   },
   "outputs": [],
   "source": [
    "results.to_csv('nn_submision1.csv',index =False)"
   ]
  },
  {
   "cell_type": "code",
   "execution_count": 72,
   "metadata": {
    "ExecuteTime": {
     "end_time": "2021-10-01T11:53:16.567781Z",
     "start_time": "2021-10-01T11:53:16.544797Z"
    },
    "id": "456fATitTMus"
   },
   "outputs": [],
   "source": [
    "def generate_submission(model_predictions,submission_name):\n",
    "  y_predict = model_predictions.copy()\n",
    "  y_predict_classes = np.argmax(y_predict,axis =1)\n",
    "  results = pd.DataFrame(y_predict_classes,columns=['Label'])\n",
    "  results['ImageID']= pd.Series(range(1,28001))\n",
    "  results =results.loc[:,['ImageID','Label']]\n",
    "\n",
    "  # generate the csv file \n",
    "  results.to_csv(submission_name +'.csv',index =False)"
   ]
  },
  {
   "cell_type": "code",
   "execution_count": null,
   "metadata": {
    "id": "kUd0gOneUk3Z"
   },
   "outputs": [],
   "source": [
    "generate_submission(nn_model.predict(final_test_imgs),'test_submission')\n"
   ]
  },
  {
   "cell_type": "markdown",
   "metadata": {
    "id": "RugoCwY4vfVK"
   },
   "source": [
    "### Simple CNN : without Tunning"
   ]
  },
  {
   "cell_type": "code",
   "execution_count": null,
   "metadata": {
    "id": "fr00vv9yv5Eq"
   },
   "outputs": [],
   "source": [
    "# # Train test split \n",
    "\n",
    "X_train,X_test,y_train,y_test =train_test_split(X,Y,random_state=42)\n",
    "# Reshape the training and test to fit the input format of CNN\n",
    "# shape of image is 28X28X1\n",
    "# shape of X_train (m,img_height,img_width,channels)\n",
    "\n",
    "X_train = X_train.values.reshape(-1,28,28,1)\n",
    "X_test =X_test.values.reshape(-1,28,28,1)\n",
    "\n",
    "final_test_imgs_cnn =final_test_imgs.values.reshape(-1,28,28,1)\n",
    "\n",
    "\n"
   ]
  },
  {
   "cell_type": "code",
   "execution_count": null,
   "metadata": {
    "id": "OkJF8UTap_ZN"
   },
   "outputs": [],
   "source": [
    "def cnn_train_test_split():\n",
    "  # load the data\n",
    "  training_imgs = pd.read_csv('train.csv')\n",
    "  final_test_imgs = pd.read_csv('test.csv')\n",
    "\n",
    "  # Seperate labels \n",
    "  X = training_imgs.iloc[:,1:]\n",
    "  Y = training_imgs.iloc[:,0]\n",
    "\n",
    "  # convert Label to categorical \n",
    "  Y= to_categorical(Y)\n",
    "\n",
    "  # Normalise the data \n",
    "  X = X/255.\n",
    "  final_test_imgs = final_test_imgs/255.\n",
    "\n",
    "  # # Train test split \n",
    "  X_train,X_test,y_train,y_test =train_test_split(X,Y,random_state=42)\n",
    "  # Reshape the training and test to fit the input format of CNN\n",
    "  # shape of image is 28X28X1\n",
    "  # shape of X_train (m,img_height,img_width,channels)\n",
    "\n",
    "  X_train = X_train.values.reshape(-1,28,28,1)\n",
    "  X_test =X_test.values.reshape(-1,28,28,1)\n",
    "\n",
    "  final_test_imgs_cnn =final_test_imgs.values.reshape(-1,28,28,1)\n",
    "\n",
    "  return X_train,X_test,y_train,y_test,final_test_imgs_cnn\n"
   ]
  },
  {
   "cell_type": "code",
   "execution_count": null,
   "metadata": {
    "colab": {
     "base_uri": "https://localhost:8080/",
     "height": 439
    },
    "id": "MxO6K_DwSWv_",
    "outputId": "9812b0b1-23f4-4a42-dc4a-3e1be57f7d9e"
   },
   "outputs": [],
   "source": [
    "final_test_imgs"
   ]
  },
  {
   "cell_type": "code",
   "execution_count": null,
   "metadata": {
    "colab": {
     "base_uri": "https://localhost:8080/"
    },
    "id": "b43v-lxeFkX2",
    "outputId": "14c26e25-b53c-43f6-ba41-0e624f6cea11"
   },
   "outputs": [],
   "source": [
    "final_test_imgs_cnn.shape"
   ]
  },
  {
   "cell_type": "code",
   "execution_count": null,
   "metadata": {
    "colab": {
     "base_uri": "https://localhost:8080/"
    },
    "id": "gJKSPN722Lyz",
    "outputId": "08c326c8-770a-46d1-e8f8-17c5d5e517a0"
   },
   "outputs": [],
   "source": [
    "X_test.shape"
   ]
  },
  {
   "cell_type": "code",
   "execution_count": null,
   "metadata": {
    "id": "BGcwCOdpv9v7"
   },
   "outputs": [],
   "source": [
    "epochs =10\n",
    "batch_size =80\n",
    "\n",
    "# setup Image Data generator \n",
    "training_datagen = ImageDataGenerator(\n",
    "    #rotation_range=10,\n",
    "    #width_shift_range=0.2,\n",
    "    #height_shift_range=0.2,\n",
    "    #shear_range=0.2,\n",
    "    #zoom_range=0.2,\n",
    "\n",
    ")\n",
    "#\n",
    "validation_datagen = ImageDataGenerator()\n",
    "\n",
    "training_generator = training_datagen.flow(X_train,y_train,batch_size=batch_size)\n",
    "validation_generator = validation_datagen.flow(X_test,y_test,batch_size=batch_size)"
   ]
  },
  {
   "cell_type": "code",
   "execution_count": null,
   "metadata": {
    "id": "b8hGwFjtzjQW"
   },
   "outputs": [],
   "source": [
    "# Model creation \n",
    "from tensorflow.keras.optimizers import RMSprop\n",
    "\n",
    "cnn_model = tf.keras.Sequential([\n",
    "                                 # First Conv layer\n",
    "                                 tf.keras.layers.Conv2D(64,(3,3),activation='relu',input_shape=(28,28,1)),\n",
    "                                 tf.keras.layers.MaxPooling2D(2,2),\n",
    "                                 # Secon conv layer\n",
    "                                 tf.keras.layers.Conv2D(64,(3,3),activation='relu'),\n",
    "                                 tf.keras.layers.MaxPooling2D(2,2),\n",
    "                                 # Third conv layer\n",
    "                                 tf.keras.layers.Conv2D(128,(3,3),activation='relu'),\n",
    "                                 tf.keras.layers.MaxPooling2D(2,2),\n",
    "                                 # Flatten layer \n",
    "                                 tf.keras.layers.Flatten(),\n",
    "                                 # Dense layer \n",
    "                                 tf.keras.layers.Dense(512,activation='relu'),\n",
    "                                 # softmax layer\n",
    "                                 tf.keras.layers.Dense(10,activation='softmax')\n",
    "                                \n",
    "])\n",
    "\n",
    "cnn_model.compile(optimizer ='adam' ,loss ='categorical_crossentropy',metrics =['accuracy'])\n",
    "# RMSprop(learning_rate=1e-4)                            "
   ]
  },
  {
   "cell_type": "code",
   "execution_count": null,
   "metadata": {
    "colab": {
     "base_uri": "https://localhost:8080/"
    },
    "id": "PA6Yvl0T8JmX",
    "outputId": "dd7c70fa-aaf5-4f60-c3c3-c6fd4c56eb42"
   },
   "outputs": [],
   "source": [
    "cnn_model.summary()"
   ]
  },
  {
   "cell_type": "code",
   "execution_count": null,
   "metadata": {
    "colab": {
     "base_uri": "https://localhost:8080/"
    },
    "id": "HpL9BUzi5Zry",
    "outputId": "c2439a78-964e-4060-abdb-44b98fa2de24"
   },
   "outputs": [],
   "source": [
    "history = cnn_model.fit_generator(training_generator,\n",
    "                                  epochs=epochs,\n",
    "                                  validation_data = validation_generator,\n",
    "                                  verbose=1,\n",
    "                                  )"
   ]
  },
  {
   "cell_type": "code",
   "execution_count": null,
   "metadata": {
    "colab": {
     "base_uri": "https://localhost:8080/",
     "height": 541
    },
    "id": "_1I5v-vx65kC",
    "outputId": "aff2d460-07e4-4816-97a3-c378caa4de6b"
   },
   "outputs": [],
   "source": [
    "plot_graphs(history,'accuracy')\n",
    "plot_graphs(history,'loss')"
   ]
  },
  {
   "cell_type": "code",
   "execution_count": null,
   "metadata": {
    "id": "fvCLzyVq7BpO"
   },
   "outputs": [],
   "source": [
    "generate_submission(cnn_model.predict(final_test_imgs_cnn),'cnn_submission2')"
   ]
  },
  {
   "cell_type": "code",
   "execution_count": null,
   "metadata": {
    "id": "_VZY_JbeHBDV"
   },
   "outputs": [],
   "source": [
    "predict = cnn_model.predict(final_test_imgs_cnn)"
   ]
  },
  {
   "cell_type": "code",
   "execution_count": null,
   "metadata": {
    "colab": {
     "base_uri": "https://localhost:8080/"
    },
    "id": "cP-LLK0RPaOV",
    "outputId": "7558ac65-d19d-4728-c408-619723096bc9"
   },
   "outputs": [],
   "source": [
    "predict.shape"
   ]
  },
  {
   "cell_type": "code",
   "execution_count": null,
   "metadata": {
    "colab": {
     "base_uri": "https://localhost:8080/"
    },
    "id": "jYf1HkniHe09",
    "outputId": "b24eca10-ed1e-44cf-e10b-8906bfd18131"
   },
   "outputs": [],
   "source": [
    "predict_class = np.argmax(predict,axis =1)\n",
    "predict_class"
   ]
  },
  {
   "cell_type": "code",
   "execution_count": null,
   "metadata": {
    "colab": {
     "base_uri": "https://localhost:8080/"
    },
    "id": "a_yEhMAwQVq0",
    "outputId": "9ce72785-eb01-46f8-ae29-61766a79fb51"
   },
   "outputs": [],
   "source": [
    "max(predict[0,:])"
   ]
  },
  {
   "cell_type": "code",
   "execution_count": null,
   "metadata": {
    "colab": {
     "base_uri": "https://localhost:8080/"
    },
    "id": "aNENpWlWOiKu",
    "outputId": "529f4edc-3359-4678-d139-a99cbd260ac7"
   },
   "outputs": [],
   "source": [
    "X_test"
   ]
  },
  {
   "cell_type": "code",
   "execution_count": null,
   "metadata": {
    "colab": {
     "base_uri": "https://localhost:8080/"
    },
    "id": "J45X_61qNbx8",
    "outputId": "83a04fa5-e0ea-4a9e-879d-8ee72838f29b"
   },
   "outputs": [],
   "source": [
    "precit_class"
   ]
  },
  {
   "cell_type": "code",
   "execution_count": null,
   "metadata": {
    "colab": {
     "base_uri": "https://localhost:8080/"
    },
    "id": "tfrWms7UNKSQ",
    "outputId": "3daa1b66-b10d-4562-ff85-93066899cb2c"
   },
   "outputs": [],
   "source": [
    "pd.Series(precit_class).value_counts()"
   ]
  },
  {
   "cell_type": "code",
   "execution_count": null,
   "metadata": {
    "colab": {
     "base_uri": "https://localhost:8080/"
    },
    "id": "UC4aRARHHy2s",
    "outputId": "723d02fc-a8a4-489a-cd9b-7a4d2f4dfbd2"
   },
   "outputs": [],
   "source": [
    "predict.shape\n"
   ]
  },
  {
   "cell_type": "markdown",
   "metadata": {
    "id": "qtr9wCiNb884"
   },
   "source": [
    "### CNN Hyper parameter Tunning "
   ]
  },
  {
   "cell_type": "code",
   "execution_count": 21,
   "metadata": {
    "ExecuteTime": {
     "end_time": "2021-10-01T06:59:29.716674Z",
     "start_time": "2021-10-01T06:59:29.687693Z"
    },
    "id": "eBZ3AuZcrouW"
   },
   "outputs": [],
   "source": [
    "def cnn_train_test_split():\n",
    "  # load the data\n",
    "  training_imgs = pd.read_csv('train.csv')\n",
    "  final_test_imgs = pd.read_csv('test.csv')\n",
    "\n",
    "  # Seperate labels \n",
    "  X = training_imgs.iloc[:,1:]\n",
    "  Y = training_imgs.iloc[:,0]\n",
    "\n",
    "  # convert Label to categorical \n",
    "  Y= to_categorical(Y)\n",
    "\n",
    "  # Normalise the data \n",
    "  X = X/255.\n",
    "  final_test_imgs = final_test_imgs/255.\n",
    "\n",
    "  # # Train test split \n",
    "  X_train,X_test,y_train,y_test =train_test_split(X,Y,random_state=42)\n",
    "  # Reshape the training and test to fit the input format of CNN\n",
    "  # shape of image is 28X28X1\n",
    "  # shape of X_train (m,img_height,img_width,channels)\n",
    "\n",
    "  X_train = X_train.values.reshape(-1,28,28,1)\n",
    "  X_test =X_test.values.reshape(-1,28,28,1)\n",
    "\n",
    "  final_test_imgs_cnn =final_test_imgs.values.reshape(-1,28,28,1)\n",
    "\n",
    "  return X_train,X_test,y_train,y_test,final_test_imgs_cnn\n"
   ]
  },
  {
   "cell_type": "code",
   "execution_count": 22,
   "metadata": {
    "ExecuteTime": {
     "end_time": "2021-10-01T06:59:42.448604Z",
     "start_time": "2021-10-01T06:59:31.923699Z"
    },
    "id": "Y2Xx0C0NcH9s"
   },
   "outputs": [],
   "source": [
    "# Fresh Train test split \n",
    "X_train,X_test,y_train,y_test,final_test_imgs_cnn = cnn_train_test_split()"
   ]
  },
  {
   "cell_type": "code",
   "execution_count": 23,
   "metadata": {
    "ExecuteTime": {
     "end_time": "2021-10-01T06:59:44.789457Z",
     "start_time": "2021-10-01T06:59:44.748484Z"
    },
    "id": "a0XWOVvEr37G"
   },
   "outputs": [],
   "source": [
    "def model_builder(hp):\n",
    "  model = keras.Sequential()\n",
    "\n",
    "  # First Conv Layer\n",
    "  model.add(keras.layers.Conv2D(\n",
    "    filters=hp.Int('conv_1_filters',min_value=32,max_value =128,step =16),\n",
    "    kernel_size=hp.Choice('conv_1_kernel_size',values=[3,5]),\n",
    "    activation='relu',\n",
    "    padding='same',\n",
    "    input_shape=(28,28,1)\n",
    "  ))\n",
    "  model.add(keras.layers.MaxPooling2D(2,2))\n",
    "\n",
    "  # Second Conv layer\n",
    "  model.add(keras.layers.Conv2D(\n",
    "      filters =hp.Int('conv_2_filters',min_value=32,max_value=128,step =16),\n",
    "      kernel_size=hp.Choice('conv_1_kernel_size',values=[3,5]),\n",
    "      padding='same',\n",
    "      activation='relu'\n",
    "  ))\n",
    "  model.add(keras.layers.MaxPooling2D(2,2))\n",
    "\n",
    "  # Third Conv layer\n",
    "  model.add(keras.layers.Conv2D(\n",
    "      filters =hp.Int('conv_3_filters',min_value=32,max_value=128,step =16),\n",
    "      kernel_size=hp.Choice('conv_3_kernel_size',values=[3,5]),\n",
    "      padding='same',\n",
    "      activation='relu'\n",
    "  ))\n",
    "  model.add(keras.layers.MaxPooling2D(2,2))\n",
    "  # Flatten Layer \n",
    "  model.add(keras.layers.Flatten())\n",
    "\n",
    "  # Dense layer\n",
    "  model.add(keras.layers.Dense(\n",
    "      units = hp.Int('Dense_layer_units',min_value=32,max_value=512,step =32),\n",
    "      activation='relu'\n",
    "  ))\n",
    "\n",
    "  # Output Layer\n",
    "  model.add(keras.layers.Dense(10,activation='softmax'))\n",
    "\n",
    "  model.compile(\n",
    "      optimizer = keras.optimizers.Adam(learning_rate=hp.Choice('learning_rate',values =[1e-2,1e-3,1e-4])),\n",
    "      loss='categorical_crossentropy',\n",
    "      metrics=['accuracy']\n",
    "  )\n",
    "\n",
    "  return model\n"
   ]
  },
  {
   "cell_type": "code",
   "execution_count": 24,
   "metadata": {
    "ExecuteTime": {
     "end_time": "2021-10-01T06:59:49.976204Z",
     "start_time": "2021-10-01T06:59:49.514583Z"
    },
    "id": "MggLjzZawp7x"
   },
   "outputs": [],
   "source": [
    "cnn_tunner = kt.tuners.RandomSearch(\n",
    "    model_builder,\n",
    "    objective='val_accuracy',\n",
    "    max_trials=5,\n",
    "    directory='cnn_tunning2',\n",
    "    project_name='cnn_tunner_mnist2'\n",
    "\n",
    ")"
   ]
  },
  {
   "cell_type": "code",
   "execution_count": 25,
   "metadata": {
    "ExecuteTime": {
     "end_time": "2021-10-01T06:59:53.294853Z",
     "start_time": "2021-10-01T06:59:53.274865Z"
    },
    "colab": {
     "base_uri": "https://localhost:8080/"
    },
    "id": "nbB7xdNHxQ4c",
    "outputId": "9fa9faaa-a992-4735-dbb6-c4f58df33ab5"
   },
   "outputs": [
    {
     "name": "stdout",
     "output_type": "stream",
     "text": [
      "Search space summary\n",
      "Default search space size: 7\n",
      "conv_1_filters (Int)\n",
      "{'default': None, 'conditions': [], 'min_value': 32, 'max_value': 128, 'step': 16, 'sampling': None}\n",
      "conv_1_kernel_size (Choice)\n",
      "{'default': 3, 'conditions': [], 'values': [3, 5], 'ordered': True}\n",
      "conv_2_filters (Int)\n",
      "{'default': None, 'conditions': [], 'min_value': 32, 'max_value': 128, 'step': 16, 'sampling': None}\n",
      "conv_3_filters (Int)\n",
      "{'default': None, 'conditions': [], 'min_value': 32, 'max_value': 128, 'step': 16, 'sampling': None}\n",
      "conv_3_kernel_size (Choice)\n",
      "{'default': 3, 'conditions': [], 'values': [3, 5], 'ordered': True}\n",
      "Dense_layer_units (Int)\n",
      "{'default': None, 'conditions': [], 'min_value': 32, 'max_value': 512, 'step': 32, 'sampling': None}\n",
      "learning_rate (Choice)\n",
      "{'default': 0.01, 'conditions': [], 'values': [0.01, 0.001, 0.0001], 'ordered': True}\n"
     ]
    }
   ],
   "source": [
    "cnn_tunner.search_space_summary()"
   ]
  },
  {
   "cell_type": "code",
   "execution_count": 26,
   "metadata": {
    "ExecuteTime": {
     "end_time": "2021-10-01T07:00:27.069410Z",
     "start_time": "2021-10-01T07:00:17.284236Z"
    },
    "colab": {
     "base_uri": "https://localhost:8080/"
    },
    "id": "Zm7Bsdg9x3XJ",
    "outputId": "11fc963d-c4c1-43e4-e917-33e52e4d0e73"
   },
   "outputs": [
    {
     "name": "stdout",
     "output_type": "stream",
     "text": [
      "\n",
      "Search: Running Trial #1\n",
      "\n",
      "Hyperparameter    |Value             |Best Value So Far \n",
      "conv_1_filters    |48                |?                 \n",
      "conv_1_kernel_size|3                 |?                 \n",
      "conv_2_filters    |80                |?                 \n",
      "conv_3_filters    |48                |?                 \n",
      "conv_3_kernel_size|5                 |?                 \n",
      "Dense_layer_units |448               |?                 \n",
      "learning_rate     |0.0001            |?                 \n",
      "\n",
      "Train on 31500 samples, validate on 10500 samples\n",
      "Epoch 1/5\n",
      " 3040/31500 [=>............................] - ETA: 1:15 - loss: 2.0132 - accuracy: 0.4632WARNING:tensorflow:Can save best model only with val_accuracy available, skipping.\n"
     ]
    },
    {
     "ename": "KeyboardInterrupt",
     "evalue": "",
     "output_type": "error",
     "traceback": [
      "\u001b[1;31m---------------------------------------------------------------------------\u001b[0m",
      "\u001b[1;31mKeyboardInterrupt\u001b[0m                         Traceback (most recent call last)",
      "\u001b[1;32m<ipython-input-26-8b10945b108c>\u001b[0m in \u001b[0;36m<module>\u001b[1;34m\u001b[0m\n\u001b[0;32m      1\u001b[0m cnn_tunner.search(X_train,y_train,\n\u001b[0;32m      2\u001b[0m                   \u001b[0mepochs\u001b[0m \u001b[1;33m=\u001b[0m\u001b[1;36m5\u001b[0m\u001b[1;33m,\u001b[0m\u001b[1;33m\u001b[0m\u001b[1;33m\u001b[0m\u001b[0m\n\u001b[1;32m----> 3\u001b[1;33m                   validation_data=(X_test,y_test))\n\u001b[0m",
      "\u001b[1;32m~\\anaconda3\\envs\\tf2.0\\lib\\site-packages\\keras_tuner\\engine\\base_tuner.py\u001b[0m in \u001b[0;36msearch\u001b[1;34m(self, *fit_args, **fit_kwargs)\u001b[0m\n\u001b[0;32m    174\u001b[0m \u001b[1;33m\u001b[0m\u001b[0m\n\u001b[0;32m    175\u001b[0m             \u001b[0mself\u001b[0m\u001b[1;33m.\u001b[0m\u001b[0mon_trial_begin\u001b[0m\u001b[1;33m(\u001b[0m\u001b[0mtrial\u001b[0m\u001b[1;33m)\u001b[0m\u001b[1;33m\u001b[0m\u001b[1;33m\u001b[0m\u001b[0m\n\u001b[1;32m--> 176\u001b[1;33m             \u001b[0mself\u001b[0m\u001b[1;33m.\u001b[0m\u001b[0mrun_trial\u001b[0m\u001b[1;33m(\u001b[0m\u001b[0mtrial\u001b[0m\u001b[1;33m,\u001b[0m \u001b[1;33m*\u001b[0m\u001b[0mfit_args\u001b[0m\u001b[1;33m,\u001b[0m \u001b[1;33m**\u001b[0m\u001b[0mfit_kwargs\u001b[0m\u001b[1;33m)\u001b[0m\u001b[1;33m\u001b[0m\u001b[1;33m\u001b[0m\u001b[0m\n\u001b[0m\u001b[0;32m    177\u001b[0m             \u001b[0mself\u001b[0m\u001b[1;33m.\u001b[0m\u001b[0mon_trial_end\u001b[0m\u001b[1;33m(\u001b[0m\u001b[0mtrial\u001b[0m\u001b[1;33m)\u001b[0m\u001b[1;33m\u001b[0m\u001b[1;33m\u001b[0m\u001b[0m\n\u001b[0;32m    178\u001b[0m         \u001b[0mself\u001b[0m\u001b[1;33m.\u001b[0m\u001b[0mon_search_end\u001b[0m\u001b[1;33m(\u001b[0m\u001b[1;33m)\u001b[0m\u001b[1;33m\u001b[0m\u001b[1;33m\u001b[0m\u001b[0m\n",
      "\u001b[1;32m~\\anaconda3\\envs\\tf2.0\\lib\\site-packages\\keras_tuner\\engine\\multi_execution_tuner.py\u001b[0m in \u001b[0;36mrun_trial\u001b[1;34m(self, trial, *fit_args, **fit_kwargs)\u001b[0m\n\u001b[0;32m     88\u001b[0m             \u001b[0mcopied_fit_kwargs\u001b[0m\u001b[1;33m[\u001b[0m\u001b[1;34m\"callbacks\"\u001b[0m\u001b[1;33m]\u001b[0m \u001b[1;33m=\u001b[0m \u001b[0mcallbacks\u001b[0m\u001b[1;33m\u001b[0m\u001b[1;33m\u001b[0m\u001b[0m\n\u001b[0;32m     89\u001b[0m \u001b[1;33m\u001b[0m\u001b[0m\n\u001b[1;32m---> 90\u001b[1;33m             \u001b[0mhistory\u001b[0m \u001b[1;33m=\u001b[0m \u001b[0mself\u001b[0m\u001b[1;33m.\u001b[0m\u001b[0m_build_and_fit_model\u001b[0m\u001b[1;33m(\u001b[0m\u001b[0mtrial\u001b[0m\u001b[1;33m,\u001b[0m \u001b[0mfit_args\u001b[0m\u001b[1;33m,\u001b[0m \u001b[0mcopied_fit_kwargs\u001b[0m\u001b[1;33m)\u001b[0m\u001b[1;33m\u001b[0m\u001b[1;33m\u001b[0m\u001b[0m\n\u001b[0m\u001b[0;32m     91\u001b[0m             \u001b[1;32mfor\u001b[0m \u001b[0mmetric\u001b[0m\u001b[1;33m,\u001b[0m \u001b[0mepoch_values\u001b[0m \u001b[1;32min\u001b[0m \u001b[0mhistory\u001b[0m\u001b[1;33m.\u001b[0m\u001b[0mhistory\u001b[0m\u001b[1;33m.\u001b[0m\u001b[0mitems\u001b[0m\u001b[1;33m(\u001b[0m\u001b[1;33m)\u001b[0m\u001b[1;33m:\u001b[0m\u001b[1;33m\u001b[0m\u001b[1;33m\u001b[0m\u001b[0m\n\u001b[0;32m     92\u001b[0m                 \u001b[1;32mif\u001b[0m \u001b[0mself\u001b[0m\u001b[1;33m.\u001b[0m\u001b[0moracle\u001b[0m\u001b[1;33m.\u001b[0m\u001b[0mobjective\u001b[0m\u001b[1;33m.\u001b[0m\u001b[0mdirection\u001b[0m \u001b[1;33m==\u001b[0m \u001b[1;34m\"min\"\u001b[0m\u001b[1;33m:\u001b[0m\u001b[1;33m\u001b[0m\u001b[1;33m\u001b[0m\u001b[0m\n",
      "\u001b[1;32m~\\anaconda3\\envs\\tf2.0\\lib\\site-packages\\keras_tuner\\engine\\tuner.py\u001b[0m in \u001b[0;36m_build_and_fit_model\u001b[1;34m(self, trial, fit_args, fit_kwargs)\u001b[0m\n\u001b[0;32m    147\u001b[0m         \"\"\"\n\u001b[0;32m    148\u001b[0m         \u001b[0mmodel\u001b[0m \u001b[1;33m=\u001b[0m \u001b[0mself\u001b[0m\u001b[1;33m.\u001b[0m\u001b[0mhypermodel\u001b[0m\u001b[1;33m.\u001b[0m\u001b[0mbuild\u001b[0m\u001b[1;33m(\u001b[0m\u001b[0mtrial\u001b[0m\u001b[1;33m.\u001b[0m\u001b[0mhyperparameters\u001b[0m\u001b[1;33m)\u001b[0m\u001b[1;33m\u001b[0m\u001b[1;33m\u001b[0m\u001b[0m\n\u001b[1;32m--> 149\u001b[1;33m         \u001b[1;32mreturn\u001b[0m \u001b[0mmodel\u001b[0m\u001b[1;33m.\u001b[0m\u001b[0mfit\u001b[0m\u001b[1;33m(\u001b[0m\u001b[1;33m*\u001b[0m\u001b[0mfit_args\u001b[0m\u001b[1;33m,\u001b[0m \u001b[1;33m**\u001b[0m\u001b[0mfit_kwargs\u001b[0m\u001b[1;33m)\u001b[0m\u001b[1;33m\u001b[0m\u001b[1;33m\u001b[0m\u001b[0m\n\u001b[0m\u001b[0;32m    150\u001b[0m \u001b[1;33m\u001b[0m\u001b[0m\n\u001b[0;32m    151\u001b[0m     \u001b[1;32mdef\u001b[0m \u001b[0mrun_trial\u001b[0m\u001b[1;33m(\u001b[0m\u001b[0mself\u001b[0m\u001b[1;33m,\u001b[0m \u001b[0mtrial\u001b[0m\u001b[1;33m,\u001b[0m \u001b[1;33m*\u001b[0m\u001b[0mfit_args\u001b[0m\u001b[1;33m,\u001b[0m \u001b[1;33m**\u001b[0m\u001b[0mfit_kwargs\u001b[0m\u001b[1;33m)\u001b[0m\u001b[1;33m:\u001b[0m\u001b[1;33m\u001b[0m\u001b[1;33m\u001b[0m\u001b[0m\n",
      "\u001b[1;32m~\\anaconda3\\envs\\tf2.0\\lib\\site-packages\\tensorflow_core\\python\\keras\\engine\\training.py\u001b[0m in \u001b[0;36mfit\u001b[1;34m(self, x, y, batch_size, epochs, verbose, callbacks, validation_split, validation_data, shuffle, class_weight, sample_weight, initial_epoch, steps_per_epoch, validation_steps, validation_freq, max_queue_size, workers, use_multiprocessing, **kwargs)\u001b[0m\n\u001b[0;32m    726\u001b[0m         \u001b[0mmax_queue_size\u001b[0m\u001b[1;33m=\u001b[0m\u001b[0mmax_queue_size\u001b[0m\u001b[1;33m,\u001b[0m\u001b[1;33m\u001b[0m\u001b[1;33m\u001b[0m\u001b[0m\n\u001b[0;32m    727\u001b[0m         \u001b[0mworkers\u001b[0m\u001b[1;33m=\u001b[0m\u001b[0mworkers\u001b[0m\u001b[1;33m,\u001b[0m\u001b[1;33m\u001b[0m\u001b[1;33m\u001b[0m\u001b[0m\n\u001b[1;32m--> 728\u001b[1;33m         use_multiprocessing=use_multiprocessing)\n\u001b[0m\u001b[0;32m    729\u001b[0m \u001b[1;33m\u001b[0m\u001b[0m\n\u001b[0;32m    730\u001b[0m   def evaluate(self,\n",
      "\u001b[1;32m~\\anaconda3\\envs\\tf2.0\\lib\\site-packages\\tensorflow_core\\python\\keras\\engine\\training_v2.py\u001b[0m in \u001b[0;36mfit\u001b[1;34m(self, model, x, y, batch_size, epochs, verbose, callbacks, validation_split, validation_data, shuffle, class_weight, sample_weight, initial_epoch, steps_per_epoch, validation_steps, validation_freq, **kwargs)\u001b[0m\n\u001b[0;32m    322\u001b[0m                 \u001b[0mmode\u001b[0m\u001b[1;33m=\u001b[0m\u001b[0mModeKeys\u001b[0m\u001b[1;33m.\u001b[0m\u001b[0mTRAIN\u001b[0m\u001b[1;33m,\u001b[0m\u001b[1;33m\u001b[0m\u001b[1;33m\u001b[0m\u001b[0m\n\u001b[0;32m    323\u001b[0m                 \u001b[0mtraining_context\u001b[0m\u001b[1;33m=\u001b[0m\u001b[0mtraining_context\u001b[0m\u001b[1;33m,\u001b[0m\u001b[1;33m\u001b[0m\u001b[1;33m\u001b[0m\u001b[0m\n\u001b[1;32m--> 324\u001b[1;33m                 total_epochs=epochs)\n\u001b[0m\u001b[0;32m    325\u001b[0m             \u001b[0mcbks\u001b[0m\u001b[1;33m.\u001b[0m\u001b[0mmake_logs\u001b[0m\u001b[1;33m(\u001b[0m\u001b[0mmodel\u001b[0m\u001b[1;33m,\u001b[0m \u001b[0mepoch_logs\u001b[0m\u001b[1;33m,\u001b[0m \u001b[0mtraining_result\u001b[0m\u001b[1;33m,\u001b[0m \u001b[0mModeKeys\u001b[0m\u001b[1;33m.\u001b[0m\u001b[0mTRAIN\u001b[0m\u001b[1;33m)\u001b[0m\u001b[1;33m\u001b[0m\u001b[1;33m\u001b[0m\u001b[0m\n\u001b[0;32m    326\u001b[0m \u001b[1;33m\u001b[0m\u001b[0m\n",
      "\u001b[1;32m~\\anaconda3\\envs\\tf2.0\\lib\\site-packages\\tensorflow_core\\python\\keras\\engine\\training_v2.py\u001b[0m in \u001b[0;36mrun_one_epoch\u001b[1;34m(model, iterator, execution_function, dataset_size, batch_size, strategy, steps_per_epoch, num_samples, mode, training_context, total_epochs)\u001b[0m\n\u001b[0;32m    121\u001b[0m         step=step, mode=mode, size=current_batch_size) as batch_logs:\n\u001b[0;32m    122\u001b[0m       \u001b[1;32mtry\u001b[0m\u001b[1;33m:\u001b[0m\u001b[1;33m\u001b[0m\u001b[1;33m\u001b[0m\u001b[0m\n\u001b[1;32m--> 123\u001b[1;33m         \u001b[0mbatch_outs\u001b[0m \u001b[1;33m=\u001b[0m \u001b[0mexecution_function\u001b[0m\u001b[1;33m(\u001b[0m\u001b[0miterator\u001b[0m\u001b[1;33m)\u001b[0m\u001b[1;33m\u001b[0m\u001b[1;33m\u001b[0m\u001b[0m\n\u001b[0m\u001b[0;32m    124\u001b[0m       \u001b[1;32mexcept\u001b[0m \u001b[1;33m(\u001b[0m\u001b[0mStopIteration\u001b[0m\u001b[1;33m,\u001b[0m \u001b[0merrors\u001b[0m\u001b[1;33m.\u001b[0m\u001b[0mOutOfRangeError\u001b[0m\u001b[1;33m)\u001b[0m\u001b[1;33m:\u001b[0m\u001b[1;33m\u001b[0m\u001b[1;33m\u001b[0m\u001b[0m\n\u001b[0;32m    125\u001b[0m         \u001b[1;31m# TODO(kaftan): File bug about tf function and errors.OutOfRangeError?\u001b[0m\u001b[1;33m\u001b[0m\u001b[1;33m\u001b[0m\u001b[1;33m\u001b[0m\u001b[0m\n",
      "\u001b[1;32m~\\anaconda3\\envs\\tf2.0\\lib\\site-packages\\tensorflow_core\\python\\keras\\engine\\training_v2_utils.py\u001b[0m in \u001b[0;36mexecution_function\u001b[1;34m(input_fn)\u001b[0m\n\u001b[0;32m     84\u001b[0m     \u001b[1;31m# `numpy` translates Tensors to values in Eager mode.\u001b[0m\u001b[1;33m\u001b[0m\u001b[1;33m\u001b[0m\u001b[1;33m\u001b[0m\u001b[0m\n\u001b[0;32m     85\u001b[0m     return nest.map_structure(_non_none_constant_value,\n\u001b[1;32m---> 86\u001b[1;33m                               distributed_function(input_fn))\n\u001b[0m\u001b[0;32m     87\u001b[0m \u001b[1;33m\u001b[0m\u001b[0m\n\u001b[0;32m     88\u001b[0m   \u001b[1;32mreturn\u001b[0m \u001b[0mexecution_function\u001b[0m\u001b[1;33m\u001b[0m\u001b[1;33m\u001b[0m\u001b[0m\n",
      "\u001b[1;32m~\\anaconda3\\envs\\tf2.0\\lib\\site-packages\\tensorflow_core\\python\\eager\\def_function.py\u001b[0m in \u001b[0;36m__call__\u001b[1;34m(self, *args, **kwds)\u001b[0m\n\u001b[0;32m    455\u001b[0m \u001b[1;33m\u001b[0m\u001b[0m\n\u001b[0;32m    456\u001b[0m     \u001b[0mtracing_count\u001b[0m \u001b[1;33m=\u001b[0m \u001b[0mself\u001b[0m\u001b[1;33m.\u001b[0m\u001b[0m_get_tracing_count\u001b[0m\u001b[1;33m(\u001b[0m\u001b[1;33m)\u001b[0m\u001b[1;33m\u001b[0m\u001b[1;33m\u001b[0m\u001b[0m\n\u001b[1;32m--> 457\u001b[1;33m     \u001b[0mresult\u001b[0m \u001b[1;33m=\u001b[0m \u001b[0mself\u001b[0m\u001b[1;33m.\u001b[0m\u001b[0m_call\u001b[0m\u001b[1;33m(\u001b[0m\u001b[1;33m*\u001b[0m\u001b[0margs\u001b[0m\u001b[1;33m,\u001b[0m \u001b[1;33m**\u001b[0m\u001b[0mkwds\u001b[0m\u001b[1;33m)\u001b[0m\u001b[1;33m\u001b[0m\u001b[1;33m\u001b[0m\u001b[0m\n\u001b[0m\u001b[0;32m    458\u001b[0m     \u001b[1;32mif\u001b[0m \u001b[0mtracing_count\u001b[0m \u001b[1;33m==\u001b[0m \u001b[0mself\u001b[0m\u001b[1;33m.\u001b[0m\u001b[0m_get_tracing_count\u001b[0m\u001b[1;33m(\u001b[0m\u001b[1;33m)\u001b[0m\u001b[1;33m:\u001b[0m\u001b[1;33m\u001b[0m\u001b[1;33m\u001b[0m\u001b[0m\n\u001b[0;32m    459\u001b[0m       \u001b[0mself\u001b[0m\u001b[1;33m.\u001b[0m\u001b[0m_call_counter\u001b[0m\u001b[1;33m.\u001b[0m\u001b[0mcalled_without_tracing\u001b[0m\u001b[1;33m(\u001b[0m\u001b[1;33m)\u001b[0m\u001b[1;33m\u001b[0m\u001b[1;33m\u001b[0m\u001b[0m\n",
      "\u001b[1;32m~\\anaconda3\\envs\\tf2.0\\lib\\site-packages\\tensorflow_core\\python\\eager\\def_function.py\u001b[0m in \u001b[0;36m_call\u001b[1;34m(self, *args, **kwds)\u001b[0m\n\u001b[0;32m    485\u001b[0m       \u001b[1;31m# In this case we have created variables on the first call, so we run the\u001b[0m\u001b[1;33m\u001b[0m\u001b[1;33m\u001b[0m\u001b[1;33m\u001b[0m\u001b[0m\n\u001b[0;32m    486\u001b[0m       \u001b[1;31m# defunned version which is guaranteed to never create variables.\u001b[0m\u001b[1;33m\u001b[0m\u001b[1;33m\u001b[0m\u001b[1;33m\u001b[0m\u001b[0m\n\u001b[1;32m--> 487\u001b[1;33m       \u001b[1;32mreturn\u001b[0m \u001b[0mself\u001b[0m\u001b[1;33m.\u001b[0m\u001b[0m_stateless_fn\u001b[0m\u001b[1;33m(\u001b[0m\u001b[1;33m*\u001b[0m\u001b[0margs\u001b[0m\u001b[1;33m,\u001b[0m \u001b[1;33m**\u001b[0m\u001b[0mkwds\u001b[0m\u001b[1;33m)\u001b[0m  \u001b[1;31m# pylint: disable=not-callable\u001b[0m\u001b[1;33m\u001b[0m\u001b[1;33m\u001b[0m\u001b[0m\n\u001b[0m\u001b[0;32m    488\u001b[0m     \u001b[1;32melif\u001b[0m \u001b[0mself\u001b[0m\u001b[1;33m.\u001b[0m\u001b[0m_stateful_fn\u001b[0m \u001b[1;32mis\u001b[0m \u001b[1;32mnot\u001b[0m \u001b[1;32mNone\u001b[0m\u001b[1;33m:\u001b[0m\u001b[1;33m\u001b[0m\u001b[1;33m\u001b[0m\u001b[0m\n\u001b[0;32m    489\u001b[0m       \u001b[1;31m# Release the lock early so that multiple threads can perform the call\u001b[0m\u001b[1;33m\u001b[0m\u001b[1;33m\u001b[0m\u001b[1;33m\u001b[0m\u001b[0m\n",
      "\u001b[1;32m~\\anaconda3\\envs\\tf2.0\\lib\\site-packages\\tensorflow_core\\python\\eager\\function.py\u001b[0m in \u001b[0;36m__call__\u001b[1;34m(self, *args, **kwargs)\u001b[0m\n\u001b[0;32m   1821\u001b[0m     \u001b[1;34m\"\"\"Calls a graph function specialized to the inputs.\"\"\"\u001b[0m\u001b[1;33m\u001b[0m\u001b[1;33m\u001b[0m\u001b[0m\n\u001b[0;32m   1822\u001b[0m     \u001b[0mgraph_function\u001b[0m\u001b[1;33m,\u001b[0m \u001b[0margs\u001b[0m\u001b[1;33m,\u001b[0m \u001b[0mkwargs\u001b[0m \u001b[1;33m=\u001b[0m \u001b[0mself\u001b[0m\u001b[1;33m.\u001b[0m\u001b[0m_maybe_define_function\u001b[0m\u001b[1;33m(\u001b[0m\u001b[0margs\u001b[0m\u001b[1;33m,\u001b[0m \u001b[0mkwargs\u001b[0m\u001b[1;33m)\u001b[0m\u001b[1;33m\u001b[0m\u001b[1;33m\u001b[0m\u001b[0m\n\u001b[1;32m-> 1823\u001b[1;33m     \u001b[1;32mreturn\u001b[0m \u001b[0mgraph_function\u001b[0m\u001b[1;33m.\u001b[0m\u001b[0m_filtered_call\u001b[0m\u001b[1;33m(\u001b[0m\u001b[0margs\u001b[0m\u001b[1;33m,\u001b[0m \u001b[0mkwargs\u001b[0m\u001b[1;33m)\u001b[0m  \u001b[1;31m# pylint: disable=protected-access\u001b[0m\u001b[1;33m\u001b[0m\u001b[1;33m\u001b[0m\u001b[0m\n\u001b[0m\u001b[0;32m   1824\u001b[0m \u001b[1;33m\u001b[0m\u001b[0m\n\u001b[0;32m   1825\u001b[0m   \u001b[1;33m@\u001b[0m\u001b[0mproperty\u001b[0m\u001b[1;33m\u001b[0m\u001b[1;33m\u001b[0m\u001b[0m\n",
      "\u001b[1;32m~\\anaconda3\\envs\\tf2.0\\lib\\site-packages\\tensorflow_core\\python\\eager\\function.py\u001b[0m in \u001b[0;36m_filtered_call\u001b[1;34m(self, args, kwargs)\u001b[0m\n\u001b[0;32m   1139\u001b[0m          if isinstance(t, (ops.Tensor,\n\u001b[0;32m   1140\u001b[0m                            resource_variable_ops.BaseResourceVariable))),\n\u001b[1;32m-> 1141\u001b[1;33m         self.captured_inputs)\n\u001b[0m\u001b[0;32m   1142\u001b[0m \u001b[1;33m\u001b[0m\u001b[0m\n\u001b[0;32m   1143\u001b[0m   \u001b[1;32mdef\u001b[0m \u001b[0m_call_flat\u001b[0m\u001b[1;33m(\u001b[0m\u001b[0mself\u001b[0m\u001b[1;33m,\u001b[0m \u001b[0margs\u001b[0m\u001b[1;33m,\u001b[0m \u001b[0mcaptured_inputs\u001b[0m\u001b[1;33m,\u001b[0m \u001b[0mcancellation_manager\u001b[0m\u001b[1;33m=\u001b[0m\u001b[1;32mNone\u001b[0m\u001b[1;33m)\u001b[0m\u001b[1;33m:\u001b[0m\u001b[1;33m\u001b[0m\u001b[1;33m\u001b[0m\u001b[0m\n",
      "\u001b[1;32m~\\anaconda3\\envs\\tf2.0\\lib\\site-packages\\tensorflow_core\\python\\eager\\function.py\u001b[0m in \u001b[0;36m_call_flat\u001b[1;34m(self, args, captured_inputs, cancellation_manager)\u001b[0m\n\u001b[0;32m   1222\u001b[0m     \u001b[1;32mif\u001b[0m \u001b[0mexecuting_eagerly\u001b[0m\u001b[1;33m:\u001b[0m\u001b[1;33m\u001b[0m\u001b[1;33m\u001b[0m\u001b[0m\n\u001b[0;32m   1223\u001b[0m       flat_outputs = forward_function.call(\n\u001b[1;32m-> 1224\u001b[1;33m           ctx, args, cancellation_manager=cancellation_manager)\n\u001b[0m\u001b[0;32m   1225\u001b[0m     \u001b[1;32melse\u001b[0m\u001b[1;33m:\u001b[0m\u001b[1;33m\u001b[0m\u001b[1;33m\u001b[0m\u001b[0m\n\u001b[0;32m   1226\u001b[0m       \u001b[0mgradient_name\u001b[0m \u001b[1;33m=\u001b[0m \u001b[0mself\u001b[0m\u001b[1;33m.\u001b[0m\u001b[0m_delayed_rewrite_functions\u001b[0m\u001b[1;33m.\u001b[0m\u001b[0mregister\u001b[0m\u001b[1;33m(\u001b[0m\u001b[1;33m)\u001b[0m\u001b[1;33m\u001b[0m\u001b[1;33m\u001b[0m\u001b[0m\n",
      "\u001b[1;32m~\\anaconda3\\envs\\tf2.0\\lib\\site-packages\\tensorflow_core\\python\\eager\\function.py\u001b[0m in \u001b[0;36mcall\u001b[1;34m(self, ctx, args, cancellation_manager)\u001b[0m\n\u001b[0;32m    509\u001b[0m               \u001b[0minputs\u001b[0m\u001b[1;33m=\u001b[0m\u001b[0margs\u001b[0m\u001b[1;33m,\u001b[0m\u001b[1;33m\u001b[0m\u001b[1;33m\u001b[0m\u001b[0m\n\u001b[0;32m    510\u001b[0m               \u001b[0mattrs\u001b[0m\u001b[1;33m=\u001b[0m\u001b[1;33m(\u001b[0m\u001b[1;34m\"executor_type\"\u001b[0m\u001b[1;33m,\u001b[0m \u001b[0mexecutor_type\u001b[0m\u001b[1;33m,\u001b[0m \u001b[1;34m\"config_proto\"\u001b[0m\u001b[1;33m,\u001b[0m \u001b[0mconfig\u001b[0m\u001b[1;33m)\u001b[0m\u001b[1;33m,\u001b[0m\u001b[1;33m\u001b[0m\u001b[1;33m\u001b[0m\u001b[0m\n\u001b[1;32m--> 511\u001b[1;33m               ctx=ctx)\n\u001b[0m\u001b[0;32m    512\u001b[0m         \u001b[1;32melse\u001b[0m\u001b[1;33m:\u001b[0m\u001b[1;33m\u001b[0m\u001b[1;33m\u001b[0m\u001b[0m\n\u001b[0;32m    513\u001b[0m           outputs = execute.execute_with_cancellation(\n",
      "\u001b[1;32m~\\anaconda3\\envs\\tf2.0\\lib\\site-packages\\tensorflow_core\\python\\eager\\execute.py\u001b[0m in \u001b[0;36mquick_execute\u001b[1;34m(op_name, num_outputs, inputs, attrs, ctx, name)\u001b[0m\n\u001b[0;32m     59\u001b[0m     tensors = pywrap_tensorflow.TFE_Py_Execute(ctx._handle, device_name,\n\u001b[0;32m     60\u001b[0m                                                \u001b[0mop_name\u001b[0m\u001b[1;33m,\u001b[0m \u001b[0minputs\u001b[0m\u001b[1;33m,\u001b[0m \u001b[0mattrs\u001b[0m\u001b[1;33m,\u001b[0m\u001b[1;33m\u001b[0m\u001b[1;33m\u001b[0m\u001b[0m\n\u001b[1;32m---> 61\u001b[1;33m                                                num_outputs)\n\u001b[0m\u001b[0;32m     62\u001b[0m   \u001b[1;32mexcept\u001b[0m \u001b[0mcore\u001b[0m\u001b[1;33m.\u001b[0m\u001b[0m_NotOkStatusException\u001b[0m \u001b[1;32mas\u001b[0m \u001b[0me\u001b[0m\u001b[1;33m:\u001b[0m\u001b[1;33m\u001b[0m\u001b[1;33m\u001b[0m\u001b[0m\n\u001b[0;32m     63\u001b[0m     \u001b[1;32mif\u001b[0m \u001b[0mname\u001b[0m \u001b[1;32mis\u001b[0m \u001b[1;32mnot\u001b[0m \u001b[1;32mNone\u001b[0m\u001b[1;33m:\u001b[0m\u001b[1;33m\u001b[0m\u001b[1;33m\u001b[0m\u001b[0m\n",
      "\u001b[1;31mKeyboardInterrupt\u001b[0m: "
     ]
    }
   ],
   "source": [
    "cnn_tunner.search(X_train,y_train,\n",
    "                  epochs =5,\n",
    "                  validation_data=(X_test,y_test))"
   ]
  },
  {
   "cell_type": "code",
   "execution_count": null,
   "metadata": {
    "colab": {
     "base_uri": "https://localhost:8080/"
    },
    "id": "3v_G3d-75FmY",
    "outputId": "3a6ef4e5-81c2-4cbc-dbd3-29e89af7d606"
   },
   "outputs": [],
   "source": [
    "best_cnn_model = cnn_tunner.get_best_models(num_models=1)[0]\n",
    "best_cnn_model.summary()"
   ]
  },
  {
   "cell_type": "markdown",
   "metadata": {
    "id": "tmnMCJue6e3U"
   },
   "source": [
    "#### Generate submision file : best tunned Model"
   ]
  },
  {
   "cell_type": "code",
   "execution_count": null,
   "metadata": {
    "id": "AMlnOjgU5O5k"
   },
   "outputs": [],
   "source": [
    "# predict the final test images using best model \n",
    "generate_submission(best_cnn_model.predict(final_test_imgs_cnn),'submission_best_cnn_tunned')"
   ]
  },
  {
   "cell_type": "markdown",
   "metadata": {
    "id": "NJ_gjxKw7Ru0"
   },
   "source": [
    "#### Further Tunning : epochs and batch size"
   ]
  },
  {
   "cell_type": "code",
   "execution_count": null,
   "metadata": {
    "colab": {
     "base_uri": "https://localhost:8080/"
    },
    "id": "NZSVbpRq7tPX",
    "outputId": "b0d9ed22-9cd8-4ce4-a838-cf64d1e78016"
   },
   "outputs": [],
   "source": [
    "# Refit the model with larger epochs \n",
    "history = best_cnn_model.fit(X_train,y_train,\n",
    "                             epochs=10,\n",
    "                             validation_data=(X_test,y_test),\n",
    "                             verbose=1)"
   ]
  },
  {
   "cell_type": "code",
   "execution_count": 60,
   "metadata": {
    "ExecuteTime": {
     "end_time": "2021-10-01T08:29:09.328827Z",
     "start_time": "2021-10-01T08:29:09.278860Z"
    },
    "colab": {
     "base_uri": "https://localhost:8080/",
     "height": 541
    },
    "id": "zP0r_8yj8I-1",
    "outputId": "2be28a04-befa-41c1-f954-d53852edd2b4"
   },
   "outputs": [
    {
     "ename": "NameError",
     "evalue": "name 'history' is not defined",
     "output_type": "error",
     "traceback": [
      "\u001b[1;31m---------------------------------------------------------------------------\u001b[0m",
      "\u001b[1;31mNameError\u001b[0m                                 Traceback (most recent call last)",
      "\u001b[1;32m<ipython-input-60-76ffe2773582>\u001b[0m in \u001b[0;36m<module>\u001b[1;34m\u001b[0m\n\u001b[0;32m      7\u001b[0m   \u001b[0mplt\u001b[0m\u001b[1;33m.\u001b[0m\u001b[0mshow\u001b[0m\u001b[1;33m(\u001b[0m\u001b[1;33m)\u001b[0m\u001b[1;33m\u001b[0m\u001b[1;33m\u001b[0m\u001b[0m\n\u001b[0;32m      8\u001b[0m \u001b[1;33m\u001b[0m\u001b[0m\n\u001b[1;32m----> 9\u001b[1;33m \u001b[0mplot_graphs\u001b[0m\u001b[1;33m(\u001b[0m\u001b[0mhistory\u001b[0m\u001b[1;33m,\u001b[0m\u001b[1;34m'accuracy'\u001b[0m\u001b[1;33m)\u001b[0m\u001b[1;33m\u001b[0m\u001b[1;33m\u001b[0m\u001b[0m\n\u001b[0m\u001b[0;32m     10\u001b[0m \u001b[0mplot_graphs\u001b[0m\u001b[1;33m(\u001b[0m\u001b[0mhistory\u001b[0m\u001b[1;33m,\u001b[0m\u001b[1;34m'loss'\u001b[0m\u001b[1;33m)\u001b[0m\u001b[1;33m\u001b[0m\u001b[1;33m\u001b[0m\u001b[0m\n",
      "\u001b[1;31mNameError\u001b[0m: name 'history' is not defined"
     ]
    }
   ],
   "source": [
    "def plot_graphs(history,string):\n",
    "  plt.plot(history.history[string])\n",
    "  plt.plot(history.history['val_'+string])\n",
    "  plt.xlabel('Epochs')\n",
    "  plt.ylabel(string)\n",
    "  plt.legend([string, 'val_'+string])\n",
    "  plt.show()\n",
    "\n",
    "plot_graphs(history,'accuracy')\n",
    "plot_graphs(history,'loss')"
   ]
  },
  {
   "cell_type": "code",
   "execution_count": null,
   "metadata": {
    "id": "liqX-L3Q9i3U"
   },
   "outputs": [],
   "source": [
    "# predict the final test images using best model \n",
    "generate_submission(best_cnn_model.predict(final_test_imgs_cnn),'submission_best_cnn_tunned_epochs10')"
   ]
  },
  {
   "cell_type": "code",
   "execution_count": null,
   "metadata": {
    "colab": {
     "base_uri": "https://localhost:8080/"
    },
    "id": "yzCj8gqL-Gxr",
    "outputId": "a63d1101-c8c8-4986-c62c-05de68248769"
   },
   "outputs": [],
   "source": [
    "# get the model Hyperparameters \n",
    "cnn_tunner.results_summary(num_trials=1)"
   ]
  },
  {
   "cell_type": "code",
   "execution_count": 52,
   "metadata": {
    "ExecuteTime": {
     "end_time": "2021-10-01T08:24:02.179923Z",
     "start_time": "2021-10-01T08:24:02.159932Z"
    },
    "id": "9kvtaPv2-QRF"
   },
   "outputs": [],
   "source": [
    "# Train the model with entire data set \n",
    "def total_training_data_cnn_format():\n",
    "  # load the data\n",
    "  training_imgs = pd.read_csv('train.csv')\n",
    "  final_test_imgs = pd.read_csv('test.csv')\n",
    "\n",
    "  # Seperate labels \n",
    "  X = training_imgs.iloc[:,1:]\n",
    "  Y = training_imgs.iloc[:,0]\n",
    "\n",
    "  # convert Label to categorical \n",
    "  Y= to_categorical(Y)\n",
    "\n",
    "  # Normalise the data \n",
    "  X = X/255.\n",
    "  final_test_imgs = final_test_imgs/255.\n",
    "\n",
    "  # # Train test split \n",
    "  #X_train,X_test,y_train,y_test =train_test_split(X,Y,random_state=42)\n",
    "  # Reshape the training and test to fit the input format of CNN\n",
    "  # shape of image is 28X28X1\n",
    "  # shape of X_train (m,img_height,img_width,channels)\n",
    "\n",
    "  X_train = X.values.reshape(-1,28,28,1)\n",
    "  #X_test =X_test.values.reshape(-1,28,28,1)\n",
    "\n",
    "  final_test_imgs_cnn =final_test_imgs.values.reshape(-1,28,28,1)\n",
    "\n",
    "  return X_train,Y,final_test_imgs_cnn"
   ]
  },
  {
   "cell_type": "code",
   "execution_count": null,
   "metadata": {
    "id": "Z3sktmPr_NI4"
   },
   "outputs": [],
   "source": [
    "X_train_all,y_train_all,final_test_imgs_cnn = total_training_data_cnn_format()"
   ]
  },
  {
   "cell_type": "code",
   "execution_count": null,
   "metadata": {
    "colab": {
     "base_uri": "https://localhost:8080/"
    },
    "id": "0O19p_PD_XIE",
    "outputId": "5336b3a4-c7a5-499f-c367-17b2f0770942"
   },
   "outputs": [],
   "source": [
    "history = best_cnn_model.fit(X_train_all,y_train_all,\n",
    "                             epochs=10,\n",
    "                             validation_split=0.1,\n",
    "                             verbose=1)"
   ]
  },
  {
   "cell_type": "code",
   "execution_count": null,
   "metadata": {
    "colab": {
     "base_uri": "https://localhost:8080/",
     "height": 541
    },
    "id": "rzqmOMr8ALQg",
    "outputId": "5f13d4ef-ff3d-4b8d-91e7-22162193f64f"
   },
   "outputs": [],
   "source": [
    "plot_graphs(history,'accuracy')\n",
    "plot_graphs(history,'loss')"
   ]
  },
  {
   "cell_type": "code",
   "execution_count": null,
   "metadata": {
    "id": "OMEawkKHAAcA"
   },
   "outputs": [],
   "source": [
    "# predict the final test images using best model \n",
    "generate_submission(best_cnn_model.predict(final_test_imgs_cnn),'submission_best_cnn_tunned_epochs10_alldata')"
   ]
  },
  {
   "cell_type": "code",
   "execution_count": null,
   "metadata": {
    "id": "XE9-5AJGBfWC"
   },
   "outputs": [],
   "source": [
    "# save the model to drive \n",
    "import pickle as pkl"
   ]
  },
  {
   "cell_type": "code",
   "execution_count": null,
   "metadata": {
    "colab": {
     "base_uri": "https://localhost:8080/"
    },
    "id": "AqXhOk9mBkjK",
    "outputId": "5235ca23-588c-48b4-88e1-4ebcfc824236"
   },
   "outputs": [],
   "source": [
    "best_cnn_model.save('digit_recog_cnn_model' )"
   ]
  },
  {
   "cell_type": "code",
   "execution_count": null,
   "metadata": {
    "colab": {
     "base_uri": "https://localhost:8080/"
    },
    "id": "JiJLIHN6CohK",
    "outputId": "59e444f3-ca3d-4918-88dd-c47dae4dca11"
   },
   "outputs": [],
   "source": [
    "!zip -r ./digit_recog_cnn_model ./digit_recog_cnn_model"
   ]
  },
  {
   "cell_type": "code",
   "execution_count": 46,
   "metadata": {
    "ExecuteTime": {
     "end_time": "2021-10-01T08:08:23.494570Z",
     "start_time": "2021-10-01T08:08:23.476584Z"
    },
    "id": "TRPenLlFFYCn"
   },
   "outputs": [],
   "source": [
    "#test_load_model = keras.models.load_model('digit_recog_cnn_model')"
   ]
  },
  {
   "cell_type": "markdown",
   "metadata": {},
   "source": [
    "### Final CNN Model"
   ]
  },
  {
   "cell_type": "code",
   "execution_count": 53,
   "metadata": {
    "ExecuteTime": {
     "end_time": "2021-10-01T08:24:34.454698Z",
     "start_time": "2021-10-01T08:24:23.990368Z"
    }
   },
   "outputs": [],
   "source": [
    "# All Training data \n",
    "X_train_all,y_train_all,final_test_imgs_cnn = total_training_data_cnn_format()"
   ]
  },
  {
   "cell_type": "code",
   "execution_count": 67,
   "metadata": {
    "ExecuteTime": {
     "end_time": "2021-10-01T08:36:55.121104Z",
     "start_time": "2021-10-01T08:36:54.818041Z"
    }
   },
   "outputs": [],
   "source": [
    "final_cnn_model = keras.Sequential([\n",
    "    \n",
    "    # 1st conv layer\n",
    "    keras.layers.Conv2D(filters=80,kernel_size=5,padding='same',activation='relu',input_shape=(28,28,1)),\n",
    "    keras.layers.MaxPooling2D(2,2),\n",
    "    \n",
    "    # 2nd Conv layer\n",
    "    keras.layers.Conv2D(filters=112,kernel_size=5,padding='same',activation='relu'),\n",
    "    keras.layers.MaxPooling2D(2,2),\n",
    "    \n",
    "    # 3rd Conv layer\n",
    "    keras.layers.Conv2D(filters=48,kernel_size=3,padding='same',activation='relu'),\n",
    "    keras.layers.MaxPooling2D(2,2),\n",
    "    \n",
    "    # Flatten layer\n",
    "    keras.layers.Flatten(),\n",
    "    \n",
    "    # Dense Layer\n",
    "    keras.layers.Dense(units=288,activation='relu'),\n",
    "    \n",
    "    # Output layer\n",
    "    keras.layers.Dense(10,activation='softmax')\n",
    "    \n",
    "])\n",
    "\n",
    "final_cnn_model.compile(\n",
    "      optimizer = keras.optimizers.Adam(learning_rate=0.001),\n",
    "      loss='categorical_crossentropy',\n",
    "      metrics=['accuracy']\n",
    "  )"
   ]
  },
  {
   "cell_type": "code",
   "execution_count": 68,
   "metadata": {
    "ExecuteTime": {
     "end_time": "2021-10-01T08:59:07.395370Z",
     "start_time": "2021-10-01T08:37:29.992269Z"
    }
   },
   "outputs": [
    {
     "name": "stdout",
     "output_type": "stream",
     "text": [
      "Train on 37800 samples, validate on 4200 samples\n",
      "Epoch 1/20\n",
      "37800/37800 [==============================] - 70s 2ms/sample - loss: 0.1419 - accuracy: 0.9558 - val_loss: 0.0635 - val_accuracy: 0.9800\n",
      "Epoch 2/20\n",
      "37800/37800 [==============================] - 64s 2ms/sample - loss: 0.0467 - accuracy: 0.9859 - val_loss: 0.0412 - val_accuracy: 0.9879\n",
      "Epoch 3/20\n",
      "37800/37800 [==============================] - 64s 2ms/sample - loss: 0.0328 - accuracy: 0.9901 - val_loss: 0.0302 - val_accuracy: 0.9900\n",
      "Epoch 4/20\n",
      "37800/37800 [==============================] - 64s 2ms/sample - loss: 0.0247 - accuracy: 0.9920 - val_loss: 0.0367 - val_accuracy: 0.9869\n",
      "Epoch 5/20\n",
      "37800/37800 [==============================] - 68s 2ms/sample - loss: 0.0191 - accuracy: 0.9939 - val_loss: 0.0252 - val_accuracy: 0.9926\n",
      "Epoch 6/20\n",
      "37800/37800 [==============================] - 63s 2ms/sample - loss: 0.0175 - accuracy: 0.9945 - val_loss: 0.0407 - val_accuracy: 0.9886\n",
      "Epoch 7/20\n",
      "37800/37800 [==============================] - 64s 2ms/sample - loss: 0.0125 - accuracy: 0.9961 - val_loss: 0.0412 - val_accuracy: 0.9907\n",
      "Epoch 8/20\n",
      "37800/37800 [==============================] - 64s 2ms/sample - loss: 0.0127 - accuracy: 0.9961 - val_loss: 0.0384 - val_accuracy: 0.9881\n",
      "Epoch 9/20\n",
      "37800/37800 [==============================] - 63s 2ms/sample - loss: 0.0103 - accuracy: 0.9969 - val_loss: 0.0413 - val_accuracy: 0.9893\n",
      "Epoch 10/20\n",
      "37800/37800 [==============================] - 64s 2ms/sample - loss: 0.0108 - accuracy: 0.9967 - val_loss: 0.0642 - val_accuracy: 0.9824\n",
      "Epoch 11/20\n",
      "37800/37800 [==============================] - 64s 2ms/sample - loss: 0.0087 - accuracy: 0.9974 - val_loss: 0.0387 - val_accuracy: 0.9900\n",
      "Epoch 12/20\n",
      "37800/37800 [==============================] - 64s 2ms/sample - loss: 0.0097 - accuracy: 0.9968 - val_loss: 0.0506 - val_accuracy: 0.9876\n",
      "Epoch 13/20\n",
      "37800/37800 [==============================] - 64s 2ms/sample - loss: 0.0104 - accuracy: 0.9967 - val_loss: 0.0459 - val_accuracy: 0.9902\n",
      "Epoch 14/20\n",
      "37800/37800 [==============================] - 63s 2ms/sample - loss: 0.0080 - accuracy: 0.9977 - val_loss: 0.0575 - val_accuracy: 0.9883\n",
      "Epoch 15/20\n",
      "37800/37800 [==============================] - 65s 2ms/sample - loss: 0.0082 - accuracy: 0.9977 - val_loss: 0.0699 - val_accuracy: 0.9850\n",
      "Epoch 16/20\n",
      "37800/37800 [==============================] - 68s 2ms/sample - loss: 0.0085 - accuracy: 0.9978 - val_loss: 0.0473 - val_accuracy: 0.9900\n",
      "Epoch 17/20\n",
      "37800/37800 [==============================] - 72s 2ms/sample - loss: 0.0063 - accuracy: 0.9983 - val_loss: 0.0419 - val_accuracy: 0.9917\n",
      "Epoch 18/20\n",
      "37800/37800 [==============================] - 64s 2ms/sample - loss: 0.0073 - accuracy: 0.9979 - val_loss: 0.0349 - val_accuracy: 0.9902\n",
      "Epoch 19/20\n",
      "37800/37800 [==============================] - 64s 2ms/sample - loss: 0.0100 - accuracy: 0.9975 - val_loss: 0.0513 - val_accuracy: 0.9879\n",
      "Epoch 20/20\n",
      "37800/37800 [==============================] - 64s 2ms/sample - loss: 0.0029 - accuracy: 0.9991 - val_loss: 0.0528 - val_accuracy: 0.9914\n"
     ]
    }
   ],
   "source": [
    "# train the model\n",
    "history = final_cnn_model.fit(X_train_all,y_train_all,\n",
    "                             epochs=20,\n",
    "                              batch_size=32,\n",
    "                             validation_split=0.1,\n",
    "                             verbose=1)"
   ]
  },
  {
   "cell_type": "code",
   "execution_count": 69,
   "metadata": {
    "ExecuteTime": {
     "end_time": "2021-10-01T11:46:34.022306Z",
     "start_time": "2021-10-01T11:46:33.228912Z"
    }
   },
   "outputs": [
    {
     "data": {
      "image/png": "[encoded data removed]",
      "text/plain": [
       "<Figure size 432x288 with 1 Axes>"
      ]
     },
     "metadata": {
      "needs_background": "light"
     },
     "output_type": "display_data"
    },
    {
     "data": {
      "image/png": "[encoded data removed]",
      "text/plain": [
       "<Figure size 432x288 with 1 Axes>"
      ]
     },
     "metadata": {
      "needs_background": "light"
     },
     "output_type": "display_data"
    }
   ],
   "source": [
    "# graphs\n",
    "plot_graphs(history,'accuracy')\n",
    "plot_graphs(history,'loss')"
   ]
  },
  {
   "cell_type": "code",
   "execution_count": 73,
   "metadata": {
    "ExecuteTime": {
     "end_time": "2021-10-01T11:54:27.435144Z",
     "start_time": "2021-10-01T11:54:11.856258Z"
    }
   },
   "outputs": [],
   "source": [
    "generate_submission(final_cnn_model.predict(final_test_imgs_cnn),'submission_best_cnn_tunned_epochs20')"
   ]
  },
  {
   "cell_type": "code",
   "execution_count": 70,
   "metadata": {
    "ExecuteTime": {
     "end_time": "2021-10-01T11:50:30.611306Z",
     "start_time": "2021-10-01T11:50:30.436413Z"
    }
   },
   "outputs": [],
   "source": [
    "# save the model \n",
    "final_cnn_model.save('digit_recognistion_cnn_model.h5')"
   ]
  },
  {
   "cell_type": "code",
   "execution_count": 4,
   "metadata": {
    "ExecuteTime": {
     "end_time": "2021-10-01T19:05:35.968114Z",
     "start_time": "2021-10-01T19:05:35.893159Z"
    }
   },
   "outputs": [
    {
     "ename": "JSONDecodeError",
     "evalue": "Expecting value: line 1 column 1 (char 0)",
     "output_type": "error",
     "traceback": [
      "\u001b[1;31m---------------------------------------------------------------------------\u001b[0m",
      "\u001b[1;31mJSONDecodeError\u001b[0m                           Traceback (most recent call last)",
      "\u001b[1;32m~\\AppData\\Local\\Temp/ipykernel_3540/2920173033.py\u001b[0m in \u001b[0;36m<module>\u001b[1;34m\u001b[0m\n\u001b[1;32m----> 1\u001b[1;33m \u001b[0mtest_weights\u001b[0m \u001b[1;33m=\u001b[0m \u001b[0mkeras\u001b[0m\u001b[1;33m.\u001b[0m\u001b[0mmodels\u001b[0m\u001b[1;33m.\u001b[0m\u001b[0mmodel_from_json\u001b[0m\u001b[1;33m(\u001b[0m\u001b[1;34m'digit_recognistion_cnn_model'\u001b[0m\u001b[1;33m)\u001b[0m\u001b[1;33m\u001b[0m\u001b[1;33m\u001b[0m\u001b[0m\n\u001b[0m",
      "\u001b[1;32m~\\anaconda3\\envs\\tensor2.0\\lib\\site-packages\\tensorflow_core\\python\\keras\\saving\\model_config.py\u001b[0m in \u001b[0;36mmodel_from_json\u001b[1;34m(json_string, custom_objects)\u001b[0m\n\u001b[0;32m     92\u001b[0m       \u001b[0mA\u001b[0m \u001b[0mKeras\u001b[0m \u001b[0mmodel\u001b[0m \u001b[0minstance\u001b[0m \u001b[1;33m(\u001b[0m\u001b[0muncompiled\u001b[0m\u001b[1;33m)\u001b[0m\u001b[1;33m.\u001b[0m\u001b[1;33m\u001b[0m\u001b[1;33m\u001b[0m\u001b[0m\n\u001b[0;32m     93\u001b[0m   \"\"\"\n\u001b[1;32m---> 94\u001b[1;33m   \u001b[0mconfig\u001b[0m \u001b[1;33m=\u001b[0m \u001b[0mjson\u001b[0m\u001b[1;33m.\u001b[0m\u001b[0mloads\u001b[0m\u001b[1;33m(\u001b[0m\u001b[0mjson_string\u001b[0m\u001b[1;33m)\u001b[0m\u001b[1;33m\u001b[0m\u001b[1;33m\u001b[0m\u001b[0m\n\u001b[0m\u001b[0;32m     95\u001b[0m   \u001b[1;32mfrom\u001b[0m \u001b[0mtensorflow\u001b[0m\u001b[1;33m.\u001b[0m\u001b[0mpython\u001b[0m\u001b[1;33m.\u001b[0m\u001b[0mkeras\u001b[0m\u001b[1;33m.\u001b[0m\u001b[0mlayers\u001b[0m \u001b[1;32mimport\u001b[0m \u001b[0mdeserialize\u001b[0m  \u001b[1;31m# pylint: disable=g-import-not-at-top\u001b[0m\u001b[1;33m\u001b[0m\u001b[1;33m\u001b[0m\u001b[0m\n\u001b[0;32m     96\u001b[0m   \u001b[1;32mreturn\u001b[0m \u001b[0mdeserialize\u001b[0m\u001b[1;33m(\u001b[0m\u001b[0mconfig\u001b[0m\u001b[1;33m,\u001b[0m \u001b[0mcustom_objects\u001b[0m\u001b[1;33m=\u001b[0m\u001b[0mcustom_objects\u001b[0m\u001b[1;33m)\u001b[0m\u001b[1;33m\u001b[0m\u001b[1;33m\u001b[0m\u001b[0m\n",
      "\u001b[1;32m~\\anaconda3\\envs\\tensor2.0\\lib\\json\\__init__.py\u001b[0m in \u001b[0;36mloads\u001b[1;34m(s, encoding, cls, object_hook, parse_float, parse_int, parse_constant, object_pairs_hook, **kw)\u001b[0m\n\u001b[0;32m    346\u001b[0m             \u001b[0mparse_int\u001b[0m \u001b[1;32mis\u001b[0m \u001b[1;32mNone\u001b[0m \u001b[1;32mand\u001b[0m \u001b[0mparse_float\u001b[0m \u001b[1;32mis\u001b[0m \u001b[1;32mNone\u001b[0m \u001b[1;32mand\u001b[0m\u001b[1;33m\u001b[0m\u001b[1;33m\u001b[0m\u001b[0m\n\u001b[0;32m    347\u001b[0m             parse_constant is None and object_pairs_hook is None and not kw):\n\u001b[1;32m--> 348\u001b[1;33m         \u001b[1;32mreturn\u001b[0m \u001b[0m_default_decoder\u001b[0m\u001b[1;33m.\u001b[0m\u001b[0mdecode\u001b[0m\u001b[1;33m(\u001b[0m\u001b[0ms\u001b[0m\u001b[1;33m)\u001b[0m\u001b[1;33m\u001b[0m\u001b[1;33m\u001b[0m\u001b[0m\n\u001b[0m\u001b[0;32m    349\u001b[0m     \u001b[1;32mif\u001b[0m \u001b[0mcls\u001b[0m \u001b[1;32mis\u001b[0m \u001b[1;32mNone\u001b[0m\u001b[1;33m:\u001b[0m\u001b[1;33m\u001b[0m\u001b[1;33m\u001b[0m\u001b[0m\n\u001b[0;32m    350\u001b[0m         \u001b[0mcls\u001b[0m \u001b[1;33m=\u001b[0m \u001b[0mJSONDecoder\u001b[0m\u001b[1;33m\u001b[0m\u001b[1;33m\u001b[0m\u001b[0m\n",
      "\u001b[1;32m~\\anaconda3\\envs\\tensor2.0\\lib\\json\\decoder.py\u001b[0m in \u001b[0;36mdecode\u001b[1;34m(self, s, _w)\u001b[0m\n\u001b[0;32m    335\u001b[0m \u001b[1;33m\u001b[0m\u001b[0m\n\u001b[0;32m    336\u001b[0m         \"\"\"\n\u001b[1;32m--> 337\u001b[1;33m         \u001b[0mobj\u001b[0m\u001b[1;33m,\u001b[0m \u001b[0mend\u001b[0m \u001b[1;33m=\u001b[0m \u001b[0mself\u001b[0m\u001b[1;33m.\u001b[0m\u001b[0mraw_decode\u001b[0m\u001b[1;33m(\u001b[0m\u001b[0ms\u001b[0m\u001b[1;33m,\u001b[0m \u001b[0midx\u001b[0m\u001b[1;33m=\u001b[0m\u001b[0m_w\u001b[0m\u001b[1;33m(\u001b[0m\u001b[0ms\u001b[0m\u001b[1;33m,\u001b[0m \u001b[1;36m0\u001b[0m\u001b[1;33m)\u001b[0m\u001b[1;33m.\u001b[0m\u001b[0mend\u001b[0m\u001b[1;33m(\u001b[0m\u001b[1;33m)\u001b[0m\u001b[1;33m)\u001b[0m\u001b[1;33m\u001b[0m\u001b[1;33m\u001b[0m\u001b[0m\n\u001b[0m\u001b[0;32m    338\u001b[0m         \u001b[0mend\u001b[0m \u001b[1;33m=\u001b[0m \u001b[0m_w\u001b[0m\u001b[1;33m(\u001b[0m\u001b[0ms\u001b[0m\u001b[1;33m,\u001b[0m \u001b[0mend\u001b[0m\u001b[1;33m)\u001b[0m\u001b[1;33m.\u001b[0m\u001b[0mend\u001b[0m\u001b[1;33m(\u001b[0m\u001b[1;33m)\u001b[0m\u001b[1;33m\u001b[0m\u001b[1;33m\u001b[0m\u001b[0m\n\u001b[0;32m    339\u001b[0m         \u001b[1;32mif\u001b[0m \u001b[0mend\u001b[0m \u001b[1;33m!=\u001b[0m \u001b[0mlen\u001b[0m\u001b[1;33m(\u001b[0m\u001b[0ms\u001b[0m\u001b[1;33m)\u001b[0m\u001b[1;33m:\u001b[0m\u001b[1;33m\u001b[0m\u001b[1;33m\u001b[0m\u001b[0m\n",
      "\u001b[1;32m~\\anaconda3\\envs\\tensor2.0\\lib\\json\\decoder.py\u001b[0m in \u001b[0;36mraw_decode\u001b[1;34m(self, s, idx)\u001b[0m\n\u001b[0;32m    353\u001b[0m             \u001b[0mobj\u001b[0m\u001b[1;33m,\u001b[0m \u001b[0mend\u001b[0m \u001b[1;33m=\u001b[0m \u001b[0mself\u001b[0m\u001b[1;33m.\u001b[0m\u001b[0mscan_once\u001b[0m\u001b[1;33m(\u001b[0m\u001b[0ms\u001b[0m\u001b[1;33m,\u001b[0m \u001b[0midx\u001b[0m\u001b[1;33m)\u001b[0m\u001b[1;33m\u001b[0m\u001b[1;33m\u001b[0m\u001b[0m\n\u001b[0;32m    354\u001b[0m         \u001b[1;32mexcept\u001b[0m \u001b[0mStopIteration\u001b[0m \u001b[1;32mas\u001b[0m \u001b[0merr\u001b[0m\u001b[1;33m:\u001b[0m\u001b[1;33m\u001b[0m\u001b[1;33m\u001b[0m\u001b[0m\n\u001b[1;32m--> 355\u001b[1;33m             \u001b[1;32mraise\u001b[0m \u001b[0mJSONDecodeError\u001b[0m\u001b[1;33m(\u001b[0m\u001b[1;34m\"Expecting value\"\u001b[0m\u001b[1;33m,\u001b[0m \u001b[0ms\u001b[0m\u001b[1;33m,\u001b[0m \u001b[0merr\u001b[0m\u001b[1;33m.\u001b[0m\u001b[0mvalue\u001b[0m\u001b[1;33m)\u001b[0m \u001b[1;32mfrom\u001b[0m \u001b[1;32mNone\u001b[0m\u001b[1;33m\u001b[0m\u001b[1;33m\u001b[0m\u001b[0m\n\u001b[0m\u001b[0;32m    356\u001b[0m         \u001b[1;32mreturn\u001b[0m \u001b[0mobj\u001b[0m\u001b[1;33m,\u001b[0m \u001b[0mend\u001b[0m\u001b[1;33m\u001b[0m\u001b[1;33m\u001b[0m\u001b[0m\n",
      "\u001b[1;31mJSONDecodeError\u001b[0m: Expecting value: line 1 column 1 (char 0)"
     ]
    }
   ],
   "source": [
    "test_weights = keras.models.model_from_json('digit_recognistion_cnn_model')"
   ]
  },
  {
   "cell_type": "code",
   "execution_count": 2,
   "metadata": {
    "ExecuteTime": {
     "end_time": "2021-10-01T19:12:41.570223Z",
     "start_time": "2021-10-01T19:12:38.458833Z"
    }
   },
   "outputs": [],
   "source": [
    "test_model = keras.models.load_model('digit_recognistion_cnn_model.h5')"
   ]
  },
  {
   "cell_type": "code",
   "execution_count": 3,
   "metadata": {
    "ExecuteTime": {
     "end_time": "2021-10-01T19:08:37.927139Z",
     "start_time": "2021-10-01T19:08:37.905151Z"
    }
   },
   "outputs": [
    {
     "name": "stdout",
     "output_type": "stream",
     "text": [
      "Model: \"sequential_6\"\n",
      "_________________________________________________________________\n",
      "Layer (type)                 Output Shape              Param #   \n",
      "=================================================================\n",
      "conv2d_12 (Conv2D)           (None, 28, 28, 80)        2080      \n",
      "_________________________________________________________________\n",
      "max_pooling2d_12 (MaxPooling (None, 14, 14, 80)        0         \n",
      "_________________________________________________________________\n",
      "conv2d_13 (Conv2D)           (None, 14, 14, 112)       224112    \n",
      "_________________________________________________________________\n",
      "max_pooling2d_13 (MaxPooling (None, 7, 7, 112)         0         \n",
      "_________________________________________________________________\n",
      "conv2d_14 (Conv2D)           (None, 7, 7, 48)          48432     \n",
      "_________________________________________________________________\n",
      "max_pooling2d_14 (MaxPooling (None, 3, 3, 48)          0         \n",
      "_________________________________________________________________\n",
      "flatten_4 (Flatten)          (None, 432)               0         \n",
      "_________________________________________________________________\n",
      "dense_8 (Dense)              (None, 288)               124704    \n",
      "_________________________________________________________________\n",
      "dense_9 (Dense)              (None, 10)                2890      \n",
      "=================================================================\n",
      "Total params: 402,218\n",
      "Trainable params: 402,218\n",
      "Non-trainable params: 0\n",
      "_________________________________________________________________\n"
     ]
    }
   ],
   "source": [
    "test_model.summary()"
   ]
  },
  {
   "cell_type": "code",
   "execution_count": 5,
   "metadata": {
    "ExecuteTime": {
     "end_time": "2021-10-01T19:09:15.746207Z",
     "start_time": "2021-10-01T19:09:15.624283Z"
    }
   },
   "outputs": [
    {
     "data": {
      "text/plain": [
       "[<tf.Variable 'conv2d_12/kernel:0' shape=(5, 5, 1, 80) dtype=float32, numpy=\n",
       " array([[[[-8.29269271e-03, -7.68860355e-02, -4.48351540e-02, ...,\n",
       "            1.22739315e-01, -4.57850173e-02, -2.41281744e-02]],\n",
       " \n",
       "         [[-3.66648100e-02, -1.88780040e-01, -8.16567093e-02, ...,\n",
       "            1.53528824e-01,  1.26229808e-01,  2.88758837e-02]],\n",
       " \n",
       "         [[-2.57357329e-01, -1.64040014e-01, -1.18913641e-02, ...,\n",
       "            4.02078207e-04,  1.74019456e-01,  3.53448242e-02]],\n",
       " \n",
       "         [[-3.51647377e-01, -1.05668165e-01, -4.75306734e-02, ...,\n",
       "           -4.04360518e-02, -4.02788371e-02, -1.96188297e-02]],\n",
       " \n",
       "         [[-4.94551770e-02, -1.39956295e-01, -1.10961780e-01, ...,\n",
       "            1.72592923e-02, -2.58621216e-01, -5.70272803e-02]]],\n",
       " \n",
       " \n",
       "        [[[ 3.81030887e-02,  1.80857882e-01, -1.32236376e-01, ...,\n",
       "            1.78314492e-01,  6.41707852e-02,  4.04161140e-02]],\n",
       " \n",
       "         [[ 9.50494856e-02,  2.06288829e-01,  3.47008817e-02, ...,\n",
       "           -1.97111711e-01,  8.93848613e-02, -4.97174636e-02]],\n",
       " \n",
       "         [[-8.44171420e-02,  4.15717140e-02, -1.76488310e-02, ...,\n",
       "           -3.07990730e-01, -1.47844195e-01, -2.31525693e-02]],\n",
       " \n",
       "         [[-1.06968783e-01, -7.49725057e-03,  1.32835992e-02, ...,\n",
       "           -3.83768044e-02, -4.33450043e-01,  3.76767032e-02]],\n",
       " \n",
       "         [[-6.37373775e-02, -7.27733001e-02, -8.52394328e-02, ...,\n",
       "            1.13303885e-01, -6.26016110e-02,  5.23318052e-02]]],\n",
       " \n",
       " \n",
       "        [[[ 3.14976349e-02, -1.94344476e-01,  1.71619561e-02, ...,\n",
       "           -4.37311158e-02, -1.44727128e-02,  2.61513069e-02]],\n",
       " \n",
       "         [[ 2.46267259e-01,  3.67263593e-02, -4.59973179e-02, ...,\n",
       "           -4.36704427e-01, -1.37235224e-01, -1.21900909e-01]],\n",
       " \n",
       "         [[ 2.52383381e-01,  1.26652112e-02, -5.35137812e-03, ...,\n",
       "           -2.44712383e-02, -4.18734223e-01, -8.86917412e-02]],\n",
       " \n",
       "         [[ 1.15319110e-01, -1.37090728e-01,  3.48742045e-02, ...,\n",
       "            2.19686270e-01,  1.58109162e-02,  1.26880826e-02]],\n",
       " \n",
       "         [[ 8.37937519e-02, -1.46873757e-01,  2.13047341e-02, ...,\n",
       "            1.14546597e-01,  1.49688572e-01, -3.00873015e-02]]],\n",
       " \n",
       " \n",
       "        [[[-2.59439852e-02, -1.11018464e-01,  4.28538360e-02, ...,\n",
       "           -1.32340699e-01,  3.12981084e-02, -1.34464353e-01]],\n",
       " \n",
       "         [[-6.26583919e-02, -2.59574711e-01, -1.31612360e-01, ...,\n",
       "            8.06025937e-02, -1.19359866e-01, -1.76999673e-01]],\n",
       " \n",
       "         [[-2.24781353e-02, -3.88078168e-02, -1.08398929e-01, ...,\n",
       "            1.68006822e-01, -2.37238526e-01, -9.87693593e-02]],\n",
       " \n",
       "         [[ 2.92654932e-02, -5.24261333e-02, -4.99484576e-02, ...,\n",
       "            1.76380709e-01,  4.60686870e-02, -1.52876481e-01]],\n",
       " \n",
       "         [[-1.12311549e-01, -4.67515754e-04, -8.40031728e-02, ...,\n",
       "           -1.82418972e-01,  1.20861478e-01, -4.15142626e-02]]],\n",
       " \n",
       " \n",
       "        [[[-3.00525278e-01,  1.92857739e-02, -1.56038150e-01, ...,\n",
       "            5.13425656e-02,  6.98369071e-02,  4.78218310e-02]],\n",
       " \n",
       "         [[-2.32971251e-01, -1.48474768e-01, -7.71665797e-02, ...,\n",
       "            7.59526640e-02, -5.38348034e-02,  2.60852817e-02]],\n",
       " \n",
       "         [[-8.75382125e-02, -7.79252797e-02, -3.05993166e-02, ...,\n",
       "           -3.52953859e-02,  1.41902370e-02, -1.23753950e-01]],\n",
       " \n",
       "         [[-8.53962377e-02, -1.19858548e-01, -7.76770636e-02, ...,\n",
       "           -4.20344584e-02,  1.58679605e-01, -3.54115255e-02]],\n",
       " \n",
       "         [[-3.23038362e-02, -1.98703900e-01,  3.71058807e-02, ...,\n",
       "           -1.85209170e-01,  2.95966119e-02,  2.48385053e-02]]]],\n",
       "       dtype=float32)>,\n",
       " <tf.Variable 'conv2d_12/bias:0' shape=(80,) dtype=float32, numpy=\n",
       " array([-0.06881253, -0.0399618 , -0.09636664, -0.09924066, -0.08259368,\n",
       "        -0.12019418, -0.1133435 , -0.04097997, -0.22889891, -0.09643327,\n",
       "        -0.10055736, -0.22102329, -0.10302322, -0.08567947, -0.1259258 ,\n",
       "        -0.20777951, -0.21825445,  0.03232463, -0.06007498, -0.01538994,\n",
       "        -0.09005558, -0.16154398, -0.09568375, -0.28776562, -0.1163111 ,\n",
       "        -0.04658786, -0.06522986, -0.07603003, -0.09632938, -0.06588105,\n",
       "        -0.04267203, -0.1584469 , -0.05633823, -0.10726339, -0.07881761,\n",
       "        -0.07044157, -0.04777097, -0.09653159, -0.12921894, -0.00767157,\n",
       "        -0.15003131, -0.12204791, -0.02942814, -0.11633434, -0.08837333,\n",
       "        -0.05387834, -0.13384245,  0.04696811, -0.16397694, -0.06729818,\n",
       "         0.03494696, -0.12219137, -0.03305619, -0.14657603, -0.15242223,\n",
       "        -0.16727799, -0.07752775, -0.14482282, -0.06158584, -0.09669499,\n",
       "        -0.16153678, -0.14208202,  0.11824424,  0.01069343, -0.27692476,\n",
       "        -0.17461424, -0.04965194,  0.04409229, -0.14881624, -0.14130779,\n",
       "        -0.08592077, -0.13102038, -0.03657502, -0.13238429, -0.11012117,\n",
       "        -0.09695349, -0.10871478, -0.20001128, -0.13545868, -0.09943736],\n",
       "       dtype=float32)>,\n",
       " <tf.Variable 'conv2d_13/kernel:0' shape=(5, 5, 80, 112) dtype=float32, numpy=\n",
       " array([[[[-2.44355738e-01, -7.26976544e-02,  1.90893471e-01, ...,\n",
       "           -3.19070458e-01, -1.40122071e-01,  3.19164246e-02],\n",
       "          [-9.09832940e-02, -2.61688139e-02,  1.07296206e-01, ...,\n",
       "           -4.03243080e-02, -6.80946186e-02, -4.46015075e-02],\n",
       "          [-2.43571009e-02, -2.03103293e-02, -1.73381884e-02, ...,\n",
       "           -9.52659249e-02,  3.65157984e-02,  2.18502637e-02],\n",
       "          ...,\n",
       "          [ 2.99295206e-02, -5.82018159e-02, -1.67843550e-02, ...,\n",
       "            2.10419014e-01, -1.52082592e-01,  2.97096103e-01],\n",
       "          [-5.43093719e-02,  1.21398695e-01, -1.21693134e-01, ...,\n",
       "            9.33196396e-02,  8.60339552e-02, -2.48927586e-02],\n",
       "          [ 2.81716697e-03, -1.10486656e-01, -2.78083701e-02, ...,\n",
       "           -1.25837058e-01, -1.48692101e-01, -4.06963713e-02]],\n",
       " \n",
       "         [[-7.16356188e-02, -2.74250686e-01,  1.49010286e-01, ...,\n",
       "           -1.86449010e-02, -1.37262523e-01,  4.15633246e-02],\n",
       "          [ 4.64371443e-02, -4.23335992e-02,  1.15760624e-01, ...,\n",
       "            5.99005930e-02, -9.73393545e-02,  1.15028275e-02],\n",
       "          [ 1.39210774e-02,  9.70146339e-03, -3.08741070e-02, ...,\n",
       "           -2.74492265e-03, -3.99330445e-02,  3.21008787e-02],\n",
       "          ...,\n",
       "          [-1.91680506e-01,  2.51833320e-01,  2.17394903e-01, ...,\n",
       "           -3.19997333e-02, -9.84245166e-02,  1.26160726e-01],\n",
       "          [-2.26618484e-01,  1.10595696e-01,  3.07038222e-02, ...,\n",
       "            1.33719385e-01, -4.01827917e-02,  4.54818048e-02],\n",
       "          [ 8.03427994e-02, -1.51985392e-01, -3.50936428e-02, ...,\n",
       "            3.00837792e-02, -9.35368985e-02, -2.29672273e-03]],\n",
       " \n",
       "         [[-2.63730828e-02, -1.03989296e-01, -1.10484652e-01, ...,\n",
       "            1.30693391e-01, -2.35603556e-01, -1.89139664e-01],\n",
       "          [ 7.36624897e-02, -4.57922630e-02, -1.09631363e-02, ...,\n",
       "            3.54778953e-02, -3.83466890e-04, -4.96152863e-02],\n",
       "          [ 3.86212915e-02, -1.24992067e-02, -3.43976542e-02, ...,\n",
       "            8.58917534e-02, -3.19217555e-02, -1.25495316e-02],\n",
       "          ...,\n",
       "          [-8.28649104e-02, -4.14824486e-02,  1.91789716e-01, ...,\n",
       "            4.89042467e-03, -2.47884929e-01,  1.46416694e-01],\n",
       "          [ 1.58686310e-01,  1.15994038e-02, -1.51178032e-01, ...,\n",
       "           -9.16122366e-03, -2.69965798e-01,  2.52516180e-01],\n",
       "          [ 6.30778596e-02, -1.01019397e-01, -6.46832734e-02, ...,\n",
       "            5.16188107e-02, -2.44959909e-02,  4.51685153e-02]],\n",
       " \n",
       "         [[ 6.47576153e-02, -2.31058653e-02, -5.53663960e-03, ...,\n",
       "            2.94282526e-01, -1.75406381e-01, -8.30492005e-02],\n",
       "          [ 1.59667909e-01,  1.70767009e-01, -3.34383696e-01, ...,\n",
       "           -2.76825354e-02,  1.90902222e-03,  1.40036494e-01],\n",
       "          [ 2.07302663e-02,  2.87114456e-03, -7.46905804e-02, ...,\n",
       "            1.27662584e-01,  1.60463490e-02, -3.13192233e-02],\n",
       "          ...,\n",
       "          [-1.13751687e-01,  2.10590456e-02,  9.58179906e-02, ...,\n",
       "            3.75151224e-02, -1.51611283e-01,  2.03562126e-01],\n",
       "          [-1.80712044e-01, -9.95379761e-02,  1.20927155e-01, ...,\n",
       "           -6.10228293e-02,  1.36632904e-01,  1.25481218e-01],\n",
       "          [ 1.94824971e-02, -8.69937688e-02, -6.22901805e-02, ...,\n",
       "           -1.65290415e-01,  1.60666127e-02, -2.36333311e-02]],\n",
       " \n",
       "         [[ 2.41456483e-03,  8.85535032e-02,  2.22618282e-02, ...,\n",
       "            8.94341171e-02, -2.18760625e-01,  1.61988810e-01],\n",
       "          [ 8.18359405e-02, -8.33221227e-02, -4.93005067e-02, ...,\n",
       "           -1.81190092e-02, -3.53706330e-02,  2.02711910e-01],\n",
       "          [ 1.66844018e-02,  3.64804938e-02, -5.76422326e-02, ...,\n",
       "            2.89986935e-02,  2.39868532e-03, -3.38089578e-02],\n",
       "          ...,\n",
       "          [-2.42057204e-01, -7.95530006e-02,  2.09239319e-01, ...,\n",
       "           -2.23406062e-01, -1.53917354e-03,  5.71743771e-02],\n",
       "          [-1.14283301e-01, -7.78041780e-02,  6.71820715e-02, ...,\n",
       "           -2.23891824e-01,  6.74804226e-02,  1.24675140e-01],\n",
       "          [-6.78880699e-03,  1.87279209e-02, -1.08134016e-01, ...,\n",
       "           -1.00312077e-01,  4.04693708e-02, -1.13999873e-01]]],\n",
       " \n",
       " \n",
       "        [[[ 3.26168612e-02,  8.90359376e-03, -9.44994912e-02, ...,\n",
       "           -1.61541671e-01, -1.76271513e-01, -1.01930210e-02],\n",
       "          [ 4.18559313e-02, -1.55253455e-01,  1.24516925e-02, ...,\n",
       "            5.95121346e-02,  5.31985098e-03, -1.46510825e-01],\n",
       "          [ 1.56640504e-02, -7.47874677e-02, -1.14901111e-01, ...,\n",
       "           -1.16945043e-01,  1.54057303e-02, -6.79316521e-02],\n",
       "          ...,\n",
       "          [-1.64535910e-01,  1.29840434e-01,  1.11645401e-01, ...,\n",
       "            4.48320545e-02,  1.17351830e-01, -1.97923079e-01],\n",
       "          [-2.92927712e-01, -4.90971133e-02,  2.34180793e-01, ...,\n",
       "            1.49392456e-01,  1.37351319e-01,  1.18404292e-01],\n",
       "          [-1.16065383e-01, -2.30131134e-01, -1.10118583e-01, ...,\n",
       "           -1.40213013e-01, -1.89028248e-01, -1.26527861e-01]],\n",
       " \n",
       "         [[-7.10772201e-02, -8.45511095e-04, -3.06924522e-01, ...,\n",
       "           -4.14924286e-02, -4.01309580e-02,  8.03726017e-02],\n",
       "          [ 5.62082268e-02, -2.50015050e-01, -1.66401595e-01, ...,\n",
       "            7.05209151e-02, -5.29752150e-02, -1.14754975e-01],\n",
       "          [-3.24316546e-02,  2.21276982e-03, -1.49226978e-01, ...,\n",
       "           -4.99351555e-03, -2.76693795e-02,  1.64038558e-02],\n",
       "          ...,\n",
       "          [-3.93439144e-01,  1.22906014e-01,  2.56436199e-01, ...,\n",
       "            6.17199503e-02,  1.67632885e-02,  5.49645312e-02],\n",
       "          [-7.32956529e-02,  5.06060943e-02,  7.27584958e-02, ...,\n",
       "           -4.78682034e-02,  7.34892488e-02,  1.00186437e-01],\n",
       "          [-5.79537377e-02, -9.31201801e-02, -2.62438089e-01, ...,\n",
       "            2.68743541e-02, -1.64735597e-02,  3.30825821e-02]],\n",
       " \n",
       "         [[ 1.47443102e-03,  5.64542711e-02, -2.10946068e-01, ...,\n",
       "            2.75393426e-01, -8.71570855e-02, -1.19817443e-01],\n",
       "          [-2.54922211e-02, -8.25973004e-02, -2.31931552e-01, ...,\n",
       "            2.27405384e-01,  5.28976731e-02, -1.55625761e-01],\n",
       "          [ 6.10349700e-02,  8.93652141e-02, -7.61942267e-02, ...,\n",
       "            9.19609293e-02,  3.60890515e-02, -1.19953575e-02],\n",
       "          ...,\n",
       "          [-2.35547706e-01,  1.10610478e-01, -7.92798027e-03, ...,\n",
       "           -3.02620560e-01, -2.35710770e-01, -8.52700602e-03],\n",
       "          [-3.42263430e-01,  1.70093149e-01,  2.35443696e-01, ...,\n",
       "           -2.52760172e-01,  1.94265574e-01, -1.95038706e-01],\n",
       "          [-4.02662121e-02,  1.38149327e-02, -1.37658194e-01, ...,\n",
       "            1.26938894e-01, -1.06109716e-01, -2.94831060e-02]],\n",
       " \n",
       "         [[-9.86438766e-02,  1.25764638e-01, -3.44225615e-02, ...,\n",
       "            1.25996798e-01, -3.26917380e-01, -3.08826536e-01],\n",
       "          [-2.89022103e-02,  2.09018607e-02, -1.50255695e-01, ...,\n",
       "            2.04869080e-02, -7.20969141e-02, -5.00034094e-02],\n",
       "          [ 6.07592613e-03,  1.41723361e-02,  1.12046243e-03, ...,\n",
       "            1.58918053e-01, -9.02010649e-02, -1.11145070e-02],\n",
       "          ...,\n",
       "          [-1.95317551e-01,  6.52778521e-02,  3.39341968e-01, ...,\n",
       "           -2.98470229e-01,  1.15021124e-01, -1.83431119e-01],\n",
       "          [-2.89323121e-01, -8.88821930e-02,  2.42017671e-01, ...,\n",
       "           -2.00290486e-01,  1.42911315e-01, -1.25804087e-02],\n",
       "          [-7.84958526e-03, -2.48370655e-02, -4.88629378e-02, ...,\n",
       "            3.21185105e-02, -3.15216184e-02, -3.45313884e-02]],\n",
       " \n",
       "         [[-2.14279398e-01, -2.73988128e-01, -1.57145843e-01, ...,\n",
       "           -9.34472233e-02, -1.91403210e-01,  3.46935093e-02],\n",
       "          [-7.70262629e-02, -1.72436491e-01, -1.46831840e-01, ...,\n",
       "            1.75056368e-01, -8.02113339e-02,  1.13036431e-01],\n",
       "          [-3.42904776e-02, -6.95582107e-02,  1.34928580e-02, ...,\n",
       "            1.99970659e-02, -9.35037509e-02, -5.93755096e-02],\n",
       "          ...,\n",
       "          [-1.48525745e-01, -1.22502826e-01,  1.86047181e-01, ...,\n",
       "           -5.46952561e-02,  4.69500497e-02, -5.84762022e-02],\n",
       "          [-1.50615484e-01, -8.20829347e-02, -3.19671370e-02, ...,\n",
       "           -1.44156754e-01,  3.03963274e-02, -3.05852666e-02],\n",
       "          [-1.19505443e-01, -1.39270127e-02, -3.89361382e-02, ...,\n",
       "           -1.58261850e-01, -4.70072255e-02,  7.61426613e-02]]],\n",
       " \n",
       " \n",
       "        [[[ 1.86373293e-01, -5.25776355e-04,  8.94321874e-02, ...,\n",
       "            1.15331270e-01,  8.76066089e-02,  3.61250013e-01],\n",
       "          [ 3.52550298e-02,  4.93143722e-02,  3.69439609e-02, ...,\n",
       "           -1.48547456e-01, -9.31954160e-02, -2.96767149e-02],\n",
       "          [ 1.03329562e-01, -6.06152266e-02,  1.22364998e-01, ...,\n",
       "            3.22359130e-02,  1.46938274e-02,  3.07681244e-02],\n",
       "          ...,\n",
       "          [-1.18155442e-02, -1.89909086e-01,  1.79722086e-01, ...,\n",
       "           -9.15477723e-02, -1.49432290e-02, -2.16428146e-01],\n",
       "          [ 1.52666762e-03, -8.76329094e-02,  5.33181569e-03, ...,\n",
       "           -1.68989018e-01,  6.18616603e-02, -1.85895726e-01],\n",
       "          [-2.00676043e-02,  1.33916242e-02, -1.11490265e-01, ...,\n",
       "           -1.41950950e-01, -1.02627218e-01, -2.30872527e-01]],\n",
       " \n",
       "         [[ 8.87989551e-02, -3.72395098e-01,  2.60369718e-01, ...,\n",
       "            1.27012730e-01,  6.16698675e-02,  3.38299721e-01],\n",
       "          [ 1.81850314e-01, -5.26122972e-02,  3.18663102e-03, ...,\n",
       "           -9.75068510e-02,  6.94559366e-02,  4.93917130e-02],\n",
       "          [ 6.15171902e-02, -5.66752478e-02, -5.02738319e-02, ...,\n",
       "            4.96246666e-02, -5.27051836e-02,  1.75192673e-02],\n",
       "          ...,\n",
       "          [-1.35257348e-01,  9.66050401e-02, -2.34735653e-01, ...,\n",
       "           -3.08628529e-01,  2.61623673e-02,  2.38093957e-02],\n",
       "          [ 6.41914457e-02,  3.76092166e-01, -2.14570731e-01, ...,\n",
       "           -1.11835577e-01, -4.02095348e-01,  9.84804928e-02],\n",
       "          [-1.08657263e-01, -5.54170199e-02, -1.89146221e-01, ...,\n",
       "           -2.75126677e-02, -3.59015167e-02, -6.31579086e-02]],\n",
       " \n",
       "         [[-3.32983375e-01, -1.63023219e-01,  2.87132949e-01, ...,\n",
       "            6.87538907e-02,  1.09949648e-01, -8.89013931e-02],\n",
       "          [ 6.38875440e-02, -2.81275243e-01, -1.55842435e-02, ...,\n",
       "            2.63485193e-01,  9.62741747e-02, -4.30840477e-02],\n",
       "          [-3.55022773e-03,  1.03265895e-02, -1.14765786e-01, ...,\n",
       "           -1.94831751e-02,  3.68783027e-02, -3.55157964e-02],\n",
       "          ...,\n",
       "          [-1.75436199e-01,  2.77603686e-01, -3.46601419e-02, ...,\n",
       "            1.25907212e-01,  2.88883578e-02, -1.79377317e-01],\n",
       "          [-1.33568659e-01,  1.41561434e-01,  2.16301918e-01, ...,\n",
       "            1.71713427e-01, -2.19856035e-02, -2.50844330e-01],\n",
       "          [-5.63326702e-02,  3.06203254e-02, -2.07207531e-01, ...,\n",
       "            1.18033187e-02, -3.26381847e-02, -1.58442467e-01]],\n",
       " \n",
       "         [[-1.48497134e-01, -4.65304777e-02, -2.06222743e-01, ...,\n",
       "            5.54227643e-02,  1.96652897e-02, -3.73589694e-01],\n",
       "          [ 5.10716103e-02,  1.62758246e-01, -3.95936072e-02, ...,\n",
       "            7.47951195e-02, -1.53402999e-01, -2.41621852e-01],\n",
       "          [-3.29264961e-02, -1.22992294e-02, -6.24333359e-02, ...,\n",
       "           -4.45943736e-02,  3.21749854e-03,  2.45475750e-02],\n",
       "          ...,\n",
       "          [-2.14330003e-01, -1.34203628e-01,  1.66325659e-01, ...,\n",
       "            2.36094534e-01,  2.27215648e-01, -2.67425418e-01],\n",
       "          [-5.84150106e-02, -1.08033605e-01,  1.20889761e-01, ...,\n",
       "           -7.77463568e-03, -1.47384331e-01, -1.60609350e-01],\n",
       "          [-6.89890906e-02,  4.07103933e-02, -1.66120697e-02, ...,\n",
       "           -7.11557418e-02, -1.19132139e-01, -1.06016800e-01]],\n",
       " \n",
       "         [[-8.84454325e-02,  4.70428844e-04, -2.18541250e-01, ...,\n",
       "           -1.70146421e-01, -2.33004779e-01, -1.36381581e-01],\n",
       "          [ 5.70942089e-02,  2.17664286e-01,  6.52521476e-02, ...,\n",
       "            1.05552869e-02, -2.91542768e-01,  6.29685149e-02],\n",
       "          [-1.77170280e-02, -7.43600121e-03, -4.87068808e-03, ...,\n",
       "           -4.25998569e-02,  7.93907195e-02,  6.96778297e-02],\n",
       "          ...,\n",
       "          [ 8.90535582e-03, -2.15283707e-01,  1.29153114e-02, ...,\n",
       "           -8.52948278e-02,  1.51712701e-01, -2.82250345e-01],\n",
       "          [-6.90701231e-02, -2.78943907e-02,  1.55699432e-01, ...,\n",
       "           -1.63270772e-01,  2.29795501e-02, -2.42614880e-01],\n",
       "          [-1.12145334e-01, -4.31428440e-02, -4.73235324e-02, ...,\n",
       "           -1.20027989e-01, -1.16211861e-01, -3.54961418e-02]]],\n",
       " \n",
       " \n",
       "        [[[ 7.54986107e-02,  1.06586739e-01, -5.47594249e-01, ...,\n",
       "           -9.14705992e-02,  5.24173724e-03,  5.36622573e-03],\n",
       "          [ 7.57588819e-02,  1.44176081e-01, -1.16381824e-01, ...,\n",
       "            6.30544052e-02, -1.83295891e-01,  6.27626181e-02],\n",
       "          [ 7.11445697e-03,  1.33330896e-01,  7.85095394e-02, ...,\n",
       "           -8.91770944e-02, -1.06814038e-02,  2.33066361e-02],\n",
       "          ...,\n",
       "          [-1.32141232e-01,  4.22319099e-02,  2.09087193e-01, ...,\n",
       "           -2.88103789e-01,  8.02120864e-02, -1.22498088e-01],\n",
       "          [-5.15425811e-03, -3.13060999e-01, -1.30210146e-01, ...,\n",
       "           -2.24050488e-02,  5.35846911e-02, -1.48466572e-01],\n",
       "          [ 7.72646666e-02, -5.80927581e-02,  5.55719621e-02, ...,\n",
       "           -8.58369172e-02, -1.26429051e-01,  3.76408733e-02]],\n",
       " \n",
       "         [[ 8.26863796e-02,  1.98801488e-01, -1.37638524e-01, ...,\n",
       "           -1.96505729e-02, -2.10061401e-01,  1.60517573e-01],\n",
       "          [ 6.36059120e-02,  2.48153448e-01,  1.32471547e-01, ...,\n",
       "            1.28623560e-01, -1.88161895e-01,  2.28345051e-01],\n",
       "          [ 2.71779429e-02,  1.81830958e-01,  1.47433802e-01, ...,\n",
       "           -3.56248319e-02, -8.73378888e-02,  5.59725463e-02],\n",
       "          ...,\n",
       "          [-9.51344892e-02, -2.86530796e-02, -1.41234785e-01, ...,\n",
       "            7.08329305e-02, -2.97573805e-01, -3.06166828e-01],\n",
       "          [ 1.43964320e-01, -1.54496714e-01, -3.76275629e-01, ...,\n",
       "            7.75068030e-02, -1.20519092e-02, -1.94455907e-01],\n",
       "          [-9.79910046e-02, -1.75944746e-01,  8.73780530e-03, ...,\n",
       "           -5.30207865e-02, -5.41883260e-02,  7.85500091e-03]],\n",
       " \n",
       "         [[ 1.21506872e-02,  2.89034814e-01,  9.80603546e-02, ...,\n",
       "            1.44790590e-01, -6.90532476e-02,  2.05887273e-01],\n",
       "          [ 1.46259323e-01,  1.90742552e-01,  3.38212132e-01, ...,\n",
       "           -6.39310554e-02,  1.08782083e-01,  7.26626664e-02],\n",
       "          [-7.88390189e-02,  1.35057690e-02,  4.75080200e-02, ...,\n",
       "           -7.33379349e-02, -1.70089360e-02, -3.27407569e-02],\n",
       "          ...,\n",
       "          [ 9.06961858e-02, -4.52447385e-02, -3.48016769e-01, ...,\n",
       "            2.75622308e-01, -1.05834916e-01, -3.40556890e-01],\n",
       "          [-3.59387472e-02,  2.89064925e-02, -3.70659202e-01, ...,\n",
       "            5.82824685e-02, -1.84338659e-01,  1.15138449e-01],\n",
       "          [-2.98670709e-01, -1.95791274e-01, -1.50050849e-01, ...,\n",
       "           -1.20877102e-01,  5.11902524e-03, -1.24185331e-01]],\n",
       " \n",
       "         [[-3.51607174e-01,  1.60622016e-01, -1.49932653e-01, ...,\n",
       "           -5.27798384e-02, -2.01020390e-01, -4.77837734e-02],\n",
       "          [ 4.72468212e-02, -7.24929944e-02,  1.67529553e-01, ...,\n",
       "            1.37050385e-02, -4.22901586e-02, -1.36899307e-01],\n",
       "          [-7.63557851e-03, -6.70255050e-02, -5.50397225e-02, ...,\n",
       "            1.90839302e-02, -1.31669110e-02, -6.66149780e-02],\n",
       "          ...,\n",
       "          [-2.77865622e-02, -4.21677157e-02, -3.91808391e-01, ...,\n",
       "            2.55655557e-01, -3.05614416e-02,  1.51270151e-01],\n",
       "          [-3.75408158e-02,  8.16037655e-02, -9.28308219e-02, ...,\n",
       "           -1.45104706e-01,  5.24326451e-02,  1.82322841e-02],\n",
       "          [-2.23963350e-01, -7.06532672e-02,  1.84675939e-02, ...,\n",
       "            9.67379957e-02, -1.85043167e-03, -1.86717197e-01]],\n",
       " \n",
       "         [[-3.32826883e-01, -2.96018086e-02,  1.45860231e-02, ...,\n",
       "           -1.80368409e-01, -3.57825279e-01, -2.66028732e-01],\n",
       "          [ 5.40651754e-02, -5.85357435e-02, -8.74191988e-03, ...,\n",
       "            4.83286530e-02, -1.11006282e-01, -7.55659565e-02],\n",
       "          [ 1.21431088e-03, -9.78812799e-02,  1.96705293e-02, ...,\n",
       "           -3.00651025e-02, -4.52431776e-02, -4.91751581e-02],\n",
       "          ...,\n",
       "          [-9.58137512e-02, -4.09306176e-02,  2.67443713e-03, ...,\n",
       "           -3.83426771e-02,  9.04918239e-02,  2.78277546e-02],\n",
       "          [-1.98900804e-01,  1.73445329e-01,  8.51285756e-02, ...,\n",
       "            1.90738458e-02,  1.40166193e-01, -2.27643102e-01],\n",
       "          [-1.47315159e-01, -9.04956609e-02, -6.19577281e-02, ...,\n",
       "            3.35663371e-02, -6.76331297e-02, -1.47976920e-01]]],\n",
       " \n",
       " \n",
       "        [[[-2.32139826e-01,  5.25342897e-02,  3.14444959e-01, ...,\n",
       "           -1.66526362e-01, -5.16062789e-02,  6.39022142e-02],\n",
       "          [ 6.94072321e-02,  2.23265633e-01, -7.67180175e-02, ...,\n",
       "           -5.75631000e-02,  7.52762984e-03, -3.03234197e-02],\n",
       "          [ 1.51576009e-02,  7.38827065e-02, -1.84770711e-02, ...,\n",
       "           -9.15111303e-02, -3.42442319e-02, -6.01101033e-02],\n",
       "          ...,\n",
       "          [ 1.23305984e-01, -2.45613649e-01,  4.92979772e-02, ...,\n",
       "            6.07061246e-03, -9.74993259e-02,  1.14373751e-01],\n",
       "          [ 2.04400331e-01, -3.40426564e-01,  2.98965126e-02, ...,\n",
       "           -1.82946950e-01, -2.08916456e-01, -9.40311700e-02],\n",
       "          [ 6.31466955e-02,  4.00709137e-02,  4.70573455e-02, ...,\n",
       "           -8.71493369e-02, -5.76087572e-02, -3.06569431e-02]],\n",
       " \n",
       "         [[-8.18174705e-02,  9.54017937e-02,  2.40374461e-01, ...,\n",
       "           -1.55446872e-01, -1.79751769e-01, -5.91555499e-02],\n",
       "          [ 3.02554339e-01,  6.47241920e-02,  1.41636968e-01, ...,\n",
       "           -9.44713801e-02,  8.39056820e-02, -2.02751216e-02],\n",
       "          [ 8.75071436e-02, -4.04386520e-02,  3.15164551e-02, ...,\n",
       "           -1.23899616e-02, -1.56093463e-01, -6.30021887e-03],\n",
       "          ...,\n",
       "          [ 1.54939458e-01,  1.81409754e-02,  1.20686710e-01, ...,\n",
       "            1.56910941e-01, -8.54476988e-02, -2.02353686e-01],\n",
       "          [ 2.29309902e-01, -2.35585608e-02, -2.12410241e-01, ...,\n",
       "           -2.34084949e-02,  2.87674703e-02, -3.14863399e-02],\n",
       "          [ 2.85362117e-02,  9.71172377e-02,  2.55907997e-02, ...,\n",
       "            1.29803317e-02, -1.43490955e-01, -6.32345453e-02]],\n",
       " \n",
       "         [[-3.13888937e-02,  8.27500150e-02,  9.18763131e-02, ...,\n",
       "            3.45697626e-02, -2.38850579e-01, -1.16789833e-01],\n",
       "          [ 1.27975181e-01,  8.93706977e-02,  1.25785753e-01, ...,\n",
       "           -4.64555696e-02, -3.01064570e-02, -6.01686090e-02],\n",
       "          [-8.17532744e-03, -1.49886534e-02, -1.34436870e-02, ...,\n",
       "            1.27811395e-02, -2.10244656e-02,  3.12760682e-03],\n",
       "          ...,\n",
       "          [ 7.16108456e-03,  7.33833909e-02, -2.51536556e-02, ...,\n",
       "            8.68042633e-02,  2.97954511e-02, -9.85887870e-02],\n",
       "          [-2.07215145e-01,  6.02618381e-02, -1.99435413e-01, ...,\n",
       "            7.34285116e-02,  1.45488176e-02,  1.32702708e-01],\n",
       "          [-1.18840784e-01,  7.63368756e-02,  1.58127323e-02, ...,\n",
       "            4.24441434e-02, -1.20746672e-01,  1.37362797e-02]],\n",
       " \n",
       "         [[-2.48749461e-03, -4.78141867e-02,  6.67443350e-02, ...,\n",
       "           -1.41035423e-01, -8.39659274e-02,  7.00335056e-02],\n",
       "          [ 5.62855862e-02,  8.00873190e-02, -1.44225687e-01, ...,\n",
       "            3.27495188e-02, -1.83008939e-01, -1.89547509e-01],\n",
       "          [ 8.34316984e-02,  2.91520935e-02,  4.39483253e-03, ...,\n",
       "           -1.14385420e-02, -4.49343398e-02, -8.01285505e-02],\n",
       "          ...,\n",
       "          [-1.71916634e-01,  1.36686787e-01, -1.73925281e-01, ...,\n",
       "            3.78556401e-02, -1.08236633e-03,  1.45904571e-01],\n",
       "          [-1.20296635e-01,  2.30058029e-01, -1.58467025e-01, ...,\n",
       "            5.25313839e-02, -1.57662630e-01,  9.50205848e-02],\n",
       "          [-5.11740074e-02,  4.26588282e-02, -3.58435065e-02, ...,\n",
       "            8.22885633e-02, -1.58032894e-01, -1.47270868e-02]],\n",
       " \n",
       "         [[ 2.79883265e-01,  1.03512928e-02, -2.30432581e-02, ...,\n",
       "           -5.65836094e-02,  1.19469747e-01, -3.38261276e-02],\n",
       "          [ 1.10635459e-01,  3.57922837e-02, -1.30817011e-01, ...,\n",
       "           -4.45407294e-02, -1.06045671e-01, -2.20810309e-01],\n",
       "          [-3.27873267e-02, -7.40592405e-02, -6.36445954e-02, ...,\n",
       "            3.79250087e-02,  1.92798153e-02, -5.37475422e-02],\n",
       "          ...,\n",
       "          [-1.22988895e-01,  1.00265868e-01,  4.41130772e-02, ...,\n",
       "           -1.89755727e-02, -8.14417079e-02, -7.63652241e-03],\n",
       "          [-1.87958583e-01, -2.08010912e-01, -2.82932788e-01, ...,\n",
       "           -1.14122272e-01, -8.63429308e-02,  1.19090326e-01],\n",
       "          [ 3.63434069e-02,  2.17031892e-02, -6.85245264e-03, ...,\n",
       "            7.75765777e-02, -2.01458007e-01, -1.49850801e-01]]]],\n",
       "       dtype=float32)>,\n",
       " <tf.Variable 'conv2d_13/bias:0' shape=(112,) dtype=float32, numpy=\n",
       " array([-0.10238767, -0.13762726, -0.07826354, -0.21492052, -0.12857892,\n",
       "        -0.08978533, -0.02795981, -0.04181405, -0.20378627,  0.07432187,\n",
       "        -0.14229001, -0.09810309,  0.02310809, -0.08230147, -0.13290337,\n",
       "        -0.08302735, -0.13369204, -0.1738044 ,  0.05990811, -0.09102685,\n",
       "         0.0299347 , -0.03206174,  0.00205063, -0.0453106 , -0.00903462,\n",
       "        -0.12161029,  0.05702901, -0.20707747,  0.02218074, -0.15209301,\n",
       "        -0.16046727, -0.06643678, -0.04899047, -0.08848178, -0.03436111,\n",
       "        -0.08569925, -0.11891192, -0.08622377, -0.15441497, -0.03242229,\n",
       "        -0.02795321, -0.13034357, -0.02751254, -0.17539006, -0.19462961,\n",
       "        -0.10296477, -0.15593354, -0.15571506, -0.04628069, -0.04856191,\n",
       "         0.0145079 , -0.16219267, -0.02236368, -0.07895748,  0.06398911,\n",
       "        -0.11421597, -0.10312936, -0.10672548, -0.10644541, -0.13186404,\n",
       "        -0.05657263,  0.07106715, -0.04565426, -0.05146306, -0.10150741,\n",
       "        -0.13359377, -0.05583908, -0.12763493, -0.18873528, -0.09932543,\n",
       "        -0.17369615, -0.08859058, -0.17543766, -0.15857965, -0.07805339,\n",
       "        -0.07858249, -0.18739153, -0.03992756, -0.11677464, -0.0794389 ,\n",
       "        -0.06791344, -0.12846094, -0.04732123, -0.12305903, -0.12005764,\n",
       "        -0.12936631, -0.13297246, -0.05666471, -0.03831081,  0.01355067,\n",
       "        -0.01376895, -0.09160004, -0.02497576, -0.1128194 , -0.14858621,\n",
       "        -0.02493011, -0.0772531 , -0.04439952, -0.08020495, -0.08012985,\n",
       "        -0.06094391, -0.0646598 , -0.14338137, -0.10857248, -0.04818549,\n",
       "        -0.13673113, -0.03186203, -0.04820932, -0.0315842 , -0.12222183,\n",
       "        -0.05699569, -0.11580183], dtype=float32)>,\n",
       " <tf.Variable 'conv2d_14/kernel:0' shape=(3, 3, 112, 48) dtype=float32, numpy=\n",
       " array([[[[ 0.19620506,  0.09178999, -0.13261826, ..., -0.08169823,\n",
       "           -0.04476613,  0.03168947],\n",
       "          [-0.07121009,  0.01201479, -0.09848029, ..., -0.02731453,\n",
       "           -0.22891347,  0.00652168],\n",
       "          [-0.03275445,  0.00853159, -0.11702731, ..., -0.16442426,\n",
       "            0.07360374, -0.06111221],\n",
       "          ...,\n",
       "          [ 0.32799336, -0.02726758, -0.03418192, ...,  0.01649238,\n",
       "           -0.03809801,  0.01897366],\n",
       "          [-0.2754367 ,  0.05493676,  0.16399083, ..., -0.0545493 ,\n",
       "            0.1703917 ,  0.16804166],\n",
       "          [-0.01798304,  0.04582258, -0.04209169, ..., -0.0485495 ,\n",
       "            0.02961048, -0.04370338]],\n",
       " \n",
       "         [[-0.13847202,  0.09114984,  0.05508019, ..., -0.03132201,\n",
       "            0.02774735, -0.32247937],\n",
       "          [-0.06202364, -0.23957849, -0.1085374 , ...,  0.08072723,\n",
       "           -0.07354663,  0.03918805],\n",
       "          [-0.00380314, -0.26296443,  0.01941864, ...,  0.20131013,\n",
       "           -0.06250104, -0.10492983],\n",
       "          ...,\n",
       "          [-0.02150634, -0.12304772,  0.0192173 , ..., -0.0599154 ,\n",
       "            0.01069291, -0.21127386],\n",
       "          [ 0.21835414,  0.09468647,  0.01793684, ...,  0.11157449,\n",
       "            0.30337337,  0.025813  ],\n",
       "          [-0.32122576,  0.01358201, -0.10208713, ..., -0.02626087,\n",
       "           -0.0134947 , -0.19323987]],\n",
       " \n",
       "         [[-0.34569976, -0.01541091, -0.05508071, ...,  0.07079817,\n",
       "            0.21787798, -0.1147797 ],\n",
       "          [ 0.17307909, -0.52068347, -0.12120043, ...,  0.2047419 ,\n",
       "           -0.22561802, -0.2625913 ],\n",
       "          [ 0.11117671, -0.37970454, -0.07020673, ...,  0.02918071,\n",
       "            0.03674312, -0.42688122],\n",
       "          ...,\n",
       "          [ 0.08183669,  0.10711235,  0.1177071 , ..., -0.10271645,\n",
       "           -0.01200124,  0.07363731],\n",
       "          [-0.07222977,  0.22510545, -0.02401975, ..., -0.067128  ,\n",
       "            0.08942367, -0.02953623],\n",
       "          [-0.24090375, -0.29089588, -0.0886313 , ...,  0.1217926 ,\n",
       "           -0.07014369, -0.20901738]]],\n",
       " \n",
       " \n",
       "        [[[ 0.17536716, -0.13114052,  0.03208886, ..., -0.18327905,\n",
       "            0.08545072, -0.01014251],\n",
       "          [-0.24713361, -0.02345054,  0.10479469, ..., -0.21446621,\n",
       "           -0.07254285, -0.06714808],\n",
       "          [ 0.02172225,  0.00091874, -0.05200971, ..., -0.05485007,\n",
       "           -0.34868926, -0.01588103],\n",
       "          ...,\n",
       "          [ 0.2595656 , -0.09215833, -0.2515136 , ...,  0.01981708,\n",
       "           -0.16118725,  0.01133271],\n",
       "          [ 0.04174779,  0.07062378,  0.1912874 , ...,  0.02085041,\n",
       "            0.04521713, -0.02735656],\n",
       "          [-0.28759354,  0.17495018,  0.28819883, ..., -0.17502625,\n",
       "            0.11531598, -0.0592328 ]],\n",
       " \n",
       "         [[-0.23642023,  0.02511706,  0.09798512, ..., -0.09457743,\n",
       "           -0.01083404, -0.08711845],\n",
       "          [ 0.00742309, -0.10175397, -0.08569244, ..., -0.00515535,\n",
       "            0.04238443,  0.12041002],\n",
       "          [-0.04041037, -0.06734004, -0.26216808, ...,  0.06845791,\n",
       "           -0.21538512, -0.01255379],\n",
       "          ...,\n",
       "          [-0.1360917 , -0.17387481, -0.13322331, ..., -0.01883608,\n",
       "           -0.21250637, -0.19798751],\n",
       "          [-0.09752519, -0.27787417,  0.09736382, ...,  0.1010415 ,\n",
       "           -0.06381574, -0.15048622],\n",
       "          [-0.19168752, -0.21634404, -0.02188655, ..., -0.19902827,\n",
       "           -0.01228757, -0.13071091]],\n",
       " \n",
       "         [[-0.06748928, -0.3953346 , -0.15741307, ..., -0.12328089,\n",
       "           -0.04923004,  0.1572264 ],\n",
       "          [ 0.0822835 ,  0.0396435 ,  0.12538986, ..., -0.00375452,\n",
       "            0.2659802 ,  0.04547746],\n",
       "          [-0.07411154, -0.03472047, -0.21765229, ..., -0.01485429,\n",
       "            0.05653159, -0.02088958],\n",
       "          ...,\n",
       "          [-0.00492876, -0.16166182, -0.06810828, ..., -0.02563929,\n",
       "           -0.24095708, -0.12993507],\n",
       "          [ 0.00967162,  0.18308294,  0.05308736, ..., -0.16720891,\n",
       "           -0.17401984, -0.01595229],\n",
       "          [ 0.01208161, -0.41332573, -0.18986052, ..., -0.05428966,\n",
       "            0.165855  ,  0.02610801]]],\n",
       " \n",
       " \n",
       "        [[[-0.27391067, -0.15682505, -0.03334581, ..., -0.06450229,\n",
       "           -0.02196864, -0.20611611],\n",
       "          [ 0.12667449,  0.21864519,  0.05645144, ...,  0.04377937,\n",
       "           -0.0081586 ,  0.14716531],\n",
       "          [ 0.17892982,  0.33098638,  0.08503826, ...,  0.16795398,\n",
       "           -0.11907986,  0.2708976 ],\n",
       "          ...,\n",
       "          [-0.1851867 , -0.10172495, -0.14124824, ...,  0.02049969,\n",
       "           -0.13949016, -0.1276102 ],\n",
       "          [ 0.2113976 ,  0.18753038, -0.03439012, ...,  0.13230324,\n",
       "            0.1697171 ,  0.09522644],\n",
       "          [-0.11289964,  0.1288182 ,  0.12124977, ..., -0.00303215,\n",
       "           -0.03703269, -0.08662092]],\n",
       " \n",
       "         [[-0.06946544, -0.16319595,  0.03501694, ..., -0.03859989,\n",
       "           -0.08861268, -0.19782676],\n",
       "          [ 0.2949053 ,  0.18566632, -0.11357883, ...,  0.23955332,\n",
       "           -0.05017073,  0.11186574],\n",
       "          [-0.03866566, -0.0813591 , -0.13790317, ..., -0.03054055,\n",
       "           -0.00442899,  0.04246131],\n",
       "          ...,\n",
       "          [ 0.22469296, -0.08826379,  0.07593706, ..., -0.06256022,\n",
       "            0.05790189, -0.2500105 ],\n",
       "          [-0.03418823,  0.05781664,  0.18297881, ..., -0.00312015,\n",
       "           -0.07123551,  0.08653347],\n",
       "          [ 0.06212495,  0.16429235, -0.10260101, ..., -0.00888033,\n",
       "            0.04386487,  0.0849392 ]],\n",
       " \n",
       "         [[ 0.03450874, -0.19654268, -0.15010981, ...,  0.19655475,\n",
       "           -0.1137961 , -0.21577777],\n",
       "          [-0.0193541 , -0.0602169 , -0.19111943, ..., -0.01188897,\n",
       "           -0.05487417,  0.0224687 ],\n",
       "          [-0.20747074,  0.10354125, -0.3933251 , ..., -0.10437036,\n",
       "            0.20384526, -0.10314614],\n",
       "          ...,\n",
       "          [-0.05261191, -0.13055839, -0.13137239, ..., -0.02194027,\n",
       "            0.32449272, -0.0835534 ],\n",
       "          [-0.15380025, -0.11238644, -0.09717241, ..., -0.24178655,\n",
       "           -0.0533263 , -0.0923292 ],\n",
       "          [ 0.11747696, -0.2177802 , -0.22227852, ...,  0.07234812,\n",
       "            0.12620562, -0.21097207]]]], dtype=float32)>,\n",
       " <tf.Variable 'conv2d_14/bias:0' shape=(48,) dtype=float32, numpy=\n",
       " array([-0.06984542, -0.09695584, -0.04349374, -0.06673177, -0.05699951,\n",
       "        -0.03780384, -0.09506912, -0.10305094, -0.08637753, -0.07744601,\n",
       "        -0.06394508, -0.16494158,  0.03023668, -0.083472  , -0.02359697,\n",
       "        -0.04340519, -0.1278559 , -0.1839769 , -0.13627397, -0.08050035,\n",
       "        -0.09319358, -0.07793643, -0.11871167, -0.11244349,  0.03515897,\n",
       "        -0.14307597, -0.15697639, -0.12929186, -0.1542588 , -0.1369472 ,\n",
       "        -0.04191715, -0.14650372, -0.04538591, -0.05721362, -0.03805542,\n",
       "        -0.02307594, -0.02380779,  0.15905145,  0.04753079, -0.17594557,\n",
       "        -0.11916006, -0.08466029,  0.04358369, -0.08131808, -0.07009917,\n",
       "        -0.07715096, -0.03863659,  0.01646598], dtype=float32)>,\n",
       " <tf.Variable 'dense_8/kernel:0' shape=(432, 288) dtype=float32, numpy=\n",
       " array([[ 0.02832463, -0.02683347,  0.09431723, ...,  0.06771189,\n",
       "         -0.17530675,  0.28432342],\n",
       "        [-0.07559434,  0.05135037, -0.07346389, ...,  0.05564419,\n",
       "         -0.20260134,  0.09349214],\n",
       "        [ 0.09856338,  0.03687953, -0.30514568, ..., -0.03839931,\n",
       "          0.0382225 , -0.04412507],\n",
       "        ...,\n",
       "        [ 0.05127581, -0.07772586, -0.09303968, ...,  0.03624858,\n",
       "          0.2217046 ,  0.00313485],\n",
       "        [-0.09463759,  0.13576789,  0.178895  , ...,  0.02460272,\n",
       "         -0.06334203,  0.30663687],\n",
       "        [ 0.02533912, -0.47801173, -0.08306073, ..., -0.0377565 ,\n",
       "         -0.2360058 , -0.00691366]], dtype=float32)>,\n",
       " <tf.Variable 'dense_8/bias:0' shape=(288,) dtype=float32, numpy=\n",
       " array([-0.01719428, -0.05877547,  0.01669422,  0.0235815 , -0.12373434,\n",
       "        -0.04072857, -0.00871051, -0.12022195, -0.05970411,  0.02859462,\n",
       "        -0.01445538, -0.02696628, -0.03918345,  0.11033379, -0.0424536 ,\n",
       "         0.16520463, -0.05165289,  0.05064099, -0.01696457,  0.1463577 ,\n",
       "        -0.04102447, -0.03404171, -0.03084381,  0.03363442, -0.08385421,\n",
       "        -0.05972995, -0.0082576 , -0.1403691 , -0.1163306 , -0.04635254,\n",
       "        -0.08906499,  0.03614966, -0.08490014,  0.10282685,  0.06408868,\n",
       "        -0.08703768,  0.07938726,  0.14488141, -0.09681823, -0.06254667,\n",
       "        -0.08573177, -0.04690943, -0.03782845, -0.06714304, -0.05032965,\n",
       "        -0.06433599,  0.01349052,  0.06264217, -0.095939  , -0.15637696,\n",
       "        -0.11861797, -0.07335526, -0.02369893, -0.06221151,  0.01804266,\n",
       "         0.03837798, -0.05738953, -0.04179461, -0.07124264,  0.02982013,\n",
       "        -0.11630401, -0.03024671, -0.06080064, -0.07316559, -0.01534551,\n",
       "        -0.07353511,  0.00547181,  0.0070608 ,  0.01971342, -0.00913574,\n",
       "        -0.05819854, -0.00736869,  0.0794034 , -0.06170255, -0.02406668,\n",
       "        -0.09814002, -0.07345542, -0.01094908, -0.00153948, -0.06372467,\n",
       "        -0.02357371, -0.02604295, -0.07075773, -0.01007825, -0.07588623,\n",
       "        -0.01056309, -0.00521495, -0.09765168, -0.09326986, -0.06497838,\n",
       "        -0.13430227, -0.10658327, -0.05347796,  0.06756855,  0.02338027,\n",
       "         0.09008668,  0.04847821, -0.07600717, -0.05926266, -0.06699346,\n",
       "        -0.01601566, -0.08403479,  0.10116418, -0.11536779, -0.05272647,\n",
       "        -0.11734755, -0.0131262 , -0.08714733,  0.16353253, -0.08197477,\n",
       "        -0.07034668, -0.06300446, -0.10224378, -0.0122963 , -0.12260217,\n",
       "        -0.1256313 , -0.08688928, -0.05110645, -0.01803594,  0.04787203,\n",
       "         0.00912975,  0.04875916, -0.08421429,  0.09857383, -0.08497488,\n",
       "        -0.03933278, -0.07203677, -0.089578  , -0.1072029 , -0.12004836,\n",
       "        -0.04136735, -0.04016009, -0.05501647, -0.0751373 , -0.10469156,\n",
       "        -0.03168136, -0.07431556, -0.01093449, -0.01488385, -0.12650807,\n",
       "        -0.0907962 ,  0.0821953 , -0.09946945, -0.01677947, -0.04381463,\n",
       "        -0.05237712, -0.05815459, -0.03922373, -0.00040176, -0.03958791,\n",
       "        -0.02299406, -0.06341339, -0.05849609, -0.12724037, -0.12531708,\n",
       "        -0.05027051, -0.09331224,  0.02873135, -0.02596655, -0.0418122 ,\n",
       "         0.02965516, -0.07620296, -0.15452129, -0.02321329, -0.09503226,\n",
       "        -0.02685552, -0.12443492, -0.08881366, -0.01718946, -0.15485448,\n",
       "        -0.0289219 ,  0.04833518, -0.14074615, -0.06129554, -0.03621704,\n",
       "         0.049911  , -0.05627012, -0.06962811, -0.07271163, -0.05031876,\n",
       "         0.07249786,  0.0656439 , -0.01009469, -0.00246167, -0.10978661,\n",
       "        -0.04193766,  0.07209968, -0.04918265, -0.01594446, -0.0466842 ,\n",
       "        -0.01308499, -0.05137971, -0.07215662, -0.04377681, -0.05298528,\n",
       "        -0.06007242, -0.10193361,  0.03877169, -0.04958029,  0.00654119,\n",
       "        -0.0113271 , -0.06564845, -0.03700164, -0.05514302, -0.04683941,\n",
       "         0.06464295, -0.05363926,  0.06715883, -0.05827552, -0.04008806,\n",
       "        -0.14358003, -0.05850439, -0.04713321,  0.08155973,  0.04213514,\n",
       "        -0.04588594, -0.0497175 , -0.03021127, -0.08890779, -0.00930323,\n",
       "         0.05875234, -0.02784489, -0.10191857, -0.05537811, -0.07497595,\n",
       "        -0.08183745, -0.02526564,  0.03702656, -0.00401594, -0.04653767,\n",
       "         0.03929431, -0.03313513, -0.07563023, -0.06203491, -0.06303561,\n",
       "        -0.02985311, -0.03505402, -0.06465337, -0.08047881, -0.01591592,\n",
       "         0.04167776, -0.09368632, -0.16504826, -0.02914259, -0.03637208,\n",
       "         0.04340085, -0.06251933, -0.07959996, -0.07170489, -0.10569782,\n",
       "        -0.12467525, -0.03966223, -0.04111001, -0.09948619, -0.11006768,\n",
       "        -0.04446999, -0.03844841, -0.09993289, -0.07730973, -0.06914524,\n",
       "        -0.06589911, -0.11671984, -0.01725858, -0.08321891, -0.03534881,\n",
       "        -0.00338619, -0.05155201, -0.02955159, -0.17370324, -0.143634  ,\n",
       "        -0.01809651, -0.12106699, -0.03213746, -0.03017848,  0.05690257,\n",
       "         0.02384726, -0.11212055, -0.04834569, -0.05769106,  0.04653546,\n",
       "        -0.01234707, -0.10579867, -0.03381372, -0.09678585, -0.09384426,\n",
       "        -0.08270296, -0.0264788 , -0.04907671], dtype=float32)>,\n",
       " <tf.Variable 'dense_9/kernel:0' shape=(288, 10) dtype=float32, numpy=\n",
       " array([[-0.04670693, -0.01398106,  0.01527894, ..., -0.08114416,\n",
       "         -0.15455009,  0.06435411],\n",
       "        [ 0.16712429, -0.27028096, -0.07418101, ...,  0.05321461,\n",
       "         -0.29221454, -0.32406306],\n",
       "        [ 0.04335714,  0.0364957 , -0.10213443, ...,  0.01261354,\n",
       "         -0.01763153,  0.09275974],\n",
       "        ...,\n",
       "        [-0.08601863, -0.01686142,  0.01751965, ..., -0.14986478,\n",
       "         -0.07175839, -0.07316224],\n",
       "        [-0.09192101, -0.2556202 ,  0.08817657, ...,  0.09478682,\n",
       "         -0.20923999, -0.1580709 ],\n",
       "        [-0.24960642, -0.09373362, -0.17930755, ...,  0.14206868,\n",
       "         -0.43490133, -0.26039627]], dtype=float32)>,\n",
       " <tf.Variable 'dense_9/bias:0' shape=(10,) dtype=float32, numpy=\n",
       " array([-0.03759325,  0.19827308, -0.06157263, -0.01070047,  0.02125401,\n",
       "        -0.0515876 , -0.03363026, -0.03590529,  0.03350657, -0.01985415],\n",
       "       dtype=float32)>]"
      ]
     },
     "execution_count": 5,
     "metadata": {},
     "output_type": "execute_result"
    }
   ],
   "source": [
    "test_model.weights"
   ]
  },
  {
   "cell_type": "markdown",
   "metadata": {},
   "source": [
    "#### Analysing the wrong images \n"
   ]
  },
  {
   "cell_type": "code",
   "execution_count": 74,
   "metadata": {
    "ExecuteTime": {
     "end_time": "2021-10-01T11:58:21.559022Z",
     "start_time": "2021-10-01T11:58:14.918750Z"
    }
   },
   "outputs": [],
   "source": [
    "test_predictions = final_cnn_model.predict(X_test)"
   ]
  },
  {
   "cell_type": "code",
   "execution_count": 75,
   "metadata": {
    "ExecuteTime": {
     "end_time": "2021-10-01T11:59:06.765765Z",
     "start_time": "2021-10-01T11:59:06.758770Z"
    }
   },
   "outputs": [],
   "source": [
    "from sklearn.metrics import accuracy_score"
   ]
  },
  {
   "cell_type": "code",
   "execution_count": 76,
   "metadata": {
    "ExecuteTime": {
     "end_time": "2021-10-01T12:00:02.770095Z",
     "start_time": "2021-10-01T12:00:02.660165Z"
    }
   },
   "outputs": [
    {
     "ename": "ValueError",
     "evalue": "Classification metrics can't handle a mix of multilabel-indicator and continuous-multioutput targets",
     "output_type": "error",
     "traceback": [
      "\u001b[1;31m---------------------------------------------------------------------------\u001b[0m",
      "\u001b[1;31mValueError\u001b[0m                                Traceback (most recent call last)",
      "\u001b[1;32m<ipython-input-76-3c040d3382d0>\u001b[0m in \u001b[0;36m<module>\u001b[1;34m\u001b[0m\n\u001b[1;32m----> 1\u001b[1;33m \u001b[0mtestacc\u001b[0m\u001b[1;33m=\u001b[0m \u001b[0maccuracy_score\u001b[0m\u001b[1;33m(\u001b[0m\u001b[0my_test\u001b[0m\u001b[1;33m,\u001b[0m\u001b[0mtest_predictions\u001b[0m\u001b[1;33m)\u001b[0m\u001b[1;33m\u001b[0m\u001b[1;33m\u001b[0m\u001b[0m\n\u001b[0m",
      "\u001b[1;32m~\\anaconda3\\envs\\tf2.0\\lib\\site-packages\\sklearn\\utils\\validation.py\u001b[0m in \u001b[0;36minner_f\u001b[1;34m(*args, **kwargs)\u001b[0m\n\u001b[0;32m     61\u001b[0m             \u001b[0mextra_args\u001b[0m \u001b[1;33m=\u001b[0m \u001b[0mlen\u001b[0m\u001b[1;33m(\u001b[0m\u001b[0margs\u001b[0m\u001b[1;33m)\u001b[0m \u001b[1;33m-\u001b[0m \u001b[0mlen\u001b[0m\u001b[1;33m(\u001b[0m\u001b[0mall_args\u001b[0m\u001b[1;33m)\u001b[0m\u001b[1;33m\u001b[0m\u001b[1;33m\u001b[0m\u001b[0m\n\u001b[0;32m     62\u001b[0m             \u001b[1;32mif\u001b[0m \u001b[0mextra_args\u001b[0m \u001b[1;33m<=\u001b[0m \u001b[1;36m0\u001b[0m\u001b[1;33m:\u001b[0m\u001b[1;33m\u001b[0m\u001b[1;33m\u001b[0m\u001b[0m\n\u001b[1;32m---> 63\u001b[1;33m                 \u001b[1;32mreturn\u001b[0m \u001b[0mf\u001b[0m\u001b[1;33m(\u001b[0m\u001b[1;33m*\u001b[0m\u001b[0margs\u001b[0m\u001b[1;33m,\u001b[0m \u001b[1;33m**\u001b[0m\u001b[0mkwargs\u001b[0m\u001b[1;33m)\u001b[0m\u001b[1;33m\u001b[0m\u001b[1;33m\u001b[0m\u001b[0m\n\u001b[0m\u001b[0;32m     64\u001b[0m \u001b[1;33m\u001b[0m\u001b[0m\n\u001b[0;32m     65\u001b[0m             \u001b[1;31m# extra_args > 0\u001b[0m\u001b[1;33m\u001b[0m\u001b[1;33m\u001b[0m\u001b[1;33m\u001b[0m\u001b[0m\n",
      "\u001b[1;32m~\\anaconda3\\envs\\tf2.0\\lib\\site-packages\\sklearn\\metrics\\_classification.py\u001b[0m in \u001b[0;36maccuracy_score\u001b[1;34m(y_true, y_pred, normalize, sample_weight)\u001b[0m\n\u001b[0;32m    200\u001b[0m \u001b[1;33m\u001b[0m\u001b[0m\n\u001b[0;32m    201\u001b[0m     \u001b[1;31m# Compute accuracy for each possible representation\u001b[0m\u001b[1;33m\u001b[0m\u001b[1;33m\u001b[0m\u001b[1;33m\u001b[0m\u001b[0m\n\u001b[1;32m--> 202\u001b[1;33m     \u001b[0my_type\u001b[0m\u001b[1;33m,\u001b[0m \u001b[0my_true\u001b[0m\u001b[1;33m,\u001b[0m \u001b[0my_pred\u001b[0m \u001b[1;33m=\u001b[0m \u001b[0m_check_targets\u001b[0m\u001b[1;33m(\u001b[0m\u001b[0my_true\u001b[0m\u001b[1;33m,\u001b[0m \u001b[0my_pred\u001b[0m\u001b[1;33m)\u001b[0m\u001b[1;33m\u001b[0m\u001b[1;33m\u001b[0m\u001b[0m\n\u001b[0m\u001b[0;32m    203\u001b[0m     \u001b[0mcheck_consistent_length\u001b[0m\u001b[1;33m(\u001b[0m\u001b[0my_true\u001b[0m\u001b[1;33m,\u001b[0m \u001b[0my_pred\u001b[0m\u001b[1;33m,\u001b[0m \u001b[0msample_weight\u001b[0m\u001b[1;33m)\u001b[0m\u001b[1;33m\u001b[0m\u001b[1;33m\u001b[0m\u001b[0m\n\u001b[0;32m    204\u001b[0m     \u001b[1;32mif\u001b[0m \u001b[0my_type\u001b[0m\u001b[1;33m.\u001b[0m\u001b[0mstartswith\u001b[0m\u001b[1;33m(\u001b[0m\u001b[1;34m'multilabel'\u001b[0m\u001b[1;33m)\u001b[0m\u001b[1;33m:\u001b[0m\u001b[1;33m\u001b[0m\u001b[1;33m\u001b[0m\u001b[0m\n",
      "\u001b[1;32m~\\anaconda3\\envs\\tf2.0\\lib\\site-packages\\sklearn\\metrics\\_classification.py\u001b[0m in \u001b[0;36m_check_targets\u001b[1;34m(y_true, y_pred)\u001b[0m\n\u001b[0;32m     91\u001b[0m     \u001b[1;32mif\u001b[0m \u001b[0mlen\u001b[0m\u001b[1;33m(\u001b[0m\u001b[0my_type\u001b[0m\u001b[1;33m)\u001b[0m \u001b[1;33m>\u001b[0m \u001b[1;36m1\u001b[0m\u001b[1;33m:\u001b[0m\u001b[1;33m\u001b[0m\u001b[1;33m\u001b[0m\u001b[0m\n\u001b[0;32m     92\u001b[0m         raise ValueError(\"Classification metrics can't handle a mix of {0} \"\n\u001b[1;32m---> 93\u001b[1;33m                          \"and {1} targets\".format(type_true, type_pred))\n\u001b[0m\u001b[0;32m     94\u001b[0m \u001b[1;33m\u001b[0m\u001b[0m\n\u001b[0;32m     95\u001b[0m     \u001b[1;31m# We can't have more than one value on y_type => The set is no more needed\u001b[0m\u001b[1;33m\u001b[0m\u001b[1;33m\u001b[0m\u001b[1;33m\u001b[0m\u001b[0m\n",
      "\u001b[1;31mValueError\u001b[0m: Classification metrics can't handle a mix of multilabel-indicator and continuous-multioutput targets"
     ]
    }
   ],
   "source": [
    "testacc= accuracy_score(y_test,test_predictions)"
   ]
  },
  {
   "cell_type": "code",
   "execution_count": 12,
   "metadata": {
    "ExecuteTime": {
     "end_time": "2021-10-01T17:29:47.954639Z",
     "start_time": "2021-10-01T17:29:47.928660Z"
    }
   },
   "outputs": [
    {
     "name": "stdout",
     "output_type": "stream",
     "text": [
      "Tests require pytest, pytest not installed\n"
     ]
    },
    {
     "data": {
      "text/plain": [
       "1"
      ]
     },
     "execution_count": 12,
     "metadata": {},
     "output_type": "execute_result"
    }
   ],
   "source": [
    "import h5py\n",
    "h5py.run_tests()\n"
   ]
  },
  {
   "cell_type": "code",
   "execution_count": null,
   "metadata": {},
   "outputs": [],
   "source": []
  }
 ],
 "metadata": {
  "accelerator": "GPU",
  "colab": {
   "collapsed_sections": [],
   "name": "Digit Recognizer kaggle.ipynb",
   "provenance": []
  },
  "hide_input": false,
  "kernelspec": {
   "display_name": "Python 3 (ipykernel)",
   "language": "python",
   "name": "python3"
  },
  "language_info": {
   "codemirror_mode": {
    "name": "ipython",
    "version": 3
   },
   "file_extension": ".py",
   "mimetype": "text/x-python",
   "name": "python",
   "nbconvert_exporter": "python",
   "pygments_lexer": "ipython3",
   "version": "3.7.11"
  },
  "toc": {
   "base_numbering": 1,
   "nav_menu": {},
   "number_sections": true,
   "sideBar": true,
   "skip_h1_title": false,
   "title_cell": "Table of Contents",
   "title_sidebar": "Contents",
   "toc_cell": false,
   "toc_position": {
    "height": "calc(100% - 180px)",
    "left": "10px",
    "top": "150px",
    "width": "261.804px"
   },
   "toc_section_display": true,
   "toc_window_display": true
  },
  "varInspector": {
   "cols": {
    "lenName": 16,
    "lenType": 16,
    "lenVar": 40
   },
   "kernels_config": {
    "python": {
     "delete_cmd_postfix": "",
     "delete_cmd_prefix": "del ",
     "library": "var_list.py",
     "varRefreshCmd": "print(var_dic_list())"
    },
    "r": {
     "delete_cmd_postfix": ") ",
     "delete_cmd_prefix": "rm(",
     "library": "var_list.r",
     "varRefreshCmd": "cat(var_dic_list()) "
    }
   },
   "types_to_exclude": [
    "module",
    "function",
    "builtin_function_or_method",
    "instance",
    "_Feature"
   ],
   "window_display": false
  }
 },
 "nbformat": 4,
 "nbformat_minor": 1
}
